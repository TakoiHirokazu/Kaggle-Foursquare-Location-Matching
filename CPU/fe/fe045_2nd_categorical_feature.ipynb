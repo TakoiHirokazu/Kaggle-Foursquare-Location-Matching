{
 "cells": [
  {
   "cell_type": "code",
   "execution_count": 1,
   "id": "52b787e2",
   "metadata": {},
   "outputs": [
    {
     "data": {
      "text/html": [
       "<style type='text/css'>\n",
       ".datatable table.frame { margin-bottom: 0; }\n",
       ".datatable table.frame thead { border-bottom: none; }\n",
       ".datatable table.frame tr.coltypes td {  color: #FFFFFF;  line-height: 6px;  padding: 0 0.5em;}\n",
       ".datatable .bool    { background: #DDDD99; }\n",
       ".datatable .object  { background: #565656; }\n",
       ".datatable .int     { background: #5D9E5D; }\n",
       ".datatable .float   { background: #4040CC; }\n",
       ".datatable .str     { background: #CC4040; }\n",
       ".datatable .time    { background: #40CC40; }\n",
       ".datatable .row_index {  background: var(--jp-border-color3);  border-right: 1px solid var(--jp-border-color0);  color: var(--jp-ui-font-color3);  font-size: 9px;}\n",
       ".datatable .frame tbody td { text-align: left; }\n",
       ".datatable .frame tr.coltypes .row_index {  background: var(--jp-border-color0);}\n",
       ".datatable th:nth-child(2) { padding-left: 12px; }\n",
       ".datatable .hellipsis {  color: var(--jp-cell-editor-border-color);}\n",
       ".datatable .vellipsis {  background: var(--jp-layout-color0);  color: var(--jp-cell-editor-border-color);}\n",
       ".datatable .na {  color: var(--jp-cell-editor-border-color);  font-size: 80%;}\n",
       ".datatable .sp {  opacity: 0.25;}\n",
       ".datatable .footer { font-size: 9px; }\n",
       ".datatable .frame_dimensions {  background: var(--jp-border-color3);  border-top: 1px solid var(--jp-border-color0);  color: var(--jp-ui-font-color3);  display: inline-block;  opacity: 0.6;  padding: 1px 10px 1px 5px;}\n",
       "</style>\n"
      ],
      "text/plain": [
       "<IPython.core.display.HTML object>"
      ]
     },
     "metadata": {},
     "output_type": "display_data"
    }
   ],
   "source": [
    "# =========================\n",
    "# Library\n",
    "# =========================\n",
    "import pandas as pd\n",
    "import numpy as np\n",
    "import matplotlib.pyplot as plt\n",
    "from tqdm.auto import tqdm\n",
    "import os\n",
    "import gc\n",
    "import random\n",
    "from glob import glob\n",
    "from sklearn.model_selection import GroupKFold, KFold, StratifiedKFold\n",
    "import warnings\n",
    "import seaborn as sns\n",
    "import pickle\n",
    "import json\n",
    "import re\n",
    "import time\n",
    "import sys\n",
    "from requests import get\n",
    "import multiprocessing\n",
    "import joblib\n",
    "from joblib import Parallel, delayed\n",
    "import Levenshtein\n",
    "import difflib\n",
    "from contextlib import contextmanager\n",
    "from sklearn.neighbors import KNeighborsRegressor\n",
    "from sklearn.metrics import log_loss\n",
    "from strsimpy import SIFT4\n",
    "from strsimpy.ngram import NGram\n",
    "from sklearn.metrics.pairwise import cosine_similarity\n",
    "import unicodedata\n",
    "import pickle\n",
    "warnings.filterwarnings('ignore')\n",
    "import sys\n",
    "sys.path.append(\"../src/\")\n",
    "from logger import setup_logger, LOGGER\n",
    "from trainer import train_lgbm\n",
    "from util_tool import reduce_mem_usage\n",
    "pd.set_option('display.max_columns', 300)"
   ]
  },
  {
   "cell_type": "code",
   "execution_count": 2,
   "id": "14fbb4f6",
   "metadata": {},
   "outputs": [],
   "source": [
    "# =========================\n",
    "# Constant\n",
    "# =========================\n",
    "TRAIN_PATH = \"../data/train.csv\"\n",
    "TARGET = \"point_of_interest\""
   ]
  },
  {
   "cell_type": "code",
   "execution_count": 3,
   "id": "a7d25d8c",
   "metadata": {},
   "outputs": [],
   "source": [
    "# =========================\n",
    "# Settings\n",
    "# =========================\n",
    "fe = \"045\"\n",
    "if not os.path.exists(f\"../output/fe/fe{fe}\"):\n",
    "    os.makedirs(f\"../output/fe/fe{fe}\")"
   ]
  },
  {
   "cell_type": "code",
   "execution_count": 5,
   "id": "a8a9a8af",
   "metadata": {},
   "outputs": [],
   "source": [
    "# =========================\n",
    "# Main\n",
    "# =========================\n",
    "train_raw = pd.read_csv(TRAIN_PATH)"
   ]
  },
  {
   "cell_type": "code",
   "execution_count": 6,
   "id": "78af7819-4758-497a-a40d-5dde6941d57b",
   "metadata": {},
   "outputs": [],
   "source": [
    "for c in [\"city\",\"state\",\"country\",\"categories\"]:\n",
    "    train_count = train_raw[c].value_counts().reset_index()\n",
    "    train_count.columns = [c,\"count\"]\n",
    "    train_count = train_count[(train_count[\"count\"] >= 100)].reset_index(drop=True)   \n",
    "    c_dict = {}\n",
    "    for n,i in enumerate(train_count[c].values):\n",
    "        c_dict[i] = n\n",
    "    #train[f\"{c}_label\"] = train[c].map(c_dict)\n",
    "    #train[f\"near_{c}_label\"] = train[f\"near_{c}\"].map(c_dict)\n",
    "    with open(f'../output/fe/fe{fe}/fe{fe}_{c}.pkl', 'wb') as p:\n",
    "        pickle.dump(c_dict, p)"
   ]
  },
  {
   "cell_type": "code",
   "execution_count": null,
   "id": "7348ebbf-059c-4548-9f89-3b75cba3ac01",
   "metadata": {},
   "outputs": [],
   "source": []
  }
 ],
 "metadata": {
  "kernelspec": {
   "display_name": "Python 3 (ipykernel)",
   "language": "python",
   "name": "python3"
  },
  "language_info": {
   "codemirror_mode": {
    "name": "ipython",
    "version": 3
   },
   "file_extension": ".py",
   "mimetype": "text/x-python",
   "name": "python",
   "nbconvert_exporter": "python",
   "pygments_lexer": "ipython3",
   "version": "3.7.12"
  }
 },
 "nbformat": 4,
 "nbformat_minor": 5
}
