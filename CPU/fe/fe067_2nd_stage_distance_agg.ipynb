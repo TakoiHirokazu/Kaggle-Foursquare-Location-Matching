{
 "cells": [
  {
   "cell_type": "code",
   "execution_count": 1,
   "id": "52b787e2",
   "metadata": {},
   "outputs": [
    {
     "data": {
      "text/html": [
       "<style type='text/css'>\n",
       ".datatable table.frame { margin-bottom: 0; }\n",
       ".datatable table.frame thead { border-bottom: none; }\n",
       ".datatable table.frame tr.coltypes td {  color: #FFFFFF;  line-height: 6px;  padding: 0 0.5em;}\n",
       ".datatable .bool    { background: #DDDD99; }\n",
       ".datatable .object  { background: #565656; }\n",
       ".datatable .int     { background: #5D9E5D; }\n",
       ".datatable .float   { background: #4040CC; }\n",
       ".datatable .str     { background: #CC4040; }\n",
       ".datatable .time    { background: #40CC40; }\n",
       ".datatable .row_index {  background: var(--jp-border-color3);  border-right: 1px solid var(--jp-border-color0);  color: var(--jp-ui-font-color3);  font-size: 9px;}\n",
       ".datatable .frame tbody td { text-align: left; }\n",
       ".datatable .frame tr.coltypes .row_index {  background: var(--jp-border-color0);}\n",
       ".datatable th:nth-child(2) { padding-left: 12px; }\n",
       ".datatable .hellipsis {  color: var(--jp-cell-editor-border-color);}\n",
       ".datatable .vellipsis {  background: var(--jp-layout-color0);  color: var(--jp-cell-editor-border-color);}\n",
       ".datatable .na {  color: var(--jp-cell-editor-border-color);  font-size: 80%;}\n",
       ".datatable .sp {  opacity: 0.25;}\n",
       ".datatable .footer { font-size: 9px; }\n",
       ".datatable .frame_dimensions {  background: var(--jp-border-color3);  border-top: 1px solid var(--jp-border-color0);  color: var(--jp-ui-font-color3);  display: inline-block;  opacity: 0.6;  padding: 1px 10px 1px 5px;}\n",
       "</style>\n"
      ],
      "text/plain": [
       "<IPython.core.display.HTML object>"
      ]
     },
     "metadata": {},
     "output_type": "display_data"
    }
   ],
   "source": [
    "# =========================\n",
    "# Library\n",
    "# =========================\n",
    "import pandas as pd\n",
    "import numpy as np\n",
    "import matplotlib.pyplot as plt\n",
    "from tqdm.auto import tqdm\n",
    "import os\n",
    "import gc\n",
    "import random\n",
    "from glob import glob\n",
    "from sklearn.model_selection import GroupKFold, KFold, StratifiedKFold\n",
    "import warnings\n",
    "import seaborn as sns\n",
    "import pickle\n",
    "import json\n",
    "import re\n",
    "import time\n",
    "import sys\n",
    "from requests import get\n",
    "import multiprocessing\n",
    "import joblib\n",
    "from joblib import Parallel, delayed\n",
    "import Levenshtein\n",
    "import difflib\n",
    "from contextlib import contextmanager\n",
    "from sklearn.neighbors import KNeighborsRegressor\n",
    "from sklearn.metrics import log_loss\n",
    "from strsimpy import SIFT4\n",
    "from strsimpy.ngram import NGram\n",
    "from sklearn.metrics.pairwise import cosine_similarity\n",
    "warnings.filterwarnings('ignore')\n",
    "import sys\n",
    "sys.path.append(\"../src/\")\n",
    "from logger import setup_logger, LOGGER\n",
    "from trainer import train_lgbm\n",
    "from util_tool import reduce_mem_usage\n",
    "pd.set_option('display.max_columns', 300)"
   ]
  },
  {
   "cell_type": "code",
   "execution_count": 2,
   "id": "14fbb4f6",
   "metadata": {},
   "outputs": [],
   "source": [
    "# =========================\n",
    "# Constant\n",
    "# =========================\n",
    "TRAIN_PATH = \"../data/train.csv\"\n",
    "TARGET = \"point_of_interest\""
   ]
  },
  {
   "cell_type": "code",
   "execution_count": 3,
   "id": "a7d25d8c",
   "metadata": {},
   "outputs": [],
   "source": [
    "# =========================\n",
    "# Settings\n",
    "# =========================\n",
    "fe = \"067\""
   ]
  },
  {
   "cell_type": "code",
   "execution_count": 10,
   "id": "a8a9a8af",
   "metadata": {},
   "outputs": [],
   "source": [
    "# ==============================\n",
    "# Main\n",
    "# ==============================\n",
    "train = pd.read_pickle(\"../output/fe/fe066.pkl\") "
   ]
  },
  {
   "cell_type": "code",
   "execution_count": 13,
   "id": "179b828a-1ba1-468b-838e-5147b2cced17",
   "metadata": {},
   "outputs": [],
   "source": [
    "train[\"id\"] = train[\"id\"].astype(\"category\")\n",
    "train[\"near_id\"] = train[\"near_id\"].astype(\"category\")"
   ]
  },
  {
   "cell_type": "code",
   "execution_count": 15,
   "id": "5b60ce77-6c9c-4e6d-b48b-5e9e29dc702d",
   "metadata": {},
   "outputs": [
    {
     "data": {
      "application/vnd.jupyter.widget-view+json": {
       "model_id": "35ce1757d46f4bc88edae760a36b6584",
       "version_major": 2,
       "version_minor": 0
      },
      "text/plain": [
       "  0%|          | 0/2 [00:00<?, ?it/s]"
      ]
     },
     "metadata": {},
     "output_type": "display_data"
    }
   ],
   "source": [
    "for c in tqdm([\"name\",\"categories\"]):\n",
    "    for d in [\"gesh\",\"leven\",\"jaro\"]:\n",
    "        if d == \"leven\":\n",
    "            tmp_mean = train.groupby(by=\"id\")[f\"{c}_{d}\"].mean().to_dict()\n",
    "            tmp_min = train.groupby(by=\"id\")[f\"{c}_{d}\"].min().to_dict()\n",
    "            train[f\"{c}_{d}_mean\"] = train[\"id\"].map(tmp_mean)\n",
    "            train[f\"{c}_{d}_min\"] = train[\"id\"].map(tmp_min)\n",
    "            train[f\"near_{c}_{d}_mean\"] = train[\"near_id\"].map(tmp_mean)\n",
    "            train[f\"near_{c}_{d}_min\"] = train[\"near_id\"].map(tmp_min)\n",
    "            train[f\"{c}_{d}_mean_rate\"] = train[f\"{c}_{d}\"] / train[f\"{c}_{d}_mean\"]\n",
    "            train[f\"{c}_{d}_min_rate\"] = train[f\"{c}_{d}\"] / train[f\"{c}_{d}_min\"]\n",
    "            train[f\"near_{c}_{d}_mean_rate\"] = train[f\"{c}_{d}\"] / train[f\"near_{c}_{d}_mean\"]\n",
    "            train[f\"near_{c}_{d}_min_rate\"] = train[f\"{c}_{d}\"] / train[f\"near_{c}_{d}_min\"]\n",
    "        else:\n",
    "            tmp_mean = train.groupby(by=\"id\")[f\"{c}_{d}\"].mean().to_dict()\n",
    "            tmp_max = train.groupby(by=\"id\")[f\"{c}_{d}\"].max().to_dict()\n",
    "            train[f\"{c}_{d}_mean\"] = train[\"id\"].map(tmp_mean)\n",
    "            train[f\"{c}_{d}_max\"] = train[\"id\"].map(tmp_max)\n",
    "            train[f\"near_{c}_{d}_mean\"] = train[\"near_id\"].map(tmp_mean)\n",
    "            train[f\"near_{c}_{d}_max\"] = train[\"near_id\"].map(tmp_max)\n",
    "            train[f\"{c}_{d}_mean_rate\"] = train[f\"{c}_{d}\"] / train[f\"{c}_{d}_mean\"]\n",
    "            train[f\"{c}_{d}_max_rate\"] = train[f\"{c}_{d}\"] / train[f\"{c}_{d}_max\"]\n",
    "            train[f\"near_{c}_{d}_mean_rate\"] = train[f\"{c}_{d}\"] / train[f\"near_{c}_{d}_mean\"]\n",
    "            train[f\"near_{c}_{d}_max_rate\"] = train[f\"{c}_{d}\"] / train[f\"near_{c}_{d}_max\"]\n",
    "            \n",
    "for c in [\"d_near\",\"distance\"]:\n",
    "    tmp_mean = train.groupby(by=\"id\")[c].mean().to_dict()\n",
    "    tmp_min = train.groupby(by=\"id\")[c].min().to_dict()\n",
    "    train[f\"{c}_mean\"] = train[\"id\"].map(tmp_mean)\n",
    "    train[f\"{c}_min\"] = train[\"id\"].map(tmp_min)\n",
    "    train[f\"near_{c}_mean\"] = train[\"near_id\"].map(tmp_mean)\n",
    "    train[f\"near_{c}_min\"] = train[\"near_id\"].map(tmp_min)\n",
    "    \n",
    "    train[f\"{c}_mean_rate\"] = train[f\"{c}\"] / train[f\"{c}_mean\"]\n",
    "    train[f\"{c}_min_rate\"] = train[f\"{c}\"] / train[f\"{c}_min\"]\n",
    "    train[f\"near_{c}_mean_rate\"] = train[f\"{c}\"] / train[f\"near_{c}_mean\"]\n",
    "    train[f\"near_{c}_min_rate\"] = train[f\"{c}\"] / train[f\"near_{c}_min\"]"
   ]
  },
  {
   "cell_type": "code",
   "execution_count": 16,
   "id": "8f67486f-f7bf-4134-938b-341a902b399b",
   "metadata": {},
   "outputs": [],
   "source": [
    "new_cols = [ 'name_gesh_mean', 'name_gesh_max', 'near_name_gesh_mean',\n",
    "       'near_name_gesh_max', 'name_gesh_mean_rate', 'name_gesh_max_rate',\n",
    "       'near_name_gesh_mean_rate', 'near_name_gesh_max_rate',\n",
    "       'name_leven_mean', 'name_leven_min', 'near_name_leven_mean',\n",
    "       'near_name_leven_min', 'name_leven_mean_rate', 'name_leven_min_rate',\n",
    "       'near_name_leven_mean_rate', 'near_name_leven_min_rate',\n",
    "       'name_jaro_mean', 'name_jaro_max', 'near_name_jaro_mean',\n",
    "       'near_name_jaro_max', 'name_jaro_mean_rate', 'name_jaro_max_rate',\n",
    "       'near_name_jaro_mean_rate', 'near_name_jaro_max_rate',\n",
    "       'categories_gesh_mean', 'categories_gesh_max',\n",
    "       'near_categories_gesh_mean', 'near_categories_gesh_max',\n",
    "       'categories_gesh_mean_rate', 'categories_gesh_max_rate',\n",
    "       'near_categories_gesh_mean_rate', 'near_categories_gesh_max_rate',\n",
    "       'categories_leven_mean', 'categories_leven_min',\n",
    "       'near_categories_leven_mean', 'near_categories_leven_min',\n",
    "       'categories_leven_mean_rate', 'categories_leven_min_rate',\n",
    "       'near_categories_leven_mean_rate', 'near_categories_leven_min_rate',\n",
    "       'categories_jaro_mean', 'categories_jaro_max',\n",
    "       'near_categories_jaro_mean', 'near_categories_jaro_max',\n",
    "       'categories_jaro_mean_rate', 'categories_jaro_max_rate',\n",
    "       'near_categories_jaro_mean_rate', 'near_categories_jaro_max_rate',\n",
    "       'd_near_mean', 'd_near_min', 'near_d_near_mean', 'near_d_near_min',\n",
    "       'd_near_mean_rate', 'd_near_min_rate', 'near_d_near_mean_rate',\n",
    "       'near_d_near_min_rate','distance_mean',\n",
    "       'distance_min', 'near_distance_mean', 'near_distance_min',\n",
    "       'distance_mean_rate', 'distance_min_rate', 'near_distance_mean_rate',\n",
    "       'near_distance_min_rate']"
   ]
  },
  {
   "cell_type": "code",
   "execution_count": 17,
   "id": "572a1b6f",
   "metadata": {},
   "outputs": [
    {
     "name": "stdout",
     "output_type": "stream",
     "text": [
      "Memory usage of dataframe is 34136.37 MB\n",
      "column =  120\n",
      "0\n",
      "50\n",
      "100\n",
      "Memory usage after optimization is: 23517.68 MB\n",
      "Decreased by 31.1%\n"
     ]
    }
   ],
   "source": [
    "train = reduce_mem_usage(train)\n",
    "train[new_cols].to_pickle(f\"../output/fe/fe{fe}.pkl\")"
   ]
  },
  {
   "cell_type": "code",
   "execution_count": null,
   "id": "3b789a00-f040-45a5-a5bc-c51b8f0867f8",
   "metadata": {},
   "outputs": [],
   "source": []
  }
 ],
 "metadata": {
  "kernelspec": {
   "display_name": "Python 3 (ipykernel)",
   "language": "python",
   "name": "python3"
  },
  "language_info": {
   "codemirror_mode": {
    "name": "ipython",
    "version": 3
   },
   "file_extension": ".py",
   "mimetype": "text/x-python",
   "name": "python",
   "nbconvert_exporter": "python",
   "pygments_lexer": "ipython3",
   "version": "3.7.12"
  }
 },
 "nbformat": 4,
 "nbformat_minor": 5
}
