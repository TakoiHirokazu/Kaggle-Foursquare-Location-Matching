{
 "cells": [
  {
   "cell_type": "code",
   "execution_count": 1,
   "id": "52b787e2",
   "metadata": {},
   "outputs": [
    {
     "data": {
      "text/html": [
       "<style type='text/css'>\n",
       ".datatable table.frame { margin-bottom: 0; }\n",
       ".datatable table.frame thead { border-bottom: none; }\n",
       ".datatable table.frame tr.coltypes td {  color: #FFFFFF;  line-height: 6px;  padding: 0 0.5em;}\n",
       ".datatable .bool    { background: #DDDD99; }\n",
       ".datatable .object  { background: #565656; }\n",
       ".datatable .int     { background: #5D9E5D; }\n",
       ".datatable .float   { background: #4040CC; }\n",
       ".datatable .str     { background: #CC4040; }\n",
       ".datatable .time    { background: #40CC40; }\n",
       ".datatable .row_index {  background: var(--jp-border-color3);  border-right: 1px solid var(--jp-border-color0);  color: var(--jp-ui-font-color3);  font-size: 9px;}\n",
       ".datatable .frame tbody td { text-align: left; }\n",
       ".datatable .frame tr.coltypes .row_index {  background: var(--jp-border-color0);}\n",
       ".datatable th:nth-child(2) { padding-left: 12px; }\n",
       ".datatable .hellipsis {  color: var(--jp-cell-editor-border-color);}\n",
       ".datatable .vellipsis {  background: var(--jp-layout-color0);  color: var(--jp-cell-editor-border-color);}\n",
       ".datatable .na {  color: var(--jp-cell-editor-border-color);  font-size: 80%;}\n",
       ".datatable .sp {  opacity: 0.25;}\n",
       ".datatable .footer { font-size: 9px; }\n",
       ".datatable .frame_dimensions {  background: var(--jp-border-color3);  border-top: 1px solid var(--jp-border-color0);  color: var(--jp-ui-font-color3);  display: inline-block;  opacity: 0.6;  padding: 1px 10px 1px 5px;}\n",
       "</style>\n"
      ],
      "text/plain": [
       "<IPython.core.display.HTML object>"
      ]
     },
     "metadata": {},
     "output_type": "display_data"
    }
   ],
   "source": [
    "# =========================\n",
    "# Library\n",
    "# =========================\n",
    "import pandas as pd\n",
    "import numpy as np\n",
    "import matplotlib.pyplot as plt\n",
    "from tqdm.auto import tqdm\n",
    "import os\n",
    "import gc\n",
    "import random\n",
    "from glob import glob\n",
    "from sklearn.model_selection import GroupKFold, KFold, StratifiedKFold\n",
    "import warnings\n",
    "import seaborn as sns\n",
    "import pickle\n",
    "import json\n",
    "import re\n",
    "import time\n",
    "import sys\n",
    "from requests import get\n",
    "import multiprocessing\n",
    "import joblib\n",
    "from joblib import Parallel, delayed\n",
    "import Levenshtein\n",
    "import difflib\n",
    "from contextlib import contextmanager\n",
    "from sklearn.neighbors import KNeighborsRegressor\n",
    "from sklearn.metrics import log_loss\n",
    "import unicodedata\n",
    "warnings.filterwarnings('ignore')\n",
    "import sys\n",
    "sys.path.append(\"../src/\")\n",
    "from logger import setup_logger, LOGGER\n",
    "from trainer import train_lgbm\n",
    "from util_tool import reduce_mem_usage\n",
    "pd.set_option('display.max_columns', 300)"
   ]
  },
  {
   "cell_type": "code",
   "execution_count": 2,
   "id": "14fbb4f6",
   "metadata": {},
   "outputs": [],
   "source": [
    "# =========================\n",
    "# Constant\n",
    "# =========================\n",
    "TRAIN_PATH = \"../data/train.csv\"\n",
    "TARGET = \"point_of_interest\""
   ]
  },
  {
   "cell_type": "code",
   "execution_count": 3,
   "id": "a7d25d8c",
   "metadata": {},
   "outputs": [],
   "source": [
    "# =========================\n",
    "# Settings\n",
    "# =========================\n",
    "fe = \"066\"\n",
    "train_neighbor_path_place = f\"../output/exp/exp037_first_stage30.pkl\"\n",
    "train_neighbor_path_name = f\"../output/exp/exp061_first_stage30.pkl\""
   ]
  },
  {
   "cell_type": "code",
   "execution_count": 4,
   "id": "e307afc1",
   "metadata": {},
   "outputs": [],
   "source": [
    "# =========================\n",
    "# Functions\n",
    "# =========================\n",
    "def calc_distance_2nd_stage(c1,c2):\n",
    "    c1 = text_preprocess(c1)\n",
    "    c2 = text_preprocess(c2)\n",
    "    if (str(c1) != \"nan\") and (str(c2) != \"nan\"):\n",
    "        return np.array([difflib.SequenceMatcher(None, str(c1), str(c2)).ratio(),\n",
    "                Levenshtein.distance(str(c1), str(c2)),\n",
    "                Levenshtein.jaro_winkler(str(c1), str(c2))]).reshape(1,-1)\n",
    "    else:\n",
    "        return np.array([np.nan,np.nan,np.nan]).reshape(1,-1)\n",
    "    \n",
    "def text_preprocess(text):\n",
    "    text = str(text)\n",
    "    text = text.replace(\" \",\"\")\n",
    "    text = text.lower()\n",
    "    text = unicodedata.normalize(\"NFKC\",text)\n",
    "    return text"
   ]
  },
  {
   "cell_type": "code",
   "execution_count": 5,
   "id": "a8a9a8af",
   "metadata": {},
   "outputs": [],
   "source": [
    "train_place = pd.read_pickle(train_neighbor_path_place)\n",
    "train_name = pd.read_pickle(train_neighbor_path_name)"
   ]
  },
  {
   "cell_type": "code",
   "execution_count": 6,
   "id": "48b59e7d-5190-4357-a1a1-69249d6eba52",
   "metadata": {},
   "outputs": [],
   "source": [
    "train_place[\"id_near_id\"] = train_place[\"id\"].astype(str) + \"-\" + train_place[\"near_id\"].astype(str)\n",
    "train_name[\"id_near_id\"] = train_name[\"id\"].astype(str) + \"-\" + train_name[\"near_id\"].astype(str)"
   ]
  },
  {
   "cell_type": "code",
   "execution_count": 9,
   "id": "fcee2264-33c7-43b5-acf3-eab21ed864ec",
   "metadata": {},
   "outputs": [],
   "source": [
    "# 20以下\n",
    "train_name = train_name[train_name[\"oof_rank\"] <= 20].reset_index(drop=True)\n",
    "train_place = train_place[train_place[\"oof_rank\"] <= 20].reset_index(drop=True)\n",
    "name_cols = ['id', 'name', 'latitude', 'longitude', 'point_of_interest',\n",
    "       'set', 'rank', 'd_near', 'near_target', 'near_id',\n",
    "       'near_name', 'near_latitude', 'near_longitude',\n",
    "       'target']\n",
    "place_cols = ['id', 'name', 'latitude', 'longitude', 'point_of_interest',\n",
    "       'set','near_target', 'near_id',\n",
    "       'near_name', 'near_latitude', 'near_longitude',\n",
    "       'target']\n",
    "train_concat = pd.concat([train_name[name_cols],\n",
    "                          train_place[place_cols]]).reset_index(drop=True)\n",
    "train_concat = train_concat.drop_duplicates(subset=[\"id\",\"near_id\"]).reset_index(drop=True)"
   ]
  },
  {
   "cell_type": "code",
   "execution_count": 10,
   "id": "48d8fb8e-fe0d-4f08-978b-aab6c1698c4e",
   "metadata": {},
   "outputs": [
    {
     "data": {
      "text/plain": [
       "43"
      ]
     },
     "execution_count": 10,
     "metadata": {},
     "output_type": "execute_result"
    }
   ],
   "source": [
    "del train_name,train_place\n",
    "gc.collect()"
   ]
  },
  {
   "cell_type": "code",
   "execution_count": 13,
   "id": "c6ba65f0-2cb4-4234-a8f4-b3331ff6b347",
   "metadata": {},
   "outputs": [],
   "source": [
    "train_raw = pd.read_csv(TRAIN_PATH)\n",
    "use_cols = [\"id\",\"address\",\"city\",\"state\",\"zip\",\"country\",\"url\",\"phone\",'categories']\n",
    "train_raw = train_raw[use_cols]"
   ]
  },
  {
   "cell_type": "code",
   "execution_count": 14,
   "id": "070d962a-f4a6-4829-9fa6-d64f832391d9",
   "metadata": {},
   "outputs": [],
   "source": [
    "train_raw[\"id\"] = train_raw[\"id\"].astype(\"category\")"
   ]
  },
  {
   "cell_type": "code",
   "execution_count": 15,
   "id": "90b7e624-e9eb-461a-887c-b200372ad879",
   "metadata": {},
   "outputs": [],
   "source": [
    "train_concat[\"near_id\"] = train_concat[\"near_id\"].astype(\"category\")"
   ]
  },
  {
   "cell_type": "code",
   "execution_count": 16,
   "id": "fcfebf8f-e8cb-4141-b9f2-133af0396b08",
   "metadata": {},
   "outputs": [
    {
     "data": {
      "text/plain": [
       "Index(['id', 'name', 'latitude', 'longitude', 'point_of_interest', 'set',\n",
       "       'rank', 'd_near', 'near_target', 'near_id', 'near_name',\n",
       "       'near_latitude', 'near_longitude', 'target'],\n",
       "      dtype='object')"
      ]
     },
     "execution_count": 16,
     "metadata": {},
     "output_type": "execute_result"
    }
   ],
   "source": [
    "train_concat.columns"
   ]
  },
  {
   "cell_type": "code",
   "execution_count": 17,
   "id": "8bf6061e-e37e-4da5-a305-280304979868",
   "metadata": {},
   "outputs": [],
   "source": [
    "train_concat = train_concat.merge(train_raw,how=\"left\",on=\"id\")\n",
    "train_raw.columns = [f\"near_{i}\" for i in train_raw.columns]\n"
   ]
  },
  {
   "cell_type": "code",
   "execution_count": 18,
   "id": "aa956b2e-b5e7-44ec-8ff0-5bbdc36d2bb1",
   "metadata": {},
   "outputs": [],
   "source": [
    "train_concat = train_concat.merge(train_raw,how=\"left\",on=\"near_id\")"
   ]
  },
  {
   "cell_type": "code",
   "execution_count": 22,
   "id": "813a6fc5",
   "metadata": {},
   "outputs": [
    {
     "name": "stderr",
     "output_type": "stream",
     "text": [
      "[Parallel(n_jobs=48)]: Using backend MultiprocessingBackend with 48 concurrent workers.\n",
      "[Parallel(n_jobs=48)]: Done 115 tasks      | elapsed:    0.2s\n",
      "[Parallel(n_jobs=48)]: Done 1236 tasks      | elapsed:    0.3s\n",
      "[Parallel(n_jobs=48)]: Done 16416 tasks      | elapsed:    0.7s\n",
      "[Parallel(n_jobs=48)]: Done 197536 tasks      | elapsed:    4.3s\n",
      "[Parallel(n_jobs=48)]: Done 479136 tasks      | elapsed:    9.5s\n",
      "[Parallel(n_jobs=48)]: Done 811936 tasks      | elapsed:   15.7s\n",
      "[Parallel(n_jobs=48)]: Done 1195936 tasks      | elapsed:   23.0s\n",
      "[Parallel(n_jobs=48)]: Done 1631136 tasks      | elapsed:   31.0s\n",
      "[Parallel(n_jobs=48)]: Done 2117536 tasks      | elapsed:   39.9s\n",
      "[Parallel(n_jobs=48)]: Done 2655136 tasks      | elapsed:   49.5s\n",
      "[Parallel(n_jobs=48)]: Done 3243936 tasks      | elapsed:  1.0min\n",
      "[Parallel(n_jobs=48)]: Done 3883936 tasks      | elapsed:  1.2min\n",
      "[Parallel(n_jobs=48)]: Done 4575136 tasks      | elapsed:  1.4min\n",
      "[Parallel(n_jobs=48)]: Done 5317536 tasks      | elapsed:  1.6min\n",
      "[Parallel(n_jobs=48)]: Done 6111136 tasks      | elapsed:  1.9min\n",
      "[Parallel(n_jobs=48)]: Done 6955936 tasks      | elapsed:  2.1min\n",
      "[Parallel(n_jobs=48)]: Done 7851936 tasks      | elapsed:  2.4min\n",
      "[Parallel(n_jobs=48)]: Done 8799136 tasks      | elapsed:  2.7min\n",
      "[Parallel(n_jobs=48)]: Done 9797536 tasks      | elapsed:  2.9min\n",
      "[Parallel(n_jobs=48)]: Done 10847136 tasks      | elapsed:  3.3min\n",
      "[Parallel(n_jobs=48)]: Done 11947936 tasks      | elapsed:  3.6min\n",
      "[Parallel(n_jobs=48)]: Done 13099936 tasks      | elapsed:  4.0min\n",
      "[Parallel(n_jobs=48)]: Done 14303136 tasks      | elapsed:  4.3min\n",
      "[Parallel(n_jobs=48)]: Done 15557536 tasks      | elapsed:  4.7min\n",
      "[Parallel(n_jobs=48)]: Done 16863136 tasks      | elapsed:  5.1min\n",
      "[Parallel(n_jobs=48)]: Done 18219936 tasks      | elapsed:  5.6min\n",
      "[Parallel(n_jobs=48)]: Done 19627936 tasks      | elapsed:  6.0min\n",
      "[Parallel(n_jobs=48)]: Done 21087136 tasks      | elapsed:  6.5min\n",
      "[Parallel(n_jobs=48)]: Done 22597536 tasks      | elapsed:  6.9min\n",
      "[Parallel(n_jobs=48)]: Done 24159136 tasks      | elapsed:  7.4min\n",
      "[Parallel(n_jobs=48)]: Done 25771936 tasks      | elapsed:  7.9min\n",
      "[Parallel(n_jobs=48)]: Done 26459736 tasks      | elapsed:  8.1min\n",
      "[Parallel(n_jobs=48)]: Done 27143136 tasks      | elapsed:  8.4min\n",
      "[Parallel(n_jobs=48)]: Done 27846936 tasks      | elapsed:  8.6min\n",
      "[Parallel(n_jobs=48)]: Done 28571136 tasks      | elapsed:  8.8min\n",
      "[Parallel(n_jobs=48)]: Done 29315736 tasks      | elapsed:  9.0min\n",
      "[Parallel(n_jobs=48)]: Done 30080736 tasks      | elapsed:  9.3min\n",
      "[Parallel(n_jobs=48)]: Done 30866136 tasks      | elapsed:  9.5min\n",
      "[Parallel(n_jobs=48)]: Done 31671936 tasks      | elapsed:  9.8min\n",
      "[Parallel(n_jobs=48)]: Done 32498136 tasks      | elapsed: 10.0min\n",
      "[Parallel(n_jobs=48)]: Done 33344736 tasks      | elapsed: 10.3min\n",
      "[Parallel(n_jobs=48)]: Done 34211736 tasks      | elapsed: 10.6min\n",
      "[Parallel(n_jobs=48)]: Done 35099136 tasks      | elapsed: 10.9min\n",
      "[Parallel(n_jobs=48)]: Done 36006936 tasks      | elapsed: 11.1min\n",
      "[Parallel(n_jobs=48)]: Done 36935136 tasks      | elapsed: 11.4min\n",
      "[Parallel(n_jobs=48)]: Done 37883736 tasks      | elapsed: 11.7min\n",
      "[Parallel(n_jobs=48)]: Done 38852736 tasks      | elapsed: 12.0min\n",
      "[Parallel(n_jobs=48)]: Done 39842136 tasks      | elapsed: 12.4min\n",
      "[Parallel(n_jobs=48)]: Done 40851936 tasks      | elapsed: 12.7min\n",
      "[Parallel(n_jobs=48)]: Done 41882136 tasks      | elapsed: 13.0min\n",
      "[Parallel(n_jobs=48)]: Done 42932736 tasks      | elapsed: 13.3min\n",
      "[Parallel(n_jobs=48)]: Done 43494190 out of 43494190 | elapsed: 13.5min finished\n"
     ]
    },
    {
     "name": "stdout",
     "output_type": "stream",
     "text": [
      "Memory usage of dataframe is 995.50 MB\n",
      "column =  3\n",
      "0\n",
      "Memory usage after optimization is: 497.75 MB\n",
      "Decreased by 50.0%\n"
     ]
    },
    {
     "name": "stderr",
     "output_type": "stream",
     "text": [
      "[Parallel(n_jobs=48)]: Using backend MultiprocessingBackend with 48 concurrent workers.\n",
      "[Parallel(n_jobs=48)]: Done 104 tasks      | elapsed:    4.8s\n",
      "[Parallel(n_jobs=48)]: Done 519 tasks      | elapsed:    4.8s\n",
      "[Parallel(n_jobs=48)]: Done 5760 tasks      | elapsed:    5.0s\n",
      "[Parallel(n_jobs=48)]: Done 123952 tasks      | elapsed:    7.3s\n",
      "[Parallel(n_jobs=48)]: Done 405552 tasks      | elapsed:   12.4s\n",
      "[Parallel(n_jobs=48)]: Done 738352 tasks      | elapsed:   18.2s\n",
      "[Parallel(n_jobs=48)]: Done 1122352 tasks      | elapsed:   24.9s\n",
      "[Parallel(n_jobs=48)]: Done 1557552 tasks      | elapsed:   32.5s\n",
      "[Parallel(n_jobs=48)]: Done 2043952 tasks      | elapsed:   41.2s\n",
      "[Parallel(n_jobs=48)]: Done 2581552 tasks      | elapsed:   51.4s\n",
      "[Parallel(n_jobs=48)]: Done 3170352 tasks      | elapsed:  1.0min\n",
      "[Parallel(n_jobs=48)]: Done 3810352 tasks      | elapsed:  1.2min\n",
      "[Parallel(n_jobs=48)]: Done 4501552 tasks      | elapsed:  1.5min\n",
      "[Parallel(n_jobs=48)]: Done 5243952 tasks      | elapsed:  1.7min\n",
      "[Parallel(n_jobs=48)]: Done 6037552 tasks      | elapsed:  2.0min\n",
      "[Parallel(n_jobs=48)]: Done 6882352 tasks      | elapsed:  2.2min\n",
      "[Parallel(n_jobs=48)]: Done 7778352 tasks      | elapsed:  2.5min\n",
      "[Parallel(n_jobs=48)]: Done 8725552 tasks      | elapsed:  2.8min\n",
      "[Parallel(n_jobs=48)]: Done 9723952 tasks      | elapsed:  3.1min\n",
      "[Parallel(n_jobs=48)]: Done 10773552 tasks      | elapsed:  3.4min\n",
      "[Parallel(n_jobs=48)]: Done 11874352 tasks      | elapsed:  3.7min\n",
      "[Parallel(n_jobs=48)]: Done 13026352 tasks      | elapsed:  4.1min\n",
      "[Parallel(n_jobs=48)]: Done 14229552 tasks      | elapsed:  4.4min\n",
      "[Parallel(n_jobs=48)]: Done 15483952 tasks      | elapsed:  4.8min\n",
      "[Parallel(n_jobs=48)]: Done 16789552 tasks      | elapsed:  5.2min\n",
      "[Parallel(n_jobs=48)]: Done 18146352 tasks      | elapsed:  5.6min\n",
      "[Parallel(n_jobs=48)]: Done 19554352 tasks      | elapsed:  6.0min\n",
      "[Parallel(n_jobs=48)]: Done 21013552 tasks      | elapsed:  6.5min\n",
      "[Parallel(n_jobs=48)]: Done 22523952 tasks      | elapsed:  6.9min\n",
      "[Parallel(n_jobs=48)]: Done 24085552 tasks      | elapsed:  7.4min\n",
      "[Parallel(n_jobs=48)]: Done 25698352 tasks      | elapsed:  7.9min\n",
      "[Parallel(n_jobs=48)]: Done 27362352 tasks      | elapsed:  8.4min\n",
      "[Parallel(n_jobs=48)]: Done 29077552 tasks      | elapsed:  8.9min\n",
      "[Parallel(n_jobs=48)]: Done 30843952 tasks      | elapsed:  9.4min\n",
      "[Parallel(n_jobs=48)]: Done 32661552 tasks      | elapsed: 10.0min\n",
      "[Parallel(n_jobs=48)]: Done 34530352 tasks      | elapsed: 10.5min\n",
      "[Parallel(n_jobs=48)]: Done 36450352 tasks      | elapsed: 11.1min\n",
      "[Parallel(n_jobs=48)]: Done 38421552 tasks      | elapsed: 11.7min\n",
      "[Parallel(n_jobs=48)]: Done 40443952 tasks      | elapsed: 12.3min\n",
      "[Parallel(n_jobs=48)]: Done 42517552 tasks      | elapsed: 13.0min\n",
      "[Parallel(n_jobs=48)]: Done 43494190 out of 43494190 | elapsed: 13.3min finished\n"
     ]
    },
    {
     "name": "stdout",
     "output_type": "stream",
     "text": [
      "Memory usage of dataframe is 995.50 MB\n",
      "column =  3\n",
      "0\n",
      "Memory usage after optimization is: 497.75 MB\n",
      "Decreased by 50.0%\n"
     ]
    },
    {
     "name": "stderr",
     "output_type": "stream",
     "text": [
      "[Parallel(n_jobs=48)]: Using backend MultiprocessingBackend with 48 concurrent workers.\n",
      "[Parallel(n_jobs=48)]: Done 104 tasks      | elapsed:    4.7s\n",
      "[Parallel(n_jobs=48)]: Done 510 tasks      | elapsed:    4.8s\n",
      "[Parallel(n_jobs=48)]: Done 5808 tasks      | elapsed:    5.0s\n",
      "[Parallel(n_jobs=48)]: Done 123952 tasks      | elapsed:    7.4s\n",
      "[Parallel(n_jobs=48)]: Done 405552 tasks      | elapsed:   12.5s\n",
      "[Parallel(n_jobs=48)]: Done 738352 tasks      | elapsed:   18.5s\n",
      "[Parallel(n_jobs=48)]: Done 1122352 tasks      | elapsed:   25.5s\n",
      "[Parallel(n_jobs=48)]: Done 1557552 tasks      | elapsed:   33.2s\n",
      "[Parallel(n_jobs=48)]: Done 2043952 tasks      | elapsed:   42.1s\n",
      "[Parallel(n_jobs=48)]: Done 2581552 tasks      | elapsed:   52.2s\n",
      "[Parallel(n_jobs=48)]: Done 3170352 tasks      | elapsed:  1.1min\n",
      "[Parallel(n_jobs=48)]: Done 3810352 tasks      | elapsed:  1.3min\n",
      "[Parallel(n_jobs=48)]: Done 4501552 tasks      | elapsed:  1.5min\n",
      "[Parallel(n_jobs=48)]: Done 5243952 tasks      | elapsed:  1.7min\n",
      "[Parallel(n_jobs=48)]: Done 6037552 tasks      | elapsed:  2.0min\n",
      "[Parallel(n_jobs=48)]: Done 6882352 tasks      | elapsed:  2.2min\n",
      "[Parallel(n_jobs=48)]: Done 7778352 tasks      | elapsed:  2.5min\n",
      "[Parallel(n_jobs=48)]: Done 8725552 tasks      | elapsed:  2.8min\n",
      "[Parallel(n_jobs=48)]: Done 9723952 tasks      | elapsed:  3.1min\n",
      "[Parallel(n_jobs=48)]: Done 10773552 tasks      | elapsed:  3.4min\n",
      "[Parallel(n_jobs=48)]: Done 11874352 tasks      | elapsed:  3.7min\n",
      "[Parallel(n_jobs=48)]: Done 13026352 tasks      | elapsed:  4.1min\n",
      "[Parallel(n_jobs=48)]: Done 14229552 tasks      | elapsed:  4.5min\n",
      "[Parallel(n_jobs=48)]: Done 15483952 tasks      | elapsed:  4.8min\n",
      "[Parallel(n_jobs=48)]: Done 16789552 tasks      | elapsed:  5.2min\n",
      "[Parallel(n_jobs=48)]: Done 18146352 tasks      | elapsed:  5.6min\n",
      "[Parallel(n_jobs=48)]: Done 19554352 tasks      | elapsed:  6.0min\n",
      "[Parallel(n_jobs=48)]: Done 21013552 tasks      | elapsed:  6.5min\n",
      "[Parallel(n_jobs=48)]: Done 22523952 tasks      | elapsed:  6.9min\n",
      "[Parallel(n_jobs=48)]: Done 24085552 tasks      | elapsed:  7.4min\n",
      "[Parallel(n_jobs=48)]: Done 25698352 tasks      | elapsed:  7.9min\n",
      "[Parallel(n_jobs=48)]: Done 27362352 tasks      | elapsed:  8.3min\n",
      "[Parallel(n_jobs=48)]: Done 29077552 tasks      | elapsed:  8.8min\n",
      "[Parallel(n_jobs=48)]: Done 30843952 tasks      | elapsed:  9.3min\n",
      "[Parallel(n_jobs=48)]: Done 32661552 tasks      | elapsed:  9.9min\n",
      "[Parallel(n_jobs=48)]: Done 34530352 tasks      | elapsed: 10.5min\n",
      "[Parallel(n_jobs=48)]: Done 36450352 tasks      | elapsed: 11.0min\n",
      "[Parallel(n_jobs=48)]: Done 38421552 tasks      | elapsed: 11.6min\n",
      "[Parallel(n_jobs=48)]: Done 40443952 tasks      | elapsed: 12.2min\n",
      "[Parallel(n_jobs=48)]: Done 42517552 tasks      | elapsed: 12.8min\n",
      "[Parallel(n_jobs=48)]: Done 43494190 out of 43494190 | elapsed: 13.1min finished\n"
     ]
    },
    {
     "name": "stdout",
     "output_type": "stream",
     "text": [
      "Memory usage of dataframe is 995.50 MB\n",
      "column =  3\n",
      "0\n",
      "Memory usage after optimization is: 497.75 MB\n",
      "Decreased by 50.0%\n"
     ]
    },
    {
     "name": "stderr",
     "output_type": "stream",
     "text": [
      "[Parallel(n_jobs=48)]: Using backend MultiprocessingBackend with 48 concurrent workers.\n",
      "[Parallel(n_jobs=48)]: Done 104 tasks      | elapsed:    6.0s\n",
      "[Parallel(n_jobs=48)]: Done 516 tasks      | elapsed:    6.1s\n",
      "[Parallel(n_jobs=48)]: Done 5712 tasks      | elapsed:    6.3s\n",
      "[Parallel(n_jobs=48)]: Done 92208 tasks      | elapsed:    9.4s\n",
      "[Parallel(n_jobs=48)]: Done 233008 tasks      | elapsed:   13.5s\n",
      "[Parallel(n_jobs=48)]: Done 397488 tasks      | elapsed:   19.8s\n",
      "[Parallel(n_jobs=48)]: Done 585776 tasks      | elapsed:   31.7s\n",
      "[Parallel(n_jobs=48)]: Done 803376 tasks      | elapsed:   38.4s\n",
      "[Parallel(n_jobs=48)]: Done 1046576 tasks      | elapsed:   42.8s\n",
      "[Parallel(n_jobs=48)]: Done 1315376 tasks      | elapsed:   47.7s\n",
      "[Parallel(n_jobs=48)]: Done 1609776 tasks      | elapsed:   53.0s\n",
      "[Parallel(n_jobs=48)]: Done 1929776 tasks      | elapsed:   58.8s\n",
      "[Parallel(n_jobs=48)]: Done 2275376 tasks      | elapsed:  1.1min\n",
      "[Parallel(n_jobs=48)]: Done 2646576 tasks      | elapsed:  1.2min\n",
      "[Parallel(n_jobs=48)]: Done 3043376 tasks      | elapsed:  1.3min\n",
      "[Parallel(n_jobs=48)]: Done 3465776 tasks      | elapsed:  1.4min\n",
      "[Parallel(n_jobs=48)]: Done 3913776 tasks      | elapsed:  1.6min\n",
      "[Parallel(n_jobs=48)]: Done 4387376 tasks      | elapsed:  1.7min\n",
      "[Parallel(n_jobs=48)]: Done 4886576 tasks      | elapsed:  1.9min\n",
      "[Parallel(n_jobs=48)]: Done 5411376 tasks      | elapsed:  2.0min\n",
      "[Parallel(n_jobs=48)]: Done 5961776 tasks      | elapsed:  2.2min\n",
      "[Parallel(n_jobs=48)]: Done 6537776 tasks      | elapsed:  2.4min\n",
      "[Parallel(n_jobs=48)]: Done 7139376 tasks      | elapsed:  2.5min\n",
      "[Parallel(n_jobs=48)]: Done 7766576 tasks      | elapsed:  2.7min\n",
      "[Parallel(n_jobs=48)]: Done 8419376 tasks      | elapsed:  2.9min\n",
      "[Parallel(n_jobs=48)]: Done 9097776 tasks      | elapsed:  3.1min\n",
      "[Parallel(n_jobs=48)]: Done 9801776 tasks      | elapsed:  3.3min\n",
      "[Parallel(n_jobs=48)]: Done 10531376 tasks      | elapsed:  3.6min\n",
      "[Parallel(n_jobs=48)]: Done 11286576 tasks      | elapsed:  3.8min\n",
      "[Parallel(n_jobs=48)]: Done 12067376 tasks      | elapsed:  4.0min\n",
      "[Parallel(n_jobs=48)]: Done 12873776 tasks      | elapsed:  4.3min\n",
      "[Parallel(n_jobs=48)]: Done 13705776 tasks      | elapsed:  4.5min\n",
      "[Parallel(n_jobs=48)]: Done 14563376 tasks      | elapsed:  4.8min\n",
      "[Parallel(n_jobs=48)]: Done 15446576 tasks      | elapsed:  5.1min\n",
      "[Parallel(n_jobs=48)]: Done 16355376 tasks      | elapsed:  5.4min\n",
      "[Parallel(n_jobs=48)]: Done 17289776 tasks      | elapsed:  5.7min\n",
      "[Parallel(n_jobs=48)]: Done 18249776 tasks      | elapsed:  6.0min\n",
      "[Parallel(n_jobs=48)]: Done 19235376 tasks      | elapsed:  6.3min\n",
      "[Parallel(n_jobs=48)]: Done 20246576 tasks      | elapsed:  6.6min\n",
      "[Parallel(n_jobs=48)]: Done 21283376 tasks      | elapsed:  6.9min\n",
      "[Parallel(n_jobs=48)]: Done 22345776 tasks      | elapsed:  7.2min\n",
      "[Parallel(n_jobs=48)]: Done 23433776 tasks      | elapsed:  7.5min\n",
      "[Parallel(n_jobs=48)]: Done 24547376 tasks      | elapsed:  7.9min\n",
      "[Parallel(n_jobs=48)]: Done 25686576 tasks      | elapsed:  8.2min\n",
      "[Parallel(n_jobs=48)]: Done 26851376 tasks      | elapsed:  8.6min\n",
      "[Parallel(n_jobs=48)]: Done 28041776 tasks      | elapsed:  9.0min\n",
      "[Parallel(n_jobs=48)]: Done 29257776 tasks      | elapsed:  9.4min\n",
      "[Parallel(n_jobs=48)]: Done 30499376 tasks      | elapsed:  9.7min\n",
      "[Parallel(n_jobs=48)]: Done 31766576 tasks      | elapsed: 10.1min\n",
      "[Parallel(n_jobs=48)]: Done 33059376 tasks      | elapsed: 10.5min\n",
      "[Parallel(n_jobs=48)]: Done 34377776 tasks      | elapsed: 10.9min\n",
      "[Parallel(n_jobs=48)]: Done 35721776 tasks      | elapsed: 11.3min\n",
      "[Parallel(n_jobs=48)]: Done 37091376 tasks      | elapsed: 11.8min\n",
      "[Parallel(n_jobs=48)]: Done 38486576 tasks      | elapsed: 12.2min\n",
      "[Parallel(n_jobs=48)]: Done 39907376 tasks      | elapsed: 12.6min\n",
      "[Parallel(n_jobs=48)]: Done 41353776 tasks      | elapsed: 13.1min\n",
      "[Parallel(n_jobs=48)]: Done 42825776 tasks      | elapsed: 13.5min\n",
      "[Parallel(n_jobs=48)]: Done 43494190 out of 43494190 | elapsed: 13.7min finished\n"
     ]
    },
    {
     "name": "stdout",
     "output_type": "stream",
     "text": [
      "Memory usage of dataframe is 995.50 MB\n",
      "column =  3\n",
      "0\n",
      "Memory usage after optimization is: 497.75 MB\n",
      "Decreased by 50.0%\n"
     ]
    },
    {
     "name": "stderr",
     "output_type": "stream",
     "text": [
      "[Parallel(n_jobs=48)]: Using backend MultiprocessingBackend with 48 concurrent workers.\n",
      "[Parallel(n_jobs=48)]: Done 104 tasks      | elapsed:    4.9s\n",
      "[Parallel(n_jobs=48)]: Done 518 tasks      | elapsed:    4.9s\n",
      "[Parallel(n_jobs=48)]: Done 5712 tasks      | elapsed:    5.1s\n",
      "[Parallel(n_jobs=48)]: Done 123952 tasks      | elapsed:    7.4s\n",
      "[Parallel(n_jobs=48)]: Done 405552 tasks      | elapsed:   12.3s\n",
      "[Parallel(n_jobs=48)]: Done 738352 tasks      | elapsed:   18.1s\n",
      "[Parallel(n_jobs=48)]: Done 1122352 tasks      | elapsed:   24.8s\n",
      "[Parallel(n_jobs=48)]: Done 1557552 tasks      | elapsed:   32.5s\n",
      "[Parallel(n_jobs=48)]: Done 2043952 tasks      | elapsed:   40.9s\n",
      "[Parallel(n_jobs=48)]: Done 2581552 tasks      | elapsed:   50.2s\n",
      "[Parallel(n_jobs=48)]: Done 3170352 tasks      | elapsed:  1.0min\n",
      "[Parallel(n_jobs=48)]: Done 3810352 tasks      | elapsed:  1.2min\n",
      "[Parallel(n_jobs=48)]: Done 4501552 tasks      | elapsed:  1.4min\n",
      "[Parallel(n_jobs=48)]: Done 5243952 tasks      | elapsed:  1.6min\n",
      "[Parallel(n_jobs=48)]: Done 6037552 tasks      | elapsed:  1.9min\n",
      "[Parallel(n_jobs=48)]: Done 6882352 tasks      | elapsed:  2.1min\n",
      "[Parallel(n_jobs=48)]: Done 7778352 tasks      | elapsed:  2.4min\n",
      "[Parallel(n_jobs=48)]: Done 8725552 tasks      | elapsed:  2.7min\n",
      "[Parallel(n_jobs=48)]: Done 9723952 tasks      | elapsed:  3.0min\n",
      "[Parallel(n_jobs=48)]: Done 10773552 tasks      | elapsed:  3.3min\n",
      "[Parallel(n_jobs=48)]: Done 11874352 tasks      | elapsed:  3.6min\n",
      "[Parallel(n_jobs=48)]: Done 13026352 tasks      | elapsed:  4.0min\n",
      "[Parallel(n_jobs=48)]: Done 14229552 tasks      | elapsed:  4.4min\n",
      "[Parallel(n_jobs=48)]: Done 15483952 tasks      | elapsed:  4.7min\n",
      "[Parallel(n_jobs=48)]: Done 16789552 tasks      | elapsed:  5.1min\n",
      "[Parallel(n_jobs=48)]: Done 18146352 tasks      | elapsed:  5.5min\n",
      "[Parallel(n_jobs=48)]: Done 19554352 tasks      | elapsed:  5.9min\n",
      "[Parallel(n_jobs=48)]: Done 21013552 tasks      | elapsed:  6.4min\n",
      "[Parallel(n_jobs=48)]: Done 22523952 tasks      | elapsed:  6.9min\n",
      "[Parallel(n_jobs=48)]: Done 24085552 tasks      | elapsed:  7.4min\n",
      "[Parallel(n_jobs=48)]: Done 25698352 tasks      | elapsed:  7.9min\n",
      "[Parallel(n_jobs=48)]: Done 27362352 tasks      | elapsed:  8.4min\n",
      "[Parallel(n_jobs=48)]: Done 29077552 tasks      | elapsed:  8.9min\n",
      "[Parallel(n_jobs=48)]: Done 30843952 tasks      | elapsed:  9.4min\n",
      "[Parallel(n_jobs=48)]: Done 32661552 tasks      | elapsed: 10.0min\n",
      "[Parallel(n_jobs=48)]: Done 34530352 tasks      | elapsed: 10.6min\n",
      "[Parallel(n_jobs=48)]: Done 36450352 tasks      | elapsed: 11.1min\n",
      "[Parallel(n_jobs=48)]: Done 38421552 tasks      | elapsed: 11.7min\n",
      "[Parallel(n_jobs=48)]: Done 40443952 tasks      | elapsed: 12.3min\n",
      "[Parallel(n_jobs=48)]: Done 42517552 tasks      | elapsed: 13.0min\n",
      "[Parallel(n_jobs=48)]: Done 43494190 out of 43494190 | elapsed: 13.3min finished\n"
     ]
    },
    {
     "name": "stdout",
     "output_type": "stream",
     "text": [
      "Memory usage of dataframe is 995.50 MB\n",
      "column =  3\n",
      "0\n",
      "Memory usage after optimization is: 497.75 MB\n",
      "Decreased by 50.0%\n"
     ]
    },
    {
     "name": "stderr",
     "output_type": "stream",
     "text": [
      "[Parallel(n_jobs=48)]: Using backend MultiprocessingBackend with 48 concurrent workers.\n",
      "[Parallel(n_jobs=48)]: Done 104 tasks      | elapsed:    4.7s\n",
      "[Parallel(n_jobs=48)]: Done 525 tasks      | elapsed:    4.7s\n",
      "[Parallel(n_jobs=48)]: Done 5744 tasks      | elapsed:    5.0s\n",
      "[Parallel(n_jobs=48)]: Done 86576 tasks      | elapsed:    6.5s\n",
      "[Parallel(n_jobs=48)]: Done 227376 tasks      | elapsed:    9.1s\n",
      "[Parallel(n_jobs=48)]: Done 393776 tasks      | elapsed:   12.1s\n",
      "[Parallel(n_jobs=48)]: Done 585776 tasks      | elapsed:   15.6s\n",
      "[Parallel(n_jobs=48)]: Done 803376 tasks      | elapsed:   19.4s\n",
      "[Parallel(n_jobs=48)]: Done 1046576 tasks      | elapsed:   23.8s\n",
      "[Parallel(n_jobs=48)]: Done 1315376 tasks      | elapsed:   28.6s\n",
      "[Parallel(n_jobs=48)]: Done 1609776 tasks      | elapsed:   33.9s\n",
      "[Parallel(n_jobs=48)]: Done 1929776 tasks      | elapsed:   39.7s\n",
      "[Parallel(n_jobs=48)]: Done 2275376 tasks      | elapsed:   46.0s\n",
      "[Parallel(n_jobs=48)]: Done 2646576 tasks      | elapsed:   52.7s\n",
      "[Parallel(n_jobs=48)]: Done 3043376 tasks      | elapsed:   59.8s\n",
      "[Parallel(n_jobs=48)]: Done 3465776 tasks      | elapsed:  1.1min\n",
      "[Parallel(n_jobs=48)]: Done 3913776 tasks      | elapsed:  1.3min\n",
      "[Parallel(n_jobs=48)]: Done 4387376 tasks      | elapsed:  1.4min\n",
      "[Parallel(n_jobs=48)]: Done 4886576 tasks      | elapsed:  1.6min\n",
      "[Parallel(n_jobs=48)]: Done 5411376 tasks      | elapsed:  1.7min\n",
      "[Parallel(n_jobs=48)]: Done 5961776 tasks      | elapsed:  1.9min\n",
      "[Parallel(n_jobs=48)]: Done 6537776 tasks      | elapsed:  2.1min\n",
      "[Parallel(n_jobs=48)]: Done 7139376 tasks      | elapsed:  2.3min\n",
      "[Parallel(n_jobs=48)]: Done 7766576 tasks      | elapsed:  2.5min\n",
      "[Parallel(n_jobs=48)]: Done 8419376 tasks      | elapsed:  2.7min\n",
      "[Parallel(n_jobs=48)]: Done 9097776 tasks      | elapsed:  2.9min\n",
      "[Parallel(n_jobs=48)]: Done 9801776 tasks      | elapsed:  3.1min\n",
      "[Parallel(n_jobs=48)]: Done 10531376 tasks      | elapsed:  3.3min\n",
      "[Parallel(n_jobs=48)]: Done 11286576 tasks      | elapsed:  3.5min\n",
      "[Parallel(n_jobs=48)]: Done 12067376 tasks      | elapsed:  3.8min\n",
      "[Parallel(n_jobs=48)]: Done 12873776 tasks      | elapsed:  4.0min\n",
      "[Parallel(n_jobs=48)]: Done 13705776 tasks      | elapsed:  4.3min\n",
      "[Parallel(n_jobs=48)]: Done 14563376 tasks      | elapsed:  4.5min\n",
      "[Parallel(n_jobs=48)]: Done 15446576 tasks      | elapsed:  4.8min\n",
      "[Parallel(n_jobs=48)]: Done 16355376 tasks      | elapsed:  5.1min\n",
      "[Parallel(n_jobs=48)]: Done 17289776 tasks      | elapsed:  5.4min\n",
      "[Parallel(n_jobs=48)]: Done 18249776 tasks      | elapsed:  5.6min\n",
      "[Parallel(n_jobs=48)]: Done 19235376 tasks      | elapsed:  5.9min\n",
      "[Parallel(n_jobs=48)]: Done 20246576 tasks      | elapsed:  6.2min\n",
      "[Parallel(n_jobs=48)]: Done 21283376 tasks      | elapsed:  6.5min\n",
      "[Parallel(n_jobs=48)]: Done 22345776 tasks      | elapsed:  6.9min\n",
      "[Parallel(n_jobs=48)]: Done 23433776 tasks      | elapsed:  7.2min\n",
      "[Parallel(n_jobs=48)]: Done 24547376 tasks      | elapsed:  7.5min\n",
      "[Parallel(n_jobs=48)]: Done 25686576 tasks      | elapsed:  7.9min\n",
      "[Parallel(n_jobs=48)]: Done 26851376 tasks      | elapsed:  8.2min\n",
      "[Parallel(n_jobs=48)]: Done 28041776 tasks      | elapsed:  8.6min\n",
      "[Parallel(n_jobs=48)]: Done 29257776 tasks      | elapsed:  8.9min\n",
      "[Parallel(n_jobs=48)]: Done 30499376 tasks      | elapsed:  9.3min\n",
      "[Parallel(n_jobs=48)]: Done 31766576 tasks      | elapsed:  9.7min\n",
      "[Parallel(n_jobs=48)]: Done 33059376 tasks      | elapsed: 10.1min\n",
      "[Parallel(n_jobs=48)]: Done 34377776 tasks      | elapsed: 10.5min\n",
      "[Parallel(n_jobs=48)]: Done 35721776 tasks      | elapsed: 10.9min\n",
      "[Parallel(n_jobs=48)]: Done 37091376 tasks      | elapsed: 11.3min\n",
      "[Parallel(n_jobs=48)]: Done 38486576 tasks      | elapsed: 11.7min\n",
      "[Parallel(n_jobs=48)]: Done 39907376 tasks      | elapsed: 12.1min\n",
      "[Parallel(n_jobs=48)]: Done 41353776 tasks      | elapsed: 12.5min\n",
      "[Parallel(n_jobs=48)]: Done 42825776 tasks      | elapsed: 13.0min\n",
      "[Parallel(n_jobs=48)]: Done 43494190 out of 43494190 | elapsed: 13.2min finished\n"
     ]
    },
    {
     "name": "stdout",
     "output_type": "stream",
     "text": [
      "Memory usage of dataframe is 995.50 MB\n",
      "column =  3\n",
      "0\n",
      "Memory usage after optimization is: 497.75 MB\n",
      "Decreased by 50.0%\n"
     ]
    },
    {
     "name": "stderr",
     "output_type": "stream",
     "text": [
      "[Parallel(n_jobs=48)]: Using backend MultiprocessingBackend with 48 concurrent workers.\n",
      "[Parallel(n_jobs=48)]: Done 104 tasks      | elapsed:    4.9s\n",
      "[Parallel(n_jobs=48)]: Done 518 tasks      | elapsed:    5.0s\n",
      "[Parallel(n_jobs=48)]: Done 5680 tasks      | elapsed:    5.2s\n",
      "[Parallel(n_jobs=48)]: Done 22432 tasks      | elapsed:   14.3s\n",
      "[Parallel(n_jobs=48)]: Done 135600 tasks      | elapsed:   17.0s\n",
      "[Parallel(n_jobs=48)]: Done 467632 tasks      | elapsed:   22.9s\n",
      "[Parallel(n_jobs=48)]: Done 851632 tasks      | elapsed:   33.0s\n",
      "[Parallel(n_jobs=48)]: Done 920016 tasks      | elapsed:   37.5s\n",
      "[Parallel(n_jobs=48)]: Done 1026416 tasks      | elapsed:   39.6s\n",
      "[Parallel(n_jobs=48)]: Done 1176496 tasks      | elapsed:   42.4s\n",
      "[Parallel(n_jobs=48)]: Done 1434096 tasks      | elapsed:   47.1s\n",
      "[Parallel(n_jobs=48)]: Done 1714096 tasks      | elapsed:   52.1s\n",
      "[Parallel(n_jobs=48)]: Done 2016496 tasks      | elapsed:   57.6s\n",
      "[Parallel(n_jobs=48)]: Done 2341296 tasks      | elapsed:  1.1min\n",
      "[Parallel(n_jobs=48)]: Done 2688496 tasks      | elapsed:  1.2min\n",
      "[Parallel(n_jobs=48)]: Done 3058096 tasks      | elapsed:  1.3min\n",
      "[Parallel(n_jobs=48)]: Done 3450096 tasks      | elapsed:  1.4min\n",
      "[Parallel(n_jobs=48)]: Done 3864496 tasks      | elapsed:  1.5min\n",
      "[Parallel(n_jobs=48)]: Done 4301296 tasks      | elapsed:  1.7min\n",
      "[Parallel(n_jobs=48)]: Done 4760496 tasks      | elapsed:  1.8min\n",
      "[Parallel(n_jobs=48)]: Done 5242096 tasks      | elapsed:  1.9min\n",
      "[Parallel(n_jobs=48)]: Done 5746096 tasks      | elapsed:  2.1min\n",
      "[Parallel(n_jobs=48)]: Done 6272496 tasks      | elapsed:  2.3min\n",
      "[Parallel(n_jobs=48)]: Done 6821296 tasks      | elapsed:  2.4min\n",
      "[Parallel(n_jobs=48)]: Done 7392496 tasks      | elapsed:  2.6min\n",
      "[Parallel(n_jobs=48)]: Done 7986096 tasks      | elapsed:  2.8min\n",
      "[Parallel(n_jobs=48)]: Done 8602096 tasks      | elapsed:  3.0min\n",
      "[Parallel(n_jobs=48)]: Done 9240496 tasks      | elapsed:  3.2min\n",
      "[Parallel(n_jobs=48)]: Done 9901296 tasks      | elapsed:  3.4min\n",
      "[Parallel(n_jobs=48)]: Done 10584496 tasks      | elapsed:  3.6min\n",
      "[Parallel(n_jobs=48)]: Done 11290096 tasks      | elapsed:  3.8min\n",
      "[Parallel(n_jobs=48)]: Done 12018096 tasks      | elapsed:  4.0min\n",
      "[Parallel(n_jobs=48)]: Done 12768496 tasks      | elapsed:  4.2min\n",
      "[Parallel(n_jobs=48)]: Done 13541296 tasks      | elapsed:  4.5min\n",
      "[Parallel(n_jobs=48)]: Done 14336496 tasks      | elapsed:  4.7min\n",
      "[Parallel(n_jobs=48)]: Done 15154096 tasks      | elapsed:  5.0min\n",
      "[Parallel(n_jobs=48)]: Done 15994096 tasks      | elapsed:  5.2min\n",
      "[Parallel(n_jobs=48)]: Done 16856496 tasks      | elapsed:  5.5min\n",
      "[Parallel(n_jobs=48)]: Done 17741296 tasks      | elapsed:  5.8min\n",
      "[Parallel(n_jobs=48)]: Done 18648496 tasks      | elapsed:  6.0min\n",
      "[Parallel(n_jobs=48)]: Done 19578096 tasks      | elapsed:  6.3min\n",
      "[Parallel(n_jobs=48)]: Done 20530096 tasks      | elapsed:  6.6min\n",
      "[Parallel(n_jobs=48)]: Done 21504496 tasks      | elapsed:  6.9min\n",
      "[Parallel(n_jobs=48)]: Done 22501296 tasks      | elapsed:  7.3min\n",
      "[Parallel(n_jobs=48)]: Done 23520496 tasks      | elapsed:  7.6min\n",
      "[Parallel(n_jobs=48)]: Done 24562096 tasks      | elapsed:  7.9min\n",
      "[Parallel(n_jobs=48)]: Done 25626096 tasks      | elapsed:  8.2min\n",
      "[Parallel(n_jobs=48)]: Done 26712496 tasks      | elapsed:  8.6min\n",
      "[Parallel(n_jobs=48)]: Done 27821296 tasks      | elapsed:  9.0min\n",
      "[Parallel(n_jobs=48)]: Done 28952496 tasks      | elapsed:  9.3min\n",
      "[Parallel(n_jobs=48)]: Done 30106096 tasks      | elapsed:  9.7min\n",
      "[Parallel(n_jobs=48)]: Done 31282096 tasks      | elapsed: 10.1min\n",
      "[Parallel(n_jobs=48)]: Done 32480496 tasks      | elapsed: 10.5min\n",
      "[Parallel(n_jobs=48)]: Done 33701296 tasks      | elapsed: 10.9min\n",
      "[Parallel(n_jobs=48)]: Done 34944496 tasks      | elapsed: 11.3min\n",
      "[Parallel(n_jobs=48)]: Done 36210096 tasks      | elapsed: 11.7min\n",
      "[Parallel(n_jobs=48)]: Done 37498096 tasks      | elapsed: 12.2min\n",
      "[Parallel(n_jobs=48)]: Done 38808496 tasks      | elapsed: 12.6min\n",
      "[Parallel(n_jobs=48)]: Done 40141296 tasks      | elapsed: 13.1min\n",
      "[Parallel(n_jobs=48)]: Done 41496496 tasks      | elapsed: 13.5min\n",
      "[Parallel(n_jobs=48)]: Done 42874096 tasks      | elapsed: 14.0min\n",
      "[Parallel(n_jobs=48)]: Done 43494190 out of 43494190 | elapsed: 14.2min finished\n"
     ]
    },
    {
     "name": "stdout",
     "output_type": "stream",
     "text": [
      "Memory usage of dataframe is 995.50 MB\n",
      "column =  3\n",
      "0\n",
      "Memory usage after optimization is: 497.75 MB\n",
      "Decreased by 50.0%\n"
     ]
    },
    {
     "name": "stderr",
     "output_type": "stream",
     "text": [
      "[Parallel(n_jobs=48)]: Using backend MultiprocessingBackend with 48 concurrent workers.\n",
      "[Parallel(n_jobs=48)]: Done 104 tasks      | elapsed:    4.8s\n",
      "[Parallel(n_jobs=48)]: Done 424 tasks      | elapsed:    4.9s\n",
      "[Parallel(n_jobs=48)]: Done 4208 tasks      | elapsed:    5.1s\n",
      "[Parallel(n_jobs=48)]: Done 99424 tasks      | elapsed:    7.1s\n",
      "[Parallel(n_jobs=48)]: Done 381024 tasks      | elapsed:   12.7s\n",
      "[Parallel(n_jobs=48)]: Done 713824 tasks      | elapsed:   19.3s\n",
      "[Parallel(n_jobs=48)]: Done 1097824 tasks      | elapsed:   26.7s\n",
      "[Parallel(n_jobs=48)]: Done 1533024 tasks      | elapsed:   34.9s\n",
      "[Parallel(n_jobs=48)]: Done 2019424 tasks      | elapsed:   44.2s\n",
      "[Parallel(n_jobs=48)]: Done 2557024 tasks      | elapsed:   54.6s\n",
      "[Parallel(n_jobs=48)]: Done 3145824 tasks      | elapsed:  1.1min\n",
      "[Parallel(n_jobs=48)]: Done 3785824 tasks      | elapsed:  1.3min\n",
      "[Parallel(n_jobs=48)]: Done 4477024 tasks      | elapsed:  1.5min\n",
      "[Parallel(n_jobs=48)]: Done 5219424 tasks      | elapsed:  1.8min\n",
      "[Parallel(n_jobs=48)]: Done 6013024 tasks      | elapsed:  2.0min\n",
      "[Parallel(n_jobs=48)]: Done 6857824 tasks      | elapsed:  2.3min\n",
      "[Parallel(n_jobs=48)]: Done 7753824 tasks      | elapsed:  2.6min\n",
      "[Parallel(n_jobs=48)]: Done 8701024 tasks      | elapsed:  2.9min\n",
      "[Parallel(n_jobs=48)]: Done 9699424 tasks      | elapsed:  3.2min\n",
      "[Parallel(n_jobs=48)]: Done 10749024 tasks      | elapsed:  3.5min\n",
      "[Parallel(n_jobs=48)]: Done 11849824 tasks      | elapsed:  3.9min\n",
      "[Parallel(n_jobs=48)]: Done 13001824 tasks      | elapsed:  4.3min\n",
      "[Parallel(n_jobs=48)]: Done 14205024 tasks      | elapsed:  4.7min\n",
      "[Parallel(n_jobs=48)]: Done 15459424 tasks      | elapsed:  5.1min\n",
      "[Parallel(n_jobs=48)]: Done 16765024 tasks      | elapsed:  5.5min\n",
      "[Parallel(n_jobs=48)]: Done 18121824 tasks      | elapsed:  5.9min\n",
      "[Parallel(n_jobs=48)]: Done 19529824 tasks      | elapsed:  6.4min\n",
      "[Parallel(n_jobs=48)]: Done 20989024 tasks      | elapsed:  6.8min\n",
      "[Parallel(n_jobs=48)]: Done 22499424 tasks      | elapsed:  7.3min\n",
      "[Parallel(n_jobs=48)]: Done 24061024 tasks      | elapsed:  7.8min\n",
      "[Parallel(n_jobs=48)]: Done 25673824 tasks      | elapsed:  8.3min\n",
      "[Parallel(n_jobs=48)]: Done 27337824 tasks      | elapsed:  8.8min\n",
      "[Parallel(n_jobs=48)]: Done 29053024 tasks      | elapsed:  9.3min\n",
      "[Parallel(n_jobs=48)]: Done 30819424 tasks      | elapsed:  9.9min\n",
      "[Parallel(n_jobs=48)]: Done 32637024 tasks      | elapsed: 10.4min\n",
      "[Parallel(n_jobs=48)]: Done 34505824 tasks      | elapsed: 11.0min\n",
      "[Parallel(n_jobs=48)]: Done 36425824 tasks      | elapsed: 11.6min\n",
      "[Parallel(n_jobs=48)]: Done 38397024 tasks      | elapsed: 12.2min\n",
      "[Parallel(n_jobs=48)]: Done 40419424 tasks      | elapsed: 12.8min\n",
      "[Parallel(n_jobs=48)]: Done 42493024 tasks      | elapsed: 13.5min\n",
      "[Parallel(n_jobs=48)]: Done 43494190 out of 43494190 | elapsed: 13.8min finished\n"
     ]
    },
    {
     "name": "stdout",
     "output_type": "stream",
     "text": [
      "Memory usage of dataframe is 995.50 MB\n",
      "column =  3\n",
      "0\n",
      "Memory usage after optimization is: 497.75 MB\n",
      "Decreased by 50.0%\n"
     ]
    }
   ],
   "source": [
    "columns = ['name', 'address', 'city', 'state',\n",
    "           'zip', 'url', 'phone', 'categories']\n",
    "for c in columns:\n",
    "    distance = Parallel(n_jobs=48, verbose = 1, backend = 'multiprocessing')\\\n",
    "    ([delayed(calc_distance_2nd_stage)(c1,c2) \\\n",
    "       for (c1,c2) in zip(train_concat[c].values, train_concat[f\"near_{c}\"].values)])\n",
    "    distance = np.concatenate(distance)\n",
    "    distance = pd.DataFrame(distance)\n",
    "    distance.columns = [f\"{c}_gesh\",f\"{c}_leven\",f\"{c}_jaro\"]\n",
    "    distance = reduce_mem_usage(distance)\n",
    "    train_concat = pd.concat([train_concat,distance],axis=1)\n",
    "    del distance\n",
    "    gc.collect()"
   ]
  },
  {
   "cell_type": "code",
   "execution_count": 23,
   "id": "c81c67a6-63bd-4cc3-abf6-21bc9e8a7170",
   "metadata": {},
   "outputs": [],
   "source": [
    "train_concat[\"distance\"] = (train_concat[\"latitude\"] - train_concat[\"near_latitude\"])**2 \\\n",
    "                    + (train_concat[\"longitude\"] - train_concat[\"near_longitude\"])**2\n",
    "train_concat[\"distance_rank\"] = train_concat.groupby(by=\"id\")[\"distance\"].rank()"
   ]
  },
  {
   "cell_type": "code",
   "execution_count": 24,
   "id": "572a1b6f",
   "metadata": {},
   "outputs": [
    {
     "name": "stdout",
     "output_type": "stream",
     "text": [
      "Memory usage of dataframe is 13771.12 MB\n",
      "column =  56\n",
      "0\n",
      "50\n",
      "Memory usage after optimization is: 13148.94 MB\n",
      "Decreased by 4.5%\n"
     ]
    }
   ],
   "source": [
    "train_concat = reduce_mem_usage(train_concat)\n",
    "train_concat.to_pickle(f\"../output/fe/fe{fe}.pkl\")"
   ]
  },
  {
   "cell_type": "code",
   "execution_count": null,
   "id": "c2a0dc42-c425-41ac-a17f-8806246f633b",
   "metadata": {},
   "outputs": [],
   "source": []
  }
 ],
 "metadata": {
  "kernelspec": {
   "display_name": "Python 3 (ipykernel)",
   "language": "python",
   "name": "python3"
  },
  "language_info": {
   "codemirror_mode": {
    "name": "ipython",
    "version": 3
   },
   "file_extension": ".py",
   "mimetype": "text/x-python",
   "name": "python",
   "nbconvert_exporter": "python",
   "pygments_lexer": "ipython3",
   "version": "3.7.12"
  }
 },
 "nbformat": 4,
 "nbformat_minor": 5
}
