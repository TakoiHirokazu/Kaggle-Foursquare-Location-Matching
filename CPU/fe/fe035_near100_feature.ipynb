{
 "cells": [
  {
   "cell_type": "code",
   "execution_count": 1,
   "id": "c721dfcf",
   "metadata": {},
   "outputs": [
    {
     "data": {
      "text/html": [
       "<style type='text/css'>\n",
       ".datatable table.frame { margin-bottom: 0; }\n",
       ".datatable table.frame thead { border-bottom: none; }\n",
       ".datatable table.frame tr.coltypes td {  color: #FFFFFF;  line-height: 6px;  padding: 0 0.5em;}\n",
       ".datatable .bool    { background: #DDDD99; }\n",
       ".datatable .object  { background: #565656; }\n",
       ".datatable .int     { background: #5D9E5D; }\n",
       ".datatable .float   { background: #4040CC; }\n",
       ".datatable .str     { background: #CC4040; }\n",
       ".datatable .time    { background: #40CC40; }\n",
       ".datatable .row_index {  background: var(--jp-border-color3);  border-right: 1px solid var(--jp-border-color0);  color: var(--jp-ui-font-color3);  font-size: 9px;}\n",
       ".datatable .frame tbody td { text-align: left; }\n",
       ".datatable .frame tr.coltypes .row_index {  background: var(--jp-border-color0);}\n",
       ".datatable th:nth-child(2) { padding-left: 12px; }\n",
       ".datatable .hellipsis {  color: var(--jp-cell-editor-border-color);}\n",
       ".datatable .vellipsis {  background: var(--jp-layout-color0);  color: var(--jp-cell-editor-border-color);}\n",
       ".datatable .na {  color: var(--jp-cell-editor-border-color);  font-size: 80%;}\n",
       ".datatable .sp {  opacity: 0.25;}\n",
       ".datatable .footer { font-size: 9px; }\n",
       ".datatable .frame_dimensions {  background: var(--jp-border-color3);  border-top: 1px solid var(--jp-border-color0);  color: var(--jp-ui-font-color3);  display: inline-block;  opacity: 0.6;  padding: 1px 10px 1px 5px;}\n",
       "</style>\n"
      ],
      "text/plain": [
       "<IPython.core.display.HTML object>"
      ]
     },
     "metadata": {},
     "output_type": "display_data"
    }
   ],
   "source": [
    "# =========================\n",
    "# Library\n",
    "# =========================\n",
    "import pandas as pd\n",
    "import numpy as np\n",
    "import matplotlib.pyplot as plt\n",
    "from tqdm.auto import tqdm\n",
    "import os\n",
    "import gc\n",
    "import random\n",
    "from glob import glob\n",
    "from sklearn.model_selection import GroupKFold, KFold, StratifiedKFold\n",
    "import warnings\n",
    "import seaborn as sns\n",
    "import pickle\n",
    "import json\n",
    "import re\n",
    "import time\n",
    "import sys\n",
    "from requests import get\n",
    "import multiprocessing\n",
    "import joblib\n",
    "import Levenshtein\n",
    "import difflib\n",
    "from contextlib import contextmanager\n",
    "from sklearn.neighbors import KNeighborsRegressor\n",
    "from sklearn.metrics import log_loss\n",
    "warnings.filterwarnings('ignore')\n",
    "import sys\n",
    "sys.path.append(\"../src/\")\n",
    "from logger import setup_logger, LOGGER\n",
    "from trainer import train_lgbm\n",
    "from util_tool import reduce_mem_usage\n",
    "pd.set_option('display.max_columns', 300)"
   ]
  },
  {
   "cell_type": "code",
   "execution_count": 2,
   "id": "97ebcd27",
   "metadata": {},
   "outputs": [],
   "source": [
    "# =========================\n",
    "# Constant\n",
    "# =========================\n",
    "TRAIN_PATH = \"../data/train.csv\"\n",
    "TARGET = \"point_of_interest\""
   ]
  },
  {
   "cell_type": "code",
   "execution_count": 3,
   "id": "3cab462c",
   "metadata": {},
   "outputs": [],
   "source": [
    "# =========================\n",
    "# Settings\n",
    "# =========================\n",
    "fe = \"035\"\n",
    "n_neighbors = 100"
   ]
  },
  {
   "cell_type": "code",
   "execution_count": 4,
   "id": "fc17e305",
   "metadata": {
    "tags": []
   },
   "outputs": [],
   "source": [
    "# =========================\n",
    "# Functions\n",
    "# =========================\n",
    "@contextmanager\n",
    "def timer(name):\n",
    "    t0 = time.time()\n",
    "    yield \n",
    "    LOGGER.info(f'[{name}] done in {time.time() - t0:.0f} s')\n",
    "    \n",
    "\n",
    "def add_neighbor_features_first_stage(df):\n",
    "    dfs = []\n",
    "    columns = ['id', 'name','categories','latitude','longitude']\n",
    "    #for c in columns:\n",
    "    #    if c != \"id\":\n",
    "    #        df[c] = df[c].astype(str).str.lower()\n",
    "\n",
    "    for country, country_df in tqdm(df.groupby(\"country\")):\n",
    "        concat_df = []\n",
    "        country_df = country_df.reset_index(drop=True)\n",
    "        \n",
    "        knn = KNeighborsRegressor(n_neighbors=min(len(country_df), n_neighbors), \n",
    "                                  metric=\"euclidean\", n_jobs=-1)\n",
    "        knn.fit(country_df[['latitude','longitude']], country_df.index)\n",
    "        dists, nears = knn.kneighbors(country_df[['latitude','longitude']], return_distance=True)\n",
    "\n",
    "        targets = country_df[TARGET].values\n",
    "        for i in range(min(len(country_df), n_neighbors)):\n",
    "            country_df_ = country_df[columns + [\"set\",TARGET]].copy()\n",
    "            country_df_[\"rank\"] = i\n",
    "            country_df_[f\"d_near\"] = dists[:, i]\n",
    "            country_df_[f\"near_target\"] = targets[nears[:, i]]\n",
    "            for c in columns:\n",
    "                country_df_[f\"near_{c}\"] = country_df_[c].values[nears[:, i]]\n",
    "            concat_df.append(country_df_)\n",
    "        concat_df = pd.concat(concat_df).reset_index(drop=True)\n",
    "        dfs.append(concat_df)\n",
    "    df = pd.concat(dfs).reset_index(drop=True)\n",
    "    return df"
   ]
  },
  {
   "cell_type": "code",
   "execution_count": 5,
   "id": "321c4f81",
   "metadata": {},
   "outputs": [],
   "source": [
    "# =========================\n",
    "# Main\n",
    "# =========================\n",
    "train = pd.read_csv(TRAIN_PATH)"
   ]
  },
  {
   "cell_type": "code",
   "execution_count": 6,
   "id": "a33c1688",
   "metadata": {},
   "outputs": [
    {
     "data": {
      "text/plain": [
       "1.0    569406\n",
       "0.0    569406\n",
       "Name: set, dtype: int64"
      ]
     },
     "execution_count": 6,
     "metadata": {},
     "output_type": "execute_result"
    }
   ],
   "source": [
    "kf = GroupKFold(n_splits=2)\n",
    "for i, (trn_idx, val_idx) in enumerate(kf.split(train, train[TARGET],\n",
    "                                                train[TARGET])):\n",
    "    train.loc[val_idx, \"set\"] = i\n",
    "train[\"set\"].value_counts()"
   ]
  },
  {
   "cell_type": "code",
   "execution_count": 7,
   "id": "7bb1414f",
   "metadata": {},
   "outputs": [
    {
     "data": {
      "application/vnd.jupyter.widget-view+json": {
       "model_id": "061ff384da014bb19d63ce0b6f48af44",
       "version_major": 2,
       "version_minor": 0
      },
      "text/plain": [
       "  0%|          | 0/209 [00:00<?, ?it/s]"
      ]
     },
     "metadata": {},
     "output_type": "display_data"
    },
    {
     "data": {
      "application/vnd.jupyter.widget-view+json": {
       "model_id": "5f344a894b94416fab7ec3de39282954",
       "version_major": 2,
       "version_minor": 0
      },
      "text/plain": [
       "  0%|          | 0/210 [00:00<?, ?it/s]"
      ]
     },
     "metadata": {},
     "output_type": "display_data"
    }
   ],
   "source": [
    "train_ = add_neighbor_features_first_stage(train.loc[train[\"set\"] == 0].reset_index(\n",
    "    drop=True))\n",
    "val_ = add_neighbor_features_first_stage(train.loc[train[\"set\"] == 1].reset_index(\n",
    "    drop=True))"
   ]
  },
  {
   "cell_type": "code",
   "execution_count": 9,
   "id": "836bfef6",
   "metadata": {},
   "outputs": [],
   "source": [
    "train = pd.concat([train_, val_]).reset_index(drop=True)"
   ]
  },
  {
   "cell_type": "code",
   "execution_count": 10,
   "id": "59a7dccd-6c5b-409b-81f5-98ef1e2299eb",
   "metadata": {},
   "outputs": [],
   "source": [
    "# 両方とも同じidは削除\n",
    "train[\"match\"] = train[\"id\"] == train[\"near_id\"]\n",
    "train[\"match\"] = train[\"match\"].astype(int)\n",
    "train = train[train[\"match\"] == 0].reset_index(drop=True)"
   ]
  },
  {
   "cell_type": "code",
   "execution_count": 12,
   "id": "0d20e50e-7ed9-463b-a0dc-1f69e579dc58",
   "metadata": {},
   "outputs": [],
   "source": [
    "train[\"target\"] = train[TARGET] == train[f\"near_target\"]\n",
    "train[\"target\"] = train[\"target\"].astype(int)"
   ]
  },
  {
   "cell_type": "code",
   "execution_count": 13,
   "id": "2d5df543",
   "metadata": {},
   "outputs": [
    {
     "name": "stdout",
     "output_type": "stream",
     "text": [
      "Memory usage of dataframe is 10516.02 MB\n",
      "column =  17\n",
      "0\n",
      "Memory usage after optimization is: 9764.88 MB\n",
      "Decreased by 7.1%\n"
     ]
    }
   ],
   "source": [
    "train = reduce_mem_usage(train)\n",
    "train.to_pickle(f\"../output/fe/fe{fe}_{n_neighbors}near.pkl\")"
   ]
  }
 ],
 "metadata": {
  "kernelspec": {
   "display_name": "Python 3 (ipykernel)",
   "language": "python",
   "name": "python3"
  },
  "language_info": {
   "codemirror_mode": {
    "name": "ipython",
    "version": 3
   },
   "file_extension": ".py",
   "mimetype": "text/x-python",
   "name": "python",
   "nbconvert_exporter": "python",
   "pygments_lexer": "ipython3",
   "version": "3.7.12"
  }
 },
 "nbformat": 4,
 "nbformat_minor": 5
}
