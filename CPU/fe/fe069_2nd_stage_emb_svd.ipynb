{
 "cells": [
  {
   "cell_type": "code",
   "execution_count": 1,
   "id": "52b787e2",
   "metadata": {},
   "outputs": [
    {
     "data": {
      "text/html": [
       "<style type='text/css'>\n",
       ".datatable table.frame { margin-bottom: 0; }\n",
       ".datatable table.frame thead { border-bottom: none; }\n",
       ".datatable table.frame tr.coltypes td {  color: #FFFFFF;  line-height: 6px;  padding: 0 0.5em;}\n",
       ".datatable .bool    { background: #DDDD99; }\n",
       ".datatable .object  { background: #565656; }\n",
       ".datatable .int     { background: #5D9E5D; }\n",
       ".datatable .float   { background: #4040CC; }\n",
       ".datatable .str     { background: #CC4040; }\n",
       ".datatable .time    { background: #40CC40; }\n",
       ".datatable .row_index {  background: var(--jp-border-color3);  border-right: 1px solid var(--jp-border-color0);  color: var(--jp-ui-font-color3);  font-size: 9px;}\n",
       ".datatable .frame tbody td { text-align: left; }\n",
       ".datatable .frame tr.coltypes .row_index {  background: var(--jp-border-color0);}\n",
       ".datatable th:nth-child(2) { padding-left: 12px; }\n",
       ".datatable .hellipsis {  color: var(--jp-cell-editor-border-color);}\n",
       ".datatable .vellipsis {  background: var(--jp-layout-color0);  color: var(--jp-cell-editor-border-color);}\n",
       ".datatable .na {  color: var(--jp-cell-editor-border-color);  font-size: 80%;}\n",
       ".datatable .sp {  opacity: 0.25;}\n",
       ".datatable .footer { font-size: 9px; }\n",
       ".datatable .frame_dimensions {  background: var(--jp-border-color3);  border-top: 1px solid var(--jp-border-color0);  color: var(--jp-ui-font-color3);  display: inline-block;  opacity: 0.6;  padding: 1px 10px 1px 5px;}\n",
       "</style>\n"
      ],
      "text/plain": [
       "<IPython.core.display.HTML object>"
      ]
     },
     "metadata": {},
     "output_type": "display_data"
    }
   ],
   "source": [
    "# =========================\n",
    "# Library\n",
    "# =========================\n",
    "import pandas as pd\n",
    "import numpy as np\n",
    "import matplotlib.pyplot as plt\n",
    "from tqdm.auto import tqdm\n",
    "import os\n",
    "import gc\n",
    "import random\n",
    "from glob import glob\n",
    "from sklearn.model_selection import GroupKFold, KFold, StratifiedKFold\n",
    "import warnings\n",
    "import seaborn as sns\n",
    "import pickle\n",
    "import json\n",
    "import re\n",
    "import time\n",
    "import sys\n",
    "from requests import get\n",
    "import multiprocessing\n",
    "import joblib\n",
    "from joblib import Parallel, delayed\n",
    "import Levenshtein\n",
    "import difflib\n",
    "from contextlib import contextmanager\n",
    "from sklearn.neighbors import KNeighborsRegressor\n",
    "from sklearn.metrics import log_loss\n",
    "from strsimpy import SIFT4\n",
    "from strsimpy.ngram import NGram\n",
    "from sklearn.metrics.pairwise import cosine_similarity\n",
    "from sklearn.decomposition import TruncatedSVD\n",
    "from sklearn.preprocessing import LabelEncoder\n",
    "warnings.filterwarnings('ignore')\n",
    "import sys\n",
    "sys.path.append(\"../src/\")\n",
    "from logger import setup_logger, LOGGER\n",
    "from trainer import train_lgbm\n",
    "from util_tool import reduce_mem_usage\n",
    "pd.set_option('display.max_columns', 300)"
   ]
  },
  {
   "cell_type": "code",
   "execution_count": 2,
   "id": "14fbb4f6",
   "metadata": {},
   "outputs": [],
   "source": [
    "# =========================\n",
    "# Constant\n",
    "# =========================\n",
    "TRAIN_PATH = \"../data/train.csv\"\n",
    "TARGET = \"point_of_interest\""
   ]
  },
  {
   "cell_type": "code",
   "execution_count": 3,
   "id": "a7d25d8c",
   "metadata": {},
   "outputs": [],
   "source": [
    "# =========================\n",
    "# Settings\n",
    "# =========================\n",
    "fe = \"069\"\n",
    "if not os.path.exists(f\"../output/fe/fe{fe}\"):\n",
    "    os.makedirs(f\"../output/fe/fe{fe}\")"
   ]
  },
  {
   "cell_type": "code",
   "execution_count": 5,
   "id": "a8a9a8af",
   "metadata": {},
   "outputs": [],
   "source": [
    "# =========================\n",
    "# Main\n",
    "# =========================\n",
    "train = pd.read_pickle(\"../output/fe/fe066.pkl\") \n",
    "train_raw = pd.read_csv(TRAIN_PATH)\n",
    "train_raw = train_raw[[\"id\",\"name\"]].reset_index(drop=True)"
   ]
  },
  {
   "cell_type": "code",
   "execution_count": 7,
   "id": "8b3e7ddc-3951-4604-a091-4934fe154f3b",
   "metadata": {},
   "outputs": [],
   "source": [
    "train_raw[\"name\"] = train_raw[\"name\"].astype(str)\n",
    "train_raw[\"name\"] = train_raw[\"name\"].str.lower()"
   ]
  },
  {
   "cell_type": "code",
   "execution_count": 8,
   "id": "2d95d89b-09b7-4f0b-a931-3430bc10aabd",
   "metadata": {},
   "outputs": [],
   "source": [
    "id_unique = train_raw[\"id\"].values\n",
    "id2name_dict = {}\n",
    "for i,n in zip(train_raw[\"id\"].values,train_raw[\"name\"].values):\n",
    "    id2name_dict[i] = n"
   ]
  },
  {
   "cell_type": "code",
   "execution_count": 9,
   "id": "2e85729a-ef86-4f35-9deb-e815c21bea95",
   "metadata": {},
   "outputs": [],
   "source": [
    "train[\"name_lower\"] = train[\"id\"].map(id2name_dict)\n",
    "train[\"near_name_lower\"] = train[\"near_id\"].map(id2name_dict)"
   ]
  },
  {
   "cell_type": "code",
   "execution_count": 10,
   "id": "d5a109f2-1a0d-47a6-acd4-2beecefc31d3",
   "metadata": {},
   "outputs": [],
   "source": [
    "emb = np.load(\"../output/fe/fe029/bert_base_multilingual_embedding.npy\")\n",
    "name = np.load(\"../output/fe/fe029/name.npy\",allow_pickle=True)"
   ]
  },
  {
   "cell_type": "code",
   "execution_count": 11,
   "id": "729969cb-f3f9-4a81-aaa8-9312ab03d161",
   "metadata": {},
   "outputs": [],
   "source": [
    "with open(f'../output/fe/fe046/fe046_svd.pkl','rb') as f:\n",
    "    svd = pickle.load(f)\n",
    "emb_svd = svd.transform(emb)"
   ]
  },
  {
   "cell_type": "code",
   "execution_count": 12,
   "id": "fa8b922f-9862-4891-994c-70a8c3c7a8d0",
   "metadata": {},
   "outputs": [],
   "source": [
    "name_svd = np.zeros([len(train),10],np.float32)\n",
    "near_name_svd = np.zeros([len(train),10],np.float32)"
   ]
  },
  {
   "cell_type": "code",
   "execution_count": 13,
   "id": "f7f16186-0a79-4942-a51c-1b7fcbbf8df8",
   "metadata": {},
   "outputs": [],
   "source": [
    "name2num_dict = {}\n",
    "for n,i in enumerate(name):\n",
    "    name2num_dict[i] = n"
   ]
  },
  {
   "cell_type": "code",
   "execution_count": 14,
   "id": "112b92b4-7611-4c89-a279-5db4c9d02054",
   "metadata": {},
   "outputs": [],
   "source": [
    "train[\"name_le\"] = train[\"name_lower\"].map(name2num_dict)"
   ]
  },
  {
   "cell_type": "code",
   "execution_count": 15,
   "id": "700fcb76-8b50-468f-8c50-49e72d6f2bc3",
   "metadata": {},
   "outputs": [],
   "source": [
    "train[\"near_name_le\"] = train[\"near_name_lower\"].map(name2num_dict)"
   ]
  },
  {
   "cell_type": "code",
   "execution_count": 18,
   "id": "466619d3-4563-4b72-adc7-ea03b837a532",
   "metadata": {},
   "outputs": [
    {
     "data": {
      "application/vnd.jupyter.widget-view+json": {
       "model_id": "7d05678ac4604f72893b4e8fbffc8049",
       "version_major": 2,
       "version_minor": 0
      },
      "text/plain": [
       "0it [00:00, ?it/s]"
      ]
     },
     "metadata": {},
     "output_type": "display_data"
    },
    {
     "data": {
      "application/vnd.jupyter.widget-view+json": {
       "model_id": "ebcb28554c934d88b0c43fef05c7864c",
       "version_major": 2,
       "version_minor": 0
      },
      "text/plain": [
       "0it [00:00, ?it/s]"
      ]
     },
     "metadata": {},
     "output_type": "display_data"
    }
   ],
   "source": [
    "for n,i in tqdm(enumerate(train[\"name_le\"].values)):\n",
    "    name_svd[n,:] = emb_svd[i,:]\n",
    "for n,i in tqdm(enumerate(train[\"near_name_le\"].values)):\n",
    "    near_name_svd[n,:] = emb_svd[i,:]"
   ]
  },
  {
   "cell_type": "code",
   "execution_count": 19,
   "id": "07c28f04-4dfb-4645-990f-d7e0395a95b2",
   "metadata": {},
   "outputs": [],
   "source": [
    "name_svd = pd.DataFrame(name_svd)\n",
    "name_svd.columns = [f\"name_emb_svd{i}\" for i in range(10)]\n",
    "near_name_svd = pd.DataFrame(near_name_svd)\n",
    "near_name_svd.columns = [f\"near_name_emb_svd{i}\" for i in range(10)]\n",
    "name_svd = pd.concat([name_svd,near_name_svd],axis=1)"
   ]
  },
  {
   "cell_type": "code",
   "execution_count": 21,
   "id": "8f67486f-f7bf-4134-938b-341a902b399b",
   "metadata": {},
   "outputs": [],
   "source": [
    "new_cols = ['name_emb_svd0', 'name_emb_svd1', 'name_emb_svd2', 'name_emb_svd3',\n",
    "       'name_emb_svd4', 'name_emb_svd5', 'name_emb_svd6', 'name_emb_svd7',\n",
    "       'name_emb_svd8', 'name_emb_svd9', 'near_name_emb_svd0',\n",
    "       'near_name_emb_svd1', 'near_name_emb_svd2', 'near_name_emb_svd3',\n",
    "       'near_name_emb_svd4', 'near_name_emb_svd5', 'near_name_emb_svd6',\n",
    "       'near_name_emb_svd7', 'near_name_emb_svd8', 'near_name_emb_svd9']"
   ]
  },
  {
   "cell_type": "code",
   "execution_count": 22,
   "id": "572a1b6f",
   "metadata": {},
   "outputs": [
    {
     "name": "stdout",
     "output_type": "stream",
     "text": [
      "Memory usage of dataframe is 3318.34 MB\n",
      "column =  20\n",
      "0\n",
      "Memory usage after optimization is: 3318.34 MB\n",
      "Decreased by 0.0%\n"
     ]
    }
   ],
   "source": [
    "name_svd = reduce_mem_usage(name_svd)\n",
    "name_svd.to_pickle(f\"../output/fe/fe{fe}.pkl\")"
   ]
  },
  {
   "cell_type": "code",
   "execution_count": null,
   "id": "48375e56-96bd-4008-b2a3-44045b45665d",
   "metadata": {},
   "outputs": [],
   "source": []
  }
 ],
 "metadata": {
  "kernelspec": {
   "display_name": "Python 3 (ipykernel)",
   "language": "python",
   "name": "python3"
  },
  "language_info": {
   "codemirror_mode": {
    "name": "ipython",
    "version": 3
   },
   "file_extension": ".py",
   "mimetype": "text/x-python",
   "name": "python",
   "nbconvert_exporter": "python",
   "pygments_lexer": "ipython3",
   "version": "3.7.12"
  }
 },
 "nbformat": 4,
 "nbformat_minor": 5
}
