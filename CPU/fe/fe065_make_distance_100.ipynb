{
 "cells": [
  {
   "cell_type": "code",
   "execution_count": 1,
   "id": "52b787e2",
   "metadata": {},
   "outputs": [
    {
     "data": {
      "text/html": [
       "<style type='text/css'>\n",
       ".datatable table.frame { margin-bottom: 0; }\n",
       ".datatable table.frame thead { border-bottom: none; }\n",
       ".datatable table.frame tr.coltypes td {  color: #FFFFFF;  line-height: 6px;  padding: 0 0.5em;}\n",
       ".datatable .bool    { background: #DDDD99; }\n",
       ".datatable .object  { background: #565656; }\n",
       ".datatable .int     { background: #5D9E5D; }\n",
       ".datatable .float   { background: #4040CC; }\n",
       ".datatable .str     { background: #CC4040; }\n",
       ".datatable .time    { background: #40CC40; }\n",
       ".datatable .row_index {  background: var(--jp-border-color3);  border-right: 1px solid var(--jp-border-color0);  color: var(--jp-ui-font-color3);  font-size: 9px;}\n",
       ".datatable .frame tbody td { text-align: left; }\n",
       ".datatable .frame tr.coltypes .row_index {  background: var(--jp-border-color0);}\n",
       ".datatable th:nth-child(2) { padding-left: 12px; }\n",
       ".datatable .hellipsis {  color: var(--jp-cell-editor-border-color);}\n",
       ".datatable .vellipsis {  background: var(--jp-layout-color0);  color: var(--jp-cell-editor-border-color);}\n",
       ".datatable .na {  color: var(--jp-cell-editor-border-color);  font-size: 80%;}\n",
       ".datatable .sp {  opacity: 0.25;}\n",
       ".datatable .footer { font-size: 9px; }\n",
       ".datatable .frame_dimensions {  background: var(--jp-border-color3);  border-top: 1px solid var(--jp-border-color0);  color: var(--jp-ui-font-color3);  display: inline-block;  opacity: 0.6;  padding: 1px 10px 1px 5px;}\n",
       "</style>\n"
      ],
      "text/plain": [
       "<IPython.core.display.HTML object>"
      ]
     },
     "metadata": {},
     "output_type": "display_data"
    }
   ],
   "source": [
    "# =========================\n",
    "# Library\n",
    "# =========================\n",
    "import pandas as pd\n",
    "import numpy as np\n",
    "import matplotlib.pyplot as plt\n",
    "from tqdm.auto import tqdm\n",
    "import os\n",
    "import gc\n",
    "import random\n",
    "from glob import glob\n",
    "from sklearn.model_selection import GroupKFold, KFold, StratifiedKFold\n",
    "import warnings\n",
    "import seaborn as sns\n",
    "import pickle\n",
    "import json\n",
    "import re\n",
    "import time\n",
    "import sys\n",
    "from requests import get\n",
    "import multiprocessing\n",
    "import joblib\n",
    "from joblib import Parallel, delayed\n",
    "import Levenshtein\n",
    "import difflib\n",
    "from contextlib import contextmanager\n",
    "from sklearn.neighbors import KNeighborsRegressor\n",
    "from sklearn.metrics import log_loss\n",
    "import unicodedata\n",
    "warnings.filterwarnings('ignore')\n",
    "import sys\n",
    "sys.path.append(\"../src/\")\n",
    "from logger import setup_logger, LOGGER\n",
    "from trainer import train_lgbm\n",
    "from util_tool import reduce_mem_usage\n",
    "pd.set_option('display.max_columns', 300)"
   ]
  },
  {
   "cell_type": "code",
   "execution_count": 2,
   "id": "14fbb4f6",
   "metadata": {},
   "outputs": [],
   "source": [
    "# =========================\n",
    "# Constant\n",
    "# =========================\n",
    "TRAIN_PATH = \"../data/train.csv\"\n",
    "TARGET = \"point_of_interest\""
   ]
  },
  {
   "cell_type": "code",
   "execution_count": 3,
   "id": "a7d25d8c",
   "metadata": {},
   "outputs": [],
   "source": [
    "# =========================\n",
    "# Settings\n",
    "# =========================\n",
    "fe = \"065\"\n",
    "n_neighbors = 100\n",
    "train_neighrbor_path = f\"../output/fe/fe054/fe054_100_name_emb_near.pkl\""
   ]
  },
  {
   "cell_type": "code",
   "execution_count": 4,
   "id": "e307afc1",
   "metadata": {},
   "outputs": [],
   "source": [
    "# =========================\n",
    "# Functions\n",
    "# =========================\n",
    "def text_preprocess(text):\n",
    "    text = str(text)\n",
    "    text = text.replace(\" \",\"\")\n",
    "    text = text.lower()\n",
    "    text = unicodedata.normalize(\"NFKC\",text)\n",
    "    return text\n",
    "\n",
    "def calc_distance_for_candidate(c1_array,c2_array):\n",
    "    distance = np.zeros(len(c1_array),dtype=np.float32)\n",
    "    for n,(c1,c2) in tqdm(enumerate(zip(c1_array,c2_array)),total=len(c1_array)):\n",
    "        c1 = text_preprocess(c1)\n",
    "        c2 = text_preprocess(c2)\n",
    "        if (str(c1) != \"nan\") and (str(c2) != \"nan\"):\n",
    "            distance[n] = np.array([Levenshtein.jaro_winkler(str(c1), str(c2))])\n",
    "        else:\n",
    "            distance[n] = np.nan\n",
    "    return distance"
   ]
  },
  {
   "cell_type": "code",
   "execution_count": 5,
   "id": "a8a9a8af",
   "metadata": {},
   "outputs": [],
   "source": [
    "# ============================\n",
    "# Main\n",
    "# ============================\n",
    "train = pd.read_pickle(train_neighrbor_path)"
   ]
  },
  {
   "cell_type": "code",
   "execution_count": 6,
   "id": "863dedf9-05e3-4c90-a311-ef05fdfe7f18",
   "metadata": {},
   "outputs": [],
   "source": [
    "train_raw = pd.read_csv(TRAIN_PATH)"
   ]
  },
  {
   "cell_type": "code",
   "execution_count": 10,
   "id": "cd8cfdcd-6e93-4d44-a12f-ad65800bb786",
   "metadata": {},
   "outputs": [],
   "source": [
    "train.drop(columns=[\"name\",\"near_name\"],inplace=True)\n",
    "train = train.merge(train_raw[[\"id\",\"name\"]],on=\"id\",how=\"left\")\n",
    "train_ = train_raw[[\"id\",\"name\"]].copy()\n",
    "train_.columns = [\"near_id\",\"near_name\"]\n",
    "train = train.merge(train_,how=\"left\",on=\"near_id\")"
   ]
  },
  {
   "cell_type": "code",
   "execution_count": 13,
   "id": "813a6fc5",
   "metadata": {},
   "outputs": [
    {
     "data": {
      "application/vnd.jupyter.widget-view+json": {
       "model_id": "37c7570164fc4fff86ce7995f9b31b95",
       "version_major": 2,
       "version_minor": 0
      },
      "text/plain": [
       "  0%|          | 0/112548740 [00:00<?, ?it/s]"
      ]
     },
     "metadata": {},
     "output_type": "display_data"
    },
    {
     "name": "stdout",
     "output_type": "stream",
     "text": [
      "Memory usage of dataframe is 429.34 MB\n",
      "column =  1\n",
      "0\n",
      "Memory usage after optimization is: 429.34 MB\n",
      "Decreased by 0.0%\n"
     ]
    }
   ],
   "source": [
    "columns = ['name']\n",
    "for c in columns:\n",
    "    distance = calc_distance_for_candidate(train[c].values, train[f\"near_{c}\"].values)\n",
    "    distance = pd.DataFrame(distance)\n",
    "    distance.columns = [f\"{c}_jaro\"]\n",
    "    distance = reduce_mem_usage(distance)\n",
    "    train = pd.concat([train,distance],axis=1)\n",
    "    del distance\n",
    "    gc.collect()"
   ]
  },
  {
   "cell_type": "code",
   "execution_count": 14,
   "id": "8490bb58-a1f0-4039-80dd-e7364617bf3a",
   "metadata": {},
   "outputs": [],
   "source": [
    "train[\"distance\"] = (train[\"latitude\"] - train[\"near_latitude\"])**2 + (train[\"longitude\"] - train[\"near_longitude\"])**2"
   ]
  },
  {
   "cell_type": "code",
   "execution_count": 15,
   "id": "572a1b6f",
   "metadata": {},
   "outputs": [
    {
     "name": "stdout",
     "output_type": "stream",
     "text": [
      "Memory usage of dataframe is 16958.91 MB\n",
      "column =  25\n",
      "0\n",
      "Memory usage after optimization is: 16958.91 MB\n",
      "Decreased by 0.0%\n"
     ]
    }
   ],
   "source": [
    "train = reduce_mem_usage(train)\n",
    "train.to_pickle(f\"../output/fe/fe{fe}.pkl\")"
   ]
  },
  {
   "cell_type": "code",
   "execution_count": null,
   "id": "6c5b9fde-1e9d-4bcf-a47b-2394252aca73",
   "metadata": {},
   "outputs": [],
   "source": []
  }
 ],
 "metadata": {
  "kernelspec": {
   "display_name": "Python 3 (ipykernel)",
   "language": "python",
   "name": "python3"
  },
  "language_info": {
   "codemirror_mode": {
    "name": "ipython",
    "version": 3
   },
   "file_extension": ".py",
   "mimetype": "text/x-python",
   "name": "python",
   "nbconvert_exporter": "python",
   "pygments_lexer": "ipython3",
   "version": "3.7.12"
  }
 },
 "nbformat": 4,
 "nbformat_minor": 5
}
