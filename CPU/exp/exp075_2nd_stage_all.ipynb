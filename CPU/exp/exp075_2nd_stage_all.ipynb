{
 "cells": [
  {
   "cell_type": "code",
   "execution_count": 1,
   "id": "e9fc9075",
   "metadata": {},
   "outputs": [
    {
     "data": {
      "text/html": [
       "<style type='text/css'>\n",
       ".datatable table.frame { margin-bottom: 0; }\n",
       ".datatable table.frame thead { border-bottom: none; }\n",
       ".datatable table.frame tr.coltypes td {  color: #FFFFFF;  line-height: 6px;  padding: 0 0.5em;}\n",
       ".datatable .bool    { background: #DDDD99; }\n",
       ".datatable .object  { background: #565656; }\n",
       ".datatable .int     { background: #5D9E5D; }\n",
       ".datatable .float   { background: #4040CC; }\n",
       ".datatable .str     { background: #CC4040; }\n",
       ".datatable .time    { background: #40CC40; }\n",
       ".datatable .row_index {  background: var(--jp-border-color3);  border-right: 1px solid var(--jp-border-color0);  color: var(--jp-ui-font-color3);  font-size: 9px;}\n",
       ".datatable .frame tbody td { text-align: left; }\n",
       ".datatable .frame tr.coltypes .row_index {  background: var(--jp-border-color0);}\n",
       ".datatable th:nth-child(2) { padding-left: 12px; }\n",
       ".datatable .hellipsis {  color: var(--jp-cell-editor-border-color);}\n",
       ".datatable .vellipsis {  background: var(--jp-layout-color0);  color: var(--jp-cell-editor-border-color);}\n",
       ".datatable .na {  color: var(--jp-cell-editor-border-color);  font-size: 80%;}\n",
       ".datatable .sp {  opacity: 0.25;}\n",
       ".datatable .footer { font-size: 9px; }\n",
       ".datatable .frame_dimensions {  background: var(--jp-border-color3);  border-top: 1px solid var(--jp-border-color0);  color: var(--jp-ui-font-color3);  display: inline-block;  opacity: 0.6;  padding: 1px 10px 1px 5px;}\n",
       "</style>\n"
      ],
      "text/plain": [
       "<IPython.core.display.HTML object>"
      ]
     },
     "metadata": {},
     "output_type": "display_data"
    }
   ],
   "source": [
    "# =========================\n",
    "# Library\n",
    "# =========================\n",
    "import pandas as pd\n",
    "import numpy as np\n",
    "import matplotlib.pyplot as plt\n",
    "from tqdm.auto import tqdm\n",
    "import os\n",
    "import gc\n",
    "import random\n",
    "from glob import glob\n",
    "from sklearn.model_selection import GroupKFold, KFold, StratifiedKFold\n",
    "import warnings\n",
    "import seaborn as sns\n",
    "import pickle\n",
    "import json\n",
    "import re\n",
    "import time\n",
    "import sys\n",
    "from requests import get\n",
    "import multiprocessing\n",
    "import joblib\n",
    "import Levenshtein\n",
    "import difflib\n",
    "from contextlib import contextmanager\n",
    "from sklearn.neighbors import KNeighborsRegressor\n",
    "from sklearn.metrics import log_loss\n",
    "import logging\n",
    "warnings.filterwarnings('ignore')\n",
    "import sys\n",
    "sys.path.append(\"../src/\")\n",
    "from logger import setup_logger, LOGGER\n",
    "from trainer import train_lgbm\n",
    "from util_tool import reduce_mem_usage\n",
    "pd.set_option('display.max_columns', 300)"
   ]
  },
  {
   "cell_type": "code",
   "execution_count": 2,
   "id": "c5cbd851",
   "metadata": {},
   "outputs": [],
   "source": [
    "# =========================\n",
    "# Constant\n",
    "# =========================\n",
    "TRAIN_PATH = \"../data/train.csv\"\n",
    "TARGET = \"point_of_interest\""
   ]
  },
  {
   "cell_type": "code",
   "execution_count": 3,
   "id": "97f6f539",
   "metadata": {},
   "outputs": [],
   "source": [
    "# =========================\n",
    "# Settings\n",
    "# =========================\n",
    "exp = \"075\"\n",
    "val_fold = 0\n",
    "if not os.path.exists(f\"../output/exp/ex{exp}\"):\n",
    "    os.makedirs(f\"../output/exp/ex{exp}\")\n",
    "    os.makedirs(f\"../output/exp/ex{exp}/model\")\n",
    "LOGGER_PATH = f\"../output/exp/ex{exp}/ex_{exp}.txt\"\n",
    "MODEL_PATH = f\"../output/exp/ex{exp}/model\"\n",
    "\n",
    "SEED = 0\n",
    "LGBM_PARAMS = {'num_leaves': 32,\n",
    "               'min_data_in_leaf': 64,\n",
    "               'objective': 'binary',\n",
    "               'max_depth': -1,\n",
    "               'learning_rate': 0.1,\n",
    "               \"boosting\": \"gbdt\",\n",
    "               \"bagging_freq\": 1,\n",
    "               \"bagging_fraction\": 0.8,\n",
    "               \"bagging_seed\": SEED,\n",
    "               \"verbosity\": -1,\n",
    "              'reg_alpha': 0.1,\n",
    "              'reg_lambda': 0.3,\n",
    "              'colsample_bytree': 0.7,\n",
    "              'metric':\"binary_logloss\",\n",
    "              'num_threads':56\n",
    "         }\n",
    "\n",
    "LGBM_FIT_PARAMS = {\n",
    "    'num_boost_round': 4000\n",
    "}\n",
    "\n",
    "fe_list = [\"../output/fe/fe066.pkl\",\n",
    "           \"../output/fe/fe067.pkl\",\n",
    "           \"../output/fe/fe068.pkl\",\n",
    "           \"../output/fe/fe069.pkl\"]"
   ]
  },
  {
   "cell_type": "code",
   "execution_count": 4,
   "id": "c0399557",
   "metadata": {},
   "outputs": [],
   "source": [
    "# =========================\n",
    "# Functions\n",
    "# =========================\n",
    "\n",
    "def calc_loss(y_true, y_pred):\n",
    "    return  log_loss(y_true, y_pred)\n",
    "\n",
    "\n",
    "@contextmanager\n",
    "def timer(name):\n",
    "    t0 = time.time()\n",
    "    yield \n",
    "    LOGGER.info(f'[{name}] done in {time.time() - t0:.0f} s')"
   ]
  },
  {
   "cell_type": "code",
   "execution_count": 5,
   "id": "9063d173",
   "metadata": {},
   "outputs": [
    {
     "name": "stderr",
     "output_type": "stream",
     "text": [
      "2022-06-07 11:38:19,784 - INFO - logger set up\n"
     ]
    },
    {
     "data": {
      "text/plain": [
       "<RootLogger root (DEBUG)>"
      ]
     },
     "execution_count": 5,
     "metadata": {},
     "output_type": "execute_result"
    }
   ],
   "source": [
    "LOGGER = logging.getLogger()\n",
    "FORMATTER = logging.Formatter(\"%(asctime)s - %(levelname)s - %(message)s\")\n",
    "setup_logger(out_file=LOGGER_PATH)"
   ]
  },
  {
   "cell_type": "code",
   "execution_count": 6,
   "id": "8e6e0049-072b-4556-a153-0f3e7714735d",
   "metadata": {},
   "outputs": [],
   "source": [
    "train = pd.read_pickle(fe_list[0]) "
   ]
  },
  {
   "cell_type": "code",
   "execution_count": 7,
   "id": "9f65552d",
   "metadata": {},
   "outputs": [],
   "source": [
    "for i in range(1,len(fe_list)):\n",
    "    _train = pd.read_pickle(fe_list[i])\n",
    "    train = pd.concat([train,_train],axis=1)\n",
    "    del _train\n",
    "    gc.collect()\n",
    "# train[\"target\"] = train[TARGET] == train[\"near_target\"]\n",
    "# train[\"target\"] = train[\"target\"].astype(int)"
   ]
  },
  {
   "cell_type": "code",
   "execution_count": 8,
   "id": "d4962980-bd08-44ee-a47a-ecb4c466469f",
   "metadata": {},
   "outputs": [],
   "source": [
    "drop_cols = ['id', 'name','match','oof', 'oof_rank',\n",
    "       'address', 'city', 'state', 'zip','country', 'url', 'phone',\n",
    "       'categories', 'point_of_interest', 'set',\n",
    "       'near_target', 'near_id', 'near_name', 'near_address', 'near_city',\n",
    "       'near_state', 'near_zip', 'near_country', 'near_url', 'near_phone',\n",
    "       'near_categories','target']\n",
    "features = [i for i in train.columns if i not in drop_cols]"
   ]
  },
  {
   "cell_type": "code",
   "execution_count": 9,
   "id": "8f9ba458-61b5-4ddc-833e-52cff5fdb8bb",
   "metadata": {},
   "outputs": [
    {
     "data": {
      "text/plain": [
       "['latitude',\n",
       " 'longitude',\n",
       " 'rank',\n",
       " 'd_near',\n",
       " 'near_latitude',\n",
       " 'near_longitude',\n",
       " 'name_gesh',\n",
       " 'name_leven',\n",
       " 'name_jaro',\n",
       " 'address_gesh',\n",
       " 'address_leven',\n",
       " 'address_jaro',\n",
       " 'city_gesh',\n",
       " 'city_leven',\n",
       " 'city_jaro',\n",
       " 'state_gesh',\n",
       " 'state_leven',\n",
       " 'state_jaro',\n",
       " 'zip_gesh',\n",
       " 'zip_leven',\n",
       " 'zip_jaro',\n",
       " 'url_gesh',\n",
       " 'url_leven',\n",
       " 'url_jaro',\n",
       " 'phone_gesh',\n",
       " 'phone_leven',\n",
       " 'phone_jaro',\n",
       " 'categories_gesh',\n",
       " 'categories_leven',\n",
       " 'categories_jaro',\n",
       " 'distance',\n",
       " 'distance_rank',\n",
       " 'name_gesh_mean',\n",
       " 'name_gesh_max',\n",
       " 'near_name_gesh_mean',\n",
       " 'near_name_gesh_max',\n",
       " 'name_gesh_mean_rate',\n",
       " 'name_gesh_max_rate',\n",
       " 'near_name_gesh_mean_rate',\n",
       " 'near_name_gesh_max_rate',\n",
       " 'name_leven_mean',\n",
       " 'name_leven_min',\n",
       " 'near_name_leven_mean',\n",
       " 'near_name_leven_min',\n",
       " 'name_leven_mean_rate',\n",
       " 'name_leven_min_rate',\n",
       " 'near_name_leven_mean_rate',\n",
       " 'near_name_leven_min_rate',\n",
       " 'name_jaro_mean',\n",
       " 'name_jaro_max',\n",
       " 'near_name_jaro_mean',\n",
       " 'near_name_jaro_max',\n",
       " 'name_jaro_mean_rate',\n",
       " 'name_jaro_max_rate',\n",
       " 'near_name_jaro_mean_rate',\n",
       " 'near_name_jaro_max_rate',\n",
       " 'categories_gesh_mean',\n",
       " 'categories_gesh_max',\n",
       " 'near_categories_gesh_mean',\n",
       " 'near_categories_gesh_max',\n",
       " 'categories_gesh_mean_rate',\n",
       " 'categories_gesh_max_rate',\n",
       " 'near_categories_gesh_mean_rate',\n",
       " 'near_categories_gesh_max_rate',\n",
       " 'categories_leven_mean',\n",
       " 'categories_leven_min',\n",
       " 'near_categories_leven_mean',\n",
       " 'near_categories_leven_min',\n",
       " 'categories_leven_mean_rate',\n",
       " 'categories_leven_min_rate',\n",
       " 'near_categories_leven_mean_rate',\n",
       " 'near_categories_leven_min_rate',\n",
       " 'categories_jaro_mean',\n",
       " 'categories_jaro_max',\n",
       " 'near_categories_jaro_mean',\n",
       " 'near_categories_jaro_max',\n",
       " 'categories_jaro_mean_rate',\n",
       " 'categories_jaro_max_rate',\n",
       " 'near_categories_jaro_mean_rate',\n",
       " 'near_categories_jaro_max_rate',\n",
       " 'd_near_mean',\n",
       " 'd_near_min',\n",
       " 'near_d_near_mean',\n",
       " 'near_d_near_min',\n",
       " 'd_near_mean_rate',\n",
       " 'd_near_min_rate',\n",
       " 'near_d_near_mean_rate',\n",
       " 'near_d_near_min_rate',\n",
       " 'distance_mean',\n",
       " 'distance_min',\n",
       " 'near_distance_mean',\n",
       " 'near_distance_min',\n",
       " 'distance_mean_rate',\n",
       " 'distance_min_rate',\n",
       " 'near_distance_mean_rate',\n",
       " 'near_distance_min_rate',\n",
       " 'city_label',\n",
       " 'near_city_label',\n",
       " 'state_label',\n",
       " 'near_state_label',\n",
       " 'country_label',\n",
       " 'near_country_label',\n",
       " 'categories_label',\n",
       " 'near_categories_label',\n",
       " 'name_emb_svd0',\n",
       " 'name_emb_svd1',\n",
       " 'name_emb_svd2',\n",
       " 'name_emb_svd3',\n",
       " 'name_emb_svd4',\n",
       " 'name_emb_svd5',\n",
       " 'name_emb_svd6',\n",
       " 'name_emb_svd7',\n",
       " 'name_emb_svd8',\n",
       " 'name_emb_svd9',\n",
       " 'near_name_emb_svd0',\n",
       " 'near_name_emb_svd1',\n",
       " 'near_name_emb_svd2',\n",
       " 'near_name_emb_svd3',\n",
       " 'near_name_emb_svd4',\n",
       " 'near_name_emb_svd5',\n",
       " 'near_name_emb_svd6',\n",
       " 'near_name_emb_svd7',\n",
       " 'near_name_emb_svd8',\n",
       " 'near_name_emb_svd9']"
      ]
     },
     "execution_count": 9,
     "metadata": {},
     "output_type": "execute_result"
    }
   ],
   "source": [
    "features"
   ]
  },
  {
   "cell_type": "code",
   "execution_count": 10,
   "id": "6c66e008",
   "metadata": {},
   "outputs": [
    {
     "name": "stderr",
     "output_type": "stream",
     "text": [
      "2022-06-07 12:35:08,135 - INFO - [fold 0] done in 3207 s\n",
      "2022-06-07 12:35:08,138 - INFO - [lightgbm] done in 3207 s\n"
     ]
    }
   ],
   "source": [
    "with timer(\"lightgbm\"):\n",
    "    drop_cols = []\n",
    "    feature_importances = pd.DataFrame()\n",
    "    categorical_features = []\n",
    "    y_oof = np.empty([len(train),])\n",
    "    fold = 0\n",
    "    with timer(f\"fold {fold}\"):\n",
    "        x_train = train[features].values.astype(np.float32)\n",
    "        y = train[\"target\"].values\n",
    "        y_pred_valid, y_pred_test, valid_loss, importances, best_iter, model = train_lgbm(\n",
    "                    x_train, y ,None, None,None,\n",
    "                    categorical_features=categorical_features,\n",
    "                    feature_name=features,\n",
    "                    fold_id=fold,\n",
    "                    lgb_params=LGBM_PARAMS,\n",
    "                    fit_params=LGBM_FIT_PARAMS,\n",
    "                    loss_func=calc_loss,\n",
    "                    calc_importances=True\n",
    "                )\n",
    "        save_path = f\"{MODEL_PATH}/lgb_fold{fold}.pkl\"\n",
    "        pickle.dump(model, open(save_path, 'wb'))\n",
    "        model.save_model(f\"{MODEL_PATH}/lgb_fold{fold}.txt\")"
   ]
  },
  {
   "cell_type": "code",
   "execution_count": null,
   "id": "f0b3cfae-1cad-45e9-ab14-c1e0c97f73db",
   "metadata": {},
   "outputs": [],
   "source": []
  }
 ],
 "metadata": {
  "kernelspec": {
   "display_name": "Python 3 (ipykernel)",
   "language": "python",
   "name": "python3"
  },
  "language_info": {
   "codemirror_mode": {
    "name": "ipython",
    "version": 3
   },
   "file_extension": ".py",
   "mimetype": "text/x-python",
   "name": "python",
   "nbconvert_exporter": "python",
   "pygments_lexer": "ipython3",
   "version": "3.7.12"
  }
 },
 "nbformat": 4,
 "nbformat_minor": 5
}
