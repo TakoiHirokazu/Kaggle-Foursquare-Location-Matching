{
 "cells": [
  {
   "cell_type": "code",
   "execution_count": 1,
   "id": "e9fc9075",
   "metadata": {},
   "outputs": [
    {
     "data": {
      "text/html": [
       "<style type='text/css'>\n",
       ".datatable table.frame { margin-bottom: 0; }\n",
       ".datatable table.frame thead { border-bottom: none; }\n",
       ".datatable table.frame tr.coltypes td {  color: #FFFFFF;  line-height: 6px;  padding: 0 0.5em;}\n",
       ".datatable .bool    { background: #DDDD99; }\n",
       ".datatable .object  { background: #565656; }\n",
       ".datatable .int     { background: #5D9E5D; }\n",
       ".datatable .float   { background: #4040CC; }\n",
       ".datatable .str     { background: #CC4040; }\n",
       ".datatable .time    { background: #40CC40; }\n",
       ".datatable .row_index {  background: var(--jp-border-color3);  border-right: 1px solid var(--jp-border-color0);  color: var(--jp-ui-font-color3);  font-size: 9px;}\n",
       ".datatable .frame tbody td { text-align: left; }\n",
       ".datatable .frame tr.coltypes .row_index {  background: var(--jp-border-color0);}\n",
       ".datatable th:nth-child(2) { padding-left: 12px; }\n",
       ".datatable .hellipsis {  color: var(--jp-cell-editor-border-color);}\n",
       ".datatable .vellipsis {  background: var(--jp-layout-color0);  color: var(--jp-cell-editor-border-color);}\n",
       ".datatable .na {  color: var(--jp-cell-editor-border-color);  font-size: 80%;}\n",
       ".datatable .sp {  opacity: 0.25;}\n",
       ".datatable .footer { font-size: 9px; }\n",
       ".datatable .frame_dimensions {  background: var(--jp-border-color3);  border-top: 1px solid var(--jp-border-color0);  color: var(--jp-ui-font-color3);  display: inline-block;  opacity: 0.6;  padding: 1px 10px 1px 5px;}\n",
       "</style>\n"
      ],
      "text/plain": [
       "<IPython.core.display.HTML object>"
      ]
     },
     "metadata": {},
     "output_type": "display_data"
    }
   ],
   "source": [
    "# =========================\n",
    "# Library\n",
    "# =========================\n",
    "import pandas as pd\n",
    "import numpy as np\n",
    "import matplotlib.pyplot as plt\n",
    "from tqdm.auto import tqdm\n",
    "import os\n",
    "import gc\n",
    "import random\n",
    "from glob import glob\n",
    "from sklearn.model_selection import GroupKFold, KFold, StratifiedKFold\n",
    "import warnings\n",
    "import seaborn as sns\n",
    "import pickle\n",
    "import json\n",
    "import re\n",
    "import time\n",
    "import sys\n",
    "from requests import get\n",
    "import multiprocessing\n",
    "import joblib\n",
    "import Levenshtein\n",
    "import difflib\n",
    "from contextlib import contextmanager\n",
    "from sklearn.neighbors import KNeighborsRegressor\n",
    "from sklearn.metrics import log_loss\n",
    "import logging\n",
    "warnings.filterwarnings('ignore')\n",
    "import sys\n",
    "sys.path.append(\"../src/\")\n",
    "from logger import setup_logger, LOGGER\n",
    "from trainer import train_lgbm\n",
    "from util_tool import reduce_mem_usage\n",
    "pd.set_option('display.max_columns', 300)"
   ]
  },
  {
   "cell_type": "code",
   "execution_count": 2,
   "id": "c5cbd851",
   "metadata": {},
   "outputs": [],
   "source": [
    "# =========================\n",
    "# Constant\n",
    "# =========================\n",
    "TRAIN_PATH = \"../data/train.csv\"\n",
    "TARGET = \"point_of_interest\""
   ]
  },
  {
   "cell_type": "code",
   "execution_count": 3,
   "id": "97f6f539",
   "metadata": {},
   "outputs": [],
   "source": [
    "# =========================\n",
    "# Settings\n",
    "# =========================\n",
    "exp = \"062\"\n",
    "val_fold = 0\n",
    "if not os.path.exists(f\"../output/exp/ex{exp}\"):\n",
    "    os.makedirs(f\"../output/exp/ex{exp}\")\n",
    "    os.makedirs(f\"../output/exp/ex{exp}/model\")\n",
    "LOGGER_PATH = f\"../output/exp/ex{exp}/ex_{exp}.txt\"\n",
    "MODEL_PATH = f\"../output/exp/ex{exp}/model\"\n",
    "\n",
    "SEED = 0\n",
    "LGBM_PARAMS = {'num_leaves': 32,\n",
    "               'min_data_in_leaf': 64,\n",
    "               'objective': 'binary',\n",
    "               'max_depth': -1,\n",
    "               'learning_rate': 0.1,\n",
    "               \"boosting\": \"gbdt\",\n",
    "               \"bagging_freq\": 1,\n",
    "               \"bagging_fraction\": 0.8,\n",
    "               \"bagging_seed\": SEED,\n",
    "               \"verbosity\": -1,\n",
    "              'reg_alpha': 0.1,\n",
    "              'reg_lambda': 0.3,\n",
    "              'colsample_bytree': 0.7,\n",
    "              'metric':\"binary_logloss\",\n",
    "              'num_threads':56\n",
    "         }\n",
    "\n",
    "LGBM_FIT_PARAMS = {\n",
    "    'num_boost_round': 3000,\n",
    "    'early_stopping_rounds': 200,\n",
    "    'verbose_eval': 1000,\n",
    "}\n",
    "\n",
    "fe_list = [\"../output/fe/fe066.pkl\",\n",
    "           \"../output/fe/fe067.pkl\",\n",
    "           \"../output/fe/fe068.pkl\",\n",
    "           \"../output/fe/fe069.pkl\"]"
   ]
  },
  {
   "cell_type": "code",
   "execution_count": 4,
   "id": "c0399557",
   "metadata": {},
   "outputs": [],
   "source": [
    "# =========================\n",
    "# Functions\n",
    "# =========================\n",
    "\n",
    "def calc_loss(y_true, y_pred):\n",
    "    return  log_loss(y_true, y_pred)\n",
    "\n",
    "\n",
    "@contextmanager\n",
    "def timer(name):\n",
    "    t0 = time.time()\n",
    "    yield \n",
    "    LOGGER.info(f'[{name}] done in {time.time() - t0:.0f} s')\n",
    "    \n",
    "\n",
    "\n",
    "# https://www.kaggle.com/code/columbia2131/foursquare-iou-metrics\n",
    "def get_id2poi(input_df: pd.DataFrame) -> dict:\n",
    "    return dict(zip(input_df['id'], input_df['point_of_interest']))\n",
    "\n",
    "def get_poi2ids(input_df: pd.DataFrame) -> dict:\n",
    "    return input_df.groupby('point_of_interest')['id'].apply(set).to_dict()\n",
    "\n",
    "def get_score(input_df: pd.DataFrame):\n",
    "    scores = []\n",
    "    for id_str, matches in zip(input_df['id'].to_numpy(), input_df['matches'].to_numpy()):\n",
    "        targets = poi2ids[id2poi[id_str]]\n",
    "        preds = set(matches.split())\n",
    "        score = len((targets & preds)) / len((targets | preds))\n",
    "        scores.append(score)\n",
    "    scores = np.array(scores)\n",
    "    return scores.mean()\n",
    "\n",
    "\n",
    "def join(df):\n",
    "    x = [str(e) for e in list(df)]\n",
    "    return \" \".join(x)"
   ]
  },
  {
   "cell_type": "code",
   "execution_count": 5,
   "id": "9063d173",
   "metadata": {},
   "outputs": [
    {
     "name": "stderr",
     "output_type": "stream",
     "text": [
      "2022-06-02 12:30:25,119 - INFO - logger set up\n"
     ]
    },
    {
     "data": {
      "text/plain": [
       "<RootLogger root (DEBUG)>"
      ]
     },
     "execution_count": 5,
     "metadata": {},
     "output_type": "execute_result"
    }
   ],
   "source": [
    "LOGGER = logging.getLogger()\n",
    "FORMATTER = logging.Formatter(\"%(asctime)s - %(levelname)s - %(message)s\")\n",
    "setup_logger(out_file=LOGGER_PATH)"
   ]
  },
  {
   "cell_type": "code",
   "execution_count": 6,
   "id": "8e6e0049-072b-4556-a153-0f3e7714735d",
   "metadata": {},
   "outputs": [],
   "source": [
    "# =============================\n",
    "# Main\n",
    "# =============================\n",
    "train = pd.read_pickle(fe_list[0]) "
   ]
  },
  {
   "cell_type": "code",
   "execution_count": 7,
   "id": "9f65552d",
   "metadata": {},
   "outputs": [],
   "source": [
    "for i in range(1,len(fe_list)):\n",
    "    _train = pd.read_pickle(fe_list[i])\n",
    "    train = pd.concat([train,_train],axis=1)\n",
    "    del _train\n",
    "    gc.collect()\n",
    "# train[\"target\"] = train[TARGET] == train[\"near_target\"]\n",
    "# train[\"target\"] = train[\"target\"].astype(int)"
   ]
  },
  {
   "cell_type": "code",
   "execution_count": 8,
   "id": "1f0044d0",
   "metadata": {},
   "outputs": [
    {
     "data": {
      "text/plain": [
       "23"
      ]
     },
     "execution_count": 8,
     "metadata": {},
     "output_type": "execute_result"
    }
   ],
   "source": [
    "train_tr = train[train[\"set\"] != val_fold].reset_index(drop=True)\n",
    "val_tr = train[train[\"set\"] == val_fold].reset_index(drop=True)\n",
    "del train\n",
    "gc.collect()"
   ]
  },
  {
   "cell_type": "code",
   "execution_count": 9,
   "id": "d4962980-bd08-44ee-a47a-ecb4c466469f",
   "metadata": {},
   "outputs": [],
   "source": [
    "drop_cols = ['id', 'name','match','oof', 'oof_rank',\n",
    "       'address', 'city', 'state', 'zip','country', 'url', 'phone',\n",
    "       'categories', 'point_of_interest', 'set',\n",
    "       'near_target', 'near_id', 'near_name', 'near_address', 'near_city',\n",
    "       'near_state', 'near_zip', 'near_country', 'near_url', 'near_phone',\n",
    "       'near_categories','target']\n",
    "features = [i for i in train_tr.columns if i not in drop_cols]"
   ]
  },
  {
   "cell_type": "code",
   "execution_count": 11,
   "id": "6c66e008",
   "metadata": {},
   "outputs": [
    {
     "name": "stdout",
     "output_type": "stream",
     "text": [
      "train: 21745841\n",
      "Training until validation scores don't improve for 200 rounds\n",
      "[1000]\ttraining's binary_logloss: 0.026989\tvalid_1's binary_logloss: 0.034573\n",
      "[2000]\ttraining's binary_logloss: 0.0230933\tvalid_1's binary_logloss: 0.0335746\n",
      "[3000]\ttraining's binary_logloss: 0.0205002\tvalid_1's binary_logloss: 0.0331257\n",
      "Did not meet early stopping. Best iteration is:\n",
      "[3000]\ttraining's binary_logloss: 0.0205002\tvalid_1's binary_logloss: 0.0331257\n"
     ]
    },
    {
     "name": "stderr",
     "output_type": "stream",
     "text": [
      "2022-06-02 13:02:21,950 - INFO - Fold0:CV=(0.033125739157239556,)\n",
      "2022-06-02 13:02:21,952 - INFO - [fold 0] done in 1724 s\n",
      "2022-06-02 13:02:21,952 - INFO - [lightgbm] done in 1724 s\n"
     ]
    }
   ],
   "source": [
    "with timer(\"lightgbm\"):\n",
    "    drop_cols = []\n",
    "    feature_importances = pd.DataFrame()\n",
    "    categorical_features = []\n",
    "    fold = 0\n",
    "    with timer(f\"fold {fold}\"):\n",
    "        x_train = train_tr[features].values.astype(np.float32)\n",
    "        x_val = val_tr[features].values.astype(np.float32)\n",
    "        y_train = train_tr[\"target\"].values\n",
    "        y_val = val_tr[\"target\"].values\n",
    "        print(\"train:\",len(x_train))\n",
    "        y_pred_valid, y_pred_test, valid_loss, importances, best_iter, model = train_lgbm(\n",
    "                    x_train, y_train, x_val, y_val,None,\n",
    "                    categorical_features=categorical_features,\n",
    "                    feature_name=features,\n",
    "                    fold_id=fold,\n",
    "                    lgb_params=LGBM_PARAMS,\n",
    "                    fit_params=LGBM_FIT_PARAMS,\n",
    "                    loss_func=calc_loss,\n",
    "                    calc_importances=True\n",
    "                )\n",
    "\n",
    "        score = calc_loss(y_val,y_pred_valid),\n",
    "        LOGGER.info(f'Fold{fold}:CV={score}')\n",
    "        feature_importances = pd.concat([feature_importances, importances], axis=0, sort=False)"
   ]
  },
  {
   "cell_type": "code",
   "execution_count": 12,
   "id": "eba7402e",
   "metadata": {},
   "outputs": [],
   "source": [
    "np.save(f\"../output/exp/ex{exp}/oof.npy\",y_pred_valid)"
   ]
  },
  {
   "cell_type": "code",
   "execution_count": 13,
   "id": "2a436bb7",
   "metadata": {},
   "outputs": [
    {
     "data": {
      "text/plain": [
       "<lightgbm.basic.Booster at 0x7f83131e0350>"
      ]
     },
     "execution_count": 13,
     "metadata": {},
     "output_type": "execute_result"
    }
   ],
   "source": [
    "import pickle\n",
    "save_path = f\"{MODEL_PATH}/lgb_fold{val_fold}.pkl\"\n",
    "pickle.dump(model, open(save_path, 'wb'))\n",
    "model.save_model(f\"{MODEL_PATH}/lgb_fold{val_fold}.txt\")"
   ]
  },
  {
   "cell_type": "code",
   "execution_count": null,
   "id": "bae86401-a133-4935-a2e9-e42440195e45",
   "metadata": {},
   "outputs": [],
   "source": [
    "# CVの計算"
   ]
  },
  {
   "cell_type": "code",
   "execution_count": 14,
   "id": "c1341f83-7247-4663-afaa-ab2cea7c3348",
   "metadata": {},
   "outputs": [],
   "source": [
    "train_raw = pd.read_csv(TRAIN_PATH)\n",
    "kf = GroupKFold(n_splits=2)\n",
    "for i, (trn_idx, val_idx) in enumerate(kf.split(train_raw, train_raw[TARGET],\n",
    "                                                train_raw[TARGET])):\n",
    "    train_raw.loc[val_idx, \"set\"] = i"
   ]
  },
  {
   "cell_type": "code",
   "execution_count": 15,
   "id": "dfd83e8f",
   "metadata": {},
   "outputs": [],
   "source": [
    "val_tr[\"pred\"] = y_pred_valid\n",
    "val_tr_ = val_tr[val_tr[\"pred\"] >= 0.5].reset_index(drop=True)\n",
    "#del val_tr\n",
    "gc.collect()\n",
    "val_id = train_raw[train_raw[\"set\"] == val_fold][\"id\"].unique()\n",
    "#del val_\n",
    "gc.collect()\n",
    "val_id_match = pd.DataFrame()\n",
    "val_id_match[\"id\"] = val_id\n",
    "val_id_match[\"near_id\"] = val_id\n",
    "val_all = pd.concat([val_id_match,val_tr_[[\"id\",\"near_id\"]]]).reset_index(drop=True)"
   ]
  },
  {
   "cell_type": "code",
   "execution_count": 16,
   "id": "a0020c3e-09c4-4531-9c77-77f2b0b56143",
   "metadata": {},
   "outputs": [
    {
     "data": {
      "text/plain": [
       "23"
      ]
     },
     "execution_count": 16,
     "metadata": {},
     "output_type": "execute_result"
    }
   ],
   "source": [
    "#val_all = val_all[[\"id\",\"near_id\"]].reset_index(drop=True)\n",
    "val_all_ = val_all.copy()\n",
    "val_all_.columns = [\"near_id\",\"id\"]\n",
    "val_all = pd.concat([val_all,val_all_]).reset_index(drop=True)\n",
    "val_all = val_all.drop_duplicates(subset=[\"id\",\"near_id\"]).reset_index(drop=True)\n",
    "del val_all_\n",
    "gc.collect()"
   ]
  },
  {
   "cell_type": "code",
   "execution_count": 17,
   "id": "d51490d2-f79b-4779-8dbb-33ad28163196",
   "metadata": {},
   "outputs": [],
   "source": [
    "train_raw = pd.read_csv(TRAIN_PATH)\n",
    "val_all = val_all.merge(train_raw[[\"id\",\"point_of_interest\"]],how=\"left\",on=\"id\").reset_index(drop=True)"
   ]
  },
  {
   "cell_type": "code",
   "execution_count": 18,
   "id": "dfb575bf-61ed-4205-b9b9-0db5b00676fc",
   "metadata": {},
   "outputs": [],
   "source": [
    "id2poi = get_id2poi(val_all)\n",
    "poi2ids = get_poi2ids(val_all)"
   ]
  },
  {
   "cell_type": "code",
   "execution_count": 19,
   "id": "e3e5e9a0-8afc-45c5-89bb-92d9ae543706",
   "metadata": {},
   "outputs": [],
   "source": [
    "docs = val_all.groupby(\"id\")[\"near_id\"].apply(join)"
   ]
  },
  {
   "cell_type": "code",
   "execution_count": 20,
   "id": "57318d58-4aca-47d6-8ab5-2822faaa964e",
   "metadata": {},
   "outputs": [
    {
     "name": "stdout",
     "output_type": "stream",
     "text": [
      "0.8751669446620102\n"
     ]
    }
   ],
   "source": [
    "docs = docs.reset_index()\n",
    "docs.columns = [\"id\",\"matches\"]\n",
    "score = get_score(docs)\n",
    "print(score)"
   ]
  },
  {
   "cell_type": "code",
   "execution_count": null,
   "id": "f0b3cfae-1cad-45e9-ab14-c1e0c97f73db",
   "metadata": {},
   "outputs": [],
   "source": []
  }
 ],
 "metadata": {
  "kernelspec": {
   "display_name": "Python 3 (ipykernel)",
   "language": "python",
   "name": "python3"
  },
  "language_info": {
   "codemirror_mode": {
    "name": "ipython",
    "version": 3
   },
   "file_extension": ".py",
   "mimetype": "text/x-python",
   "name": "python",
   "nbconvert_exporter": "python",
   "pygments_lexer": "ipython3",
   "version": "3.7.12"
  }
 },
 "nbformat": 4,
 "nbformat_minor": 5
}
