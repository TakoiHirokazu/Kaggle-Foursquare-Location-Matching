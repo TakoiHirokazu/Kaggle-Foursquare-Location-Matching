{
 "cells": [
  {
   "cell_type": "code",
   "execution_count": 1,
   "id": "e9fc9075",
   "metadata": {},
   "outputs": [
    {
     "data": {
      "text/html": [
       "<style type='text/css'>\n",
       ".datatable table.frame { margin-bottom: 0; }\n",
       ".datatable table.frame thead { border-bottom: none; }\n",
       ".datatable table.frame tr.coltypes td {  color: #FFFFFF;  line-height: 6px;  padding: 0 0.5em;}\n",
       ".datatable .bool    { background: #DDDD99; }\n",
       ".datatable .object  { background: #565656; }\n",
       ".datatable .int     { background: #5D9E5D; }\n",
       ".datatable .float   { background: #4040CC; }\n",
       ".datatable .str     { background: #CC4040; }\n",
       ".datatable .time    { background: #40CC40; }\n",
       ".datatable .row_index {  background: var(--jp-border-color3);  border-right: 1px solid var(--jp-border-color0);  color: var(--jp-ui-font-color3);  font-size: 9px;}\n",
       ".datatable .frame tbody td { text-align: left; }\n",
       ".datatable .frame tr.coltypes .row_index {  background: var(--jp-border-color0);}\n",
       ".datatable th:nth-child(2) { padding-left: 12px; }\n",
       ".datatable .hellipsis {  color: var(--jp-cell-editor-border-color);}\n",
       ".datatable .vellipsis {  background: var(--jp-layout-color0);  color: var(--jp-cell-editor-border-color);}\n",
       ".datatable .na {  color: var(--jp-cell-editor-border-color);  font-size: 80%;}\n",
       ".datatable .sp {  opacity: 0.25;}\n",
       ".datatable .footer { font-size: 9px; }\n",
       ".datatable .frame_dimensions {  background: var(--jp-border-color3);  border-top: 1px solid var(--jp-border-color0);  color: var(--jp-ui-font-color3);  display: inline-block;  opacity: 0.6;  padding: 1px 10px 1px 5px;}\n",
       "</style>\n"
      ],
      "text/plain": [
       "<IPython.core.display.HTML object>"
      ]
     },
     "metadata": {},
     "output_type": "display_data"
    }
   ],
   "source": [
    "# =========================\n",
    "# Library\n",
    "# =========================\n",
    "import pandas as pd\n",
    "import numpy as np\n",
    "import matplotlib.pyplot as plt\n",
    "from tqdm.auto import tqdm\n",
    "import os\n",
    "import gc\n",
    "import random\n",
    "from glob import glob\n",
    "from sklearn.model_selection import GroupKFold, KFold, StratifiedKFold\n",
    "import warnings\n",
    "import seaborn as sns\n",
    "import pickle\n",
    "import json\n",
    "import re\n",
    "import time\n",
    "import sys\n",
    "from requests import get\n",
    "import multiprocessing\n",
    "import joblib\n",
    "import Levenshtein\n",
    "import difflib\n",
    "from contextlib import contextmanager\n",
    "from sklearn.neighbors import KNeighborsRegressor\n",
    "from sklearn.metrics import log_loss\n",
    "import logging\n",
    "warnings.filterwarnings('ignore')\n",
    "import sys\n",
    "sys.path.append(\"../src/\")\n",
    "from logger import setup_logger, LOGGER\n",
    "from trainer import train_lgbm,train_cat_classifier\n",
    "from util_tool import reduce_mem_usage\n",
    "pd.set_option('display.max_columns', 300)"
   ]
  },
  {
   "cell_type": "code",
   "execution_count": 2,
   "id": "c5cbd851",
   "metadata": {},
   "outputs": [],
   "source": [
    "# =========================\n",
    "# Constant\n",
    "# =========================\n",
    "TRAIN_PATH = \"../data/train.csv\"\n",
    "TARGET = \"point_of_interest\""
   ]
  },
  {
   "cell_type": "code",
   "execution_count": 3,
   "id": "97f6f539",
   "metadata": {},
   "outputs": [],
   "source": [
    "# =========================\n",
    "# Settings\n",
    "# =========================\n",
    "exp = \"090\"\n",
    "val_fold = 0\n",
    "if not os.path.exists(f\"../output/exp/ex{exp}\"):\n",
    "    os.makedirs(f\"../output/exp/ex{exp}\")\n",
    "    os.makedirs(f\"../output/exp/ex{exp}/model\")\n",
    "LOGGER_PATH = f\"../output/exp/ex{exp}/ex_{exp}.txt\"\n",
    "MODEL_PATH = f\"../output/exp/ex{exp}/model\"\n",
    "\n",
    "SEED = 0\n",
    "CAT_PARAMS = {\n",
    "   'iterations':5000,\n",
    "    'learning_rate': 0.1,\n",
    "    'loss_function':'Logloss',\n",
    "    'random_seed':SEED,\n",
    "    'depth': 9,\n",
    "    'logging_level':'Silent',\n",
    "    }\n",
    "\n",
    "fe_list = [\"../output/fe/fe066.pkl\",\n",
    "           \"../output/fe/fe067.pkl\",\n",
    "           \"../output/fe/fe068.pkl\",\n",
    "           \"../output/fe/fe069.pkl\"]"
   ]
  },
  {
   "cell_type": "code",
   "execution_count": 4,
   "id": "c0399557",
   "metadata": {},
   "outputs": [],
   "source": [
    "# =========================\n",
    "# Functions\n",
    "# =========================\n",
    "\n",
    "def calc_loss(y_true, y_pred):\n",
    "    return  log_loss(y_true, y_pred)\n",
    "\n",
    "\n",
    "@contextmanager\n",
    "def timer(name):\n",
    "    t0 = time.time()\n",
    "    yield \n",
    "    LOGGER.info(f'[{name}] done in {time.time() - t0:.0f} s')\n",
    "    \n",
    "\n",
    "\n",
    "# https://www.kaggle.com/code/columbia2131/foursquare-iou-metrics\n",
    "def get_id2poi(input_df: pd.DataFrame) -> dict:\n",
    "    return dict(zip(input_df['id'], input_df['point_of_interest']))\n",
    "\n",
    "def get_poi2ids(input_df: pd.DataFrame) -> dict:\n",
    "    return input_df.groupby('point_of_interest')['id'].apply(set).to_dict()\n",
    "\n",
    "def get_score(input_df: pd.DataFrame):\n",
    "    scores = []\n",
    "    for id_str, matches in zip(input_df['id'].to_numpy(), input_df['matches'].to_numpy()):\n",
    "        targets = poi2ids[id2poi[id_str]]\n",
    "        preds = set(matches.split())\n",
    "        score = len((targets & preds)) / len((targets | preds))\n",
    "        scores.append(score)\n",
    "    scores = np.array(scores)\n",
    "    return scores.mean()\n"
   ]
  },
  {
   "cell_type": "code",
   "execution_count": 5,
   "id": "9063d173",
   "metadata": {},
   "outputs": [
    {
     "name": "stderr",
     "output_type": "stream",
     "text": [
      "2022-06-18 05:25:57,620 - INFO - logger set up\n"
     ]
    },
    {
     "data": {
      "text/plain": [
       "<RootLogger root (DEBUG)>"
      ]
     },
     "execution_count": 5,
     "metadata": {},
     "output_type": "execute_result"
    }
   ],
   "source": [
    "LOGGER = logging.getLogger()\n",
    "FORMATTER = logging.Formatter(\"%(asctime)s - %(levelname)s - %(message)s\")\n",
    "setup_logger(out_file=LOGGER_PATH)"
   ]
  },
  {
   "cell_type": "code",
   "execution_count": 6,
   "id": "8e6e0049-072b-4556-a153-0f3e7714735d",
   "metadata": {},
   "outputs": [],
   "source": [
    "train = pd.read_pickle(fe_list[0]) "
   ]
  },
  {
   "cell_type": "code",
   "execution_count": 7,
   "id": "9f65552d",
   "metadata": {},
   "outputs": [],
   "source": [
    "for i in range(1,len(fe_list)):\n",
    "    _train = pd.read_pickle(fe_list[i])\n",
    "    train = pd.concat([train,_train],axis=1)\n",
    "    del _train\n",
    "    gc.collect()\n",
    "# train[\"target\"] = train[TARGET] == train[\"near_target\"]\n",
    "# train[\"target\"] = train[\"target\"].astype(int)"
   ]
  },
  {
   "cell_type": "code",
   "execution_count": null,
   "id": "1f0044d0",
   "metadata": {},
   "outputs": [],
   "source": []
  },
  {
   "cell_type": "code",
   "execution_count": 8,
   "id": "d4962980-bd08-44ee-a47a-ecb4c466469f",
   "metadata": {},
   "outputs": [],
   "source": [
    "drop_cols = ['id', 'name','match','oof', 'oof_rank',\n",
    "       'address', 'city', 'state', 'zip','country', 'url', 'phone',\n",
    "       'categories', 'point_of_interest', 'set',\n",
    "       'near_target', 'near_id', 'near_name', 'near_address', 'near_city',\n",
    "       'near_state', 'near_zip', 'near_country', 'near_url', 'near_phone',\n",
    "       'near_categories','target']\n",
    "features = [i for i in train.columns if i not in drop_cols]"
   ]
  },
  {
   "cell_type": "code",
   "execution_count": 10,
   "id": "6c66e008",
   "metadata": {},
   "outputs": [
    {
     "name": "stdout",
     "output_type": "stream",
     "text": [
      "train: 43494190\n"
     ]
    },
    {
     "name": "stderr",
     "output_type": "stream",
     "text": [
      "2022-06-18 08:33:10,817 - INFO - [fold 0] done in 11067 s\n",
      "2022-06-18 08:33:10,818 - INFO - [catboost] done in 11067 s\n"
     ]
    }
   ],
   "source": [
    "with timer(\"catboost\"):\n",
    "    drop_cols = []\n",
    "    feature_importances = pd.DataFrame()\n",
    "    categorical_features = []\n",
    "    fold = 0\n",
    "    with timer(f\"fold {fold}\"):\n",
    "        x_train = train[features].values.astype(np.float32)\n",
    "        y_train = train[\"target\"].values\n",
    "        print(\"train:\",len(x_train))\n",
    "        y_pred_valid, y_pred_test, valid_loss, best_iter, model = train_cat_classifier(\n",
    "                    x_train, y_train, None,None,None,\n",
    "                    categorical_features=categorical_features,\n",
    "                    feature_name=features,\n",
    "                    cat_params=CAT_PARAMS,\n",
    "                    loss_func=calc_loss,\n",
    "                )"
   ]
  },
  {
   "cell_type": "code",
   "execution_count": 11,
   "id": "2a436bb7",
   "metadata": {},
   "outputs": [],
   "source": [
    "model.save_model(f\"../output/exp/ex{exp}/model/model\")"
   ]
  },
  {
   "cell_type": "code",
   "execution_count": null,
   "id": "4cf348dc-a212-4db9-abe9-7b5d52795be5",
   "metadata": {},
   "outputs": [],
   "source": []
  }
 ],
 "metadata": {
  "kernelspec": {
   "display_name": "Python 3 (ipykernel)",
   "language": "python",
   "name": "python3"
  },
  "language_info": {
   "codemirror_mode": {
    "name": "ipython",
    "version": 3
   },
   "file_extension": ".py",
   "mimetype": "text/x-python",
   "name": "python",
   "nbconvert_exporter": "python",
   "pygments_lexer": "ipython3",
   "version": "3.7.12"
  }
 },
 "nbformat": 4,
 "nbformat_minor": 5
}
