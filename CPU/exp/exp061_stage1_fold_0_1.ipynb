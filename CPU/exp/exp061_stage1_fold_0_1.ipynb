{
 "cells": [
  {
   "cell_type": "code",
   "execution_count": 1,
   "id": "e9fc9075",
   "metadata": {},
   "outputs": [
    {
     "data": {
      "text/html": [
       "<style type='text/css'>\n",
       ".datatable table.frame { margin-bottom: 0; }\n",
       ".datatable table.frame thead { border-bottom: none; }\n",
       ".datatable table.frame tr.coltypes td {  color: #FFFFFF;  line-height: 6px;  padding: 0 0.5em;}\n",
       ".datatable .bool    { background: #DDDD99; }\n",
       ".datatable .object  { background: #565656; }\n",
       ".datatable .int     { background: #5D9E5D; }\n",
       ".datatable .float   { background: #4040CC; }\n",
       ".datatable .str     { background: #CC4040; }\n",
       ".datatable .time    { background: #40CC40; }\n",
       ".datatable .row_index {  background: var(--jp-border-color3);  border-right: 1px solid var(--jp-border-color0);  color: var(--jp-ui-font-color3);  font-size: 9px;}\n",
       ".datatable .frame tbody td { text-align: left; }\n",
       ".datatable .frame tr.coltypes .row_index {  background: var(--jp-border-color0);}\n",
       ".datatable th:nth-child(2) { padding-left: 12px; }\n",
       ".datatable .hellipsis {  color: var(--jp-cell-editor-border-color);}\n",
       ".datatable .vellipsis {  background: var(--jp-layout-color0);  color: var(--jp-cell-editor-border-color);}\n",
       ".datatable .na {  color: var(--jp-cell-editor-border-color);  font-size: 80%;}\n",
       ".datatable .sp {  opacity: 0.25;}\n",
       ".datatable .footer { font-size: 9px; }\n",
       ".datatable .frame_dimensions {  background: var(--jp-border-color3);  border-top: 1px solid var(--jp-border-color0);  color: var(--jp-ui-font-color3);  display: inline-block;  opacity: 0.6;  padding: 1px 10px 1px 5px;}\n",
       "</style>\n"
      ],
      "text/plain": [
       "<IPython.core.display.HTML object>"
      ]
     },
     "metadata": {},
     "output_type": "display_data"
    }
   ],
   "source": [
    "# =========================\n",
    "# Library\n",
    "# =========================\n",
    "import pandas as pd\n",
    "import numpy as np\n",
    "import matplotlib.pyplot as plt\n",
    "from tqdm.auto import tqdm\n",
    "import os\n",
    "import gc\n",
    "import random\n",
    "from glob import glob\n",
    "from sklearn.model_selection import GroupKFold, KFold, StratifiedKFold\n",
    "import warnings\n",
    "import seaborn as sns\n",
    "import pickle\n",
    "import json\n",
    "import re\n",
    "import time\n",
    "import sys\n",
    "from requests import get\n",
    "import multiprocessing\n",
    "import joblib\n",
    "import Levenshtein\n",
    "import difflib\n",
    "from contextlib import contextmanager\n",
    "from sklearn.neighbors import KNeighborsRegressor\n",
    "from sklearn.metrics import log_loss\n",
    "import pickle\n",
    "import logging\n",
    "warnings.filterwarnings('ignore')\n",
    "import sys\n",
    "sys.path.append(\"../src/\")\n",
    "from logger import setup_logger, LOGGER\n",
    "from trainer import train_lgbm\n",
    "from util_tool import reduce_mem_usage\n",
    "pd.set_option('display.max_columns', 300)"
   ]
  },
  {
   "cell_type": "code",
   "execution_count": 2,
   "id": "c5cbd851",
   "metadata": {},
   "outputs": [],
   "source": [
    "# =========================\n",
    "# Constant\n",
    "# =========================\n",
    "TRAIN_PATH = \"../data/train.csv\"\n",
    "TARGET = \"point_of_interest\""
   ]
  },
  {
   "cell_type": "code",
   "execution_count": 3,
   "id": "97f6f539",
   "metadata": {},
   "outputs": [],
   "source": [
    "# =========================\n",
    "# Settings\n",
    "# =========================\n",
    "exp = \"061\"\n",
    "if not os.path.exists(f\"../output/exp/ex{exp}\"):\n",
    "    os.makedirs(f\"../output/exp/ex{exp}\")\n",
    "    os.makedirs(f\"../output/exp/ex{exp}/model\")\n",
    "\n",
    "LOGGER_PATH = f\"../output/exp/ex{exp}/ex_{exp}.txt\"\n",
    "MODEL_PATH = f\"../output/exp/ex{exp}/model\"\n",
    "\n",
    "SEED = 0\n",
    "LGBM_PARAMS = {'num_leaves': 32,\n",
    "               'min_data_in_leaf': 64,\n",
    "               'objective': 'binary',\n",
    "               'max_depth': -1,\n",
    "               'learning_rate': 0.1,\n",
    "               \"boosting\": \"gbdt\",\n",
    "               \"bagging_freq\": 1,\n",
    "               \"bagging_fraction\": 0.8,\n",
    "               \"bagging_seed\": SEED,\n",
    "               \"verbosity\": -1,\n",
    "              'reg_alpha': 0.1,\n",
    "              'reg_lambda': 0.3,\n",
    "              'colsample_bytree': 0.7,\n",
    "              'metric':\"binary_logloss\",\n",
    "              'num_threads':56\n",
    "         }\n",
    "\n",
    "LGBM_FIT_PARAMS = {\n",
    "    'num_boost_round': 1000,\n",
    "    'early_stopping_rounds': 300,\n",
    "    'verbose_eval': 500,\n",
    "}\n",
    "\n",
    "fe_list = [\"../output/fe/fe065.pkl\",]"
   ]
  },
  {
   "cell_type": "code",
   "execution_count": 4,
   "id": "c0399557",
   "metadata": {},
   "outputs": [],
   "source": [
    "# =========================\n",
    "# Functions\n",
    "# =========================\n",
    "\n",
    "def calc_loss(y_true, y_pred):\n",
    "    return  log_loss(y_true, y_pred)\n",
    "\n",
    "\n",
    "@contextmanager\n",
    "def timer(name):\n",
    "    t0 = time.time()\n",
    "    yield \n",
    "    LOGGER.info(f'[{name}] done in {time.time() - t0:.0f} s')"
   ]
  },
  {
   "cell_type": "code",
   "execution_count": 5,
   "id": "9063d173",
   "metadata": {},
   "outputs": [
    {
     "name": "stderr",
     "output_type": "stream",
     "text": [
      "2022-06-02 04:49:28,505 - INFO - logger set up\n"
     ]
    },
    {
     "data": {
      "text/plain": [
       "<RootLogger root (DEBUG)>"
      ]
     },
     "execution_count": 5,
     "metadata": {},
     "output_type": "execute_result"
    }
   ],
   "source": [
    "LOGGER = logging.getLogger()\n",
    "FORMATTER = logging.Formatter(\"%(asctime)s - %(levelname)s - %(message)s\")\n",
    "setup_logger(out_file=LOGGER_PATH)"
   ]
  },
  {
   "cell_type": "code",
   "execution_count": 6,
   "id": "8e6e0049-072b-4556-a153-0f3e7714735d",
   "metadata": {},
   "outputs": [],
   "source": [
    "# =============================\n",
    "# Main\n",
    "# =============================\n",
    "train = pd.read_pickle(fe_list[0]) "
   ]
  },
  {
   "cell_type": "code",
   "execution_count": 7,
   "id": "01b76cfb-9a14-41e0-88c1-15518df7b411",
   "metadata": {},
   "outputs": [],
   "source": [
    "train[\"target\"] = train[TARGET] == train[\"near_target\"]\n",
    "train[\"target\"] = train[\"target\"].astype(int)"
   ]
  },
  {
   "cell_type": "code",
   "execution_count": 8,
   "id": "4847a704-faf0-4c16-b3f8-14f9a1cae2e4",
   "metadata": {},
   "outputs": [],
   "source": [
    "y = train[\"target\"].values"
   ]
  },
  {
   "cell_type": "code",
   "execution_count": 9,
   "id": "53fd36b7-5e06-48e4-ab9f-84ff101cbc86",
   "metadata": {},
   "outputs": [],
   "source": [
    "fold_array = train[\"set\"].values.astype(int)"
   ]
  },
  {
   "cell_type": "code",
   "execution_count": 10,
   "id": "d4962980-bd08-44ee-a47a-ecb4c466469f",
   "metadata": {},
   "outputs": [
    {
     "name": "stdout",
     "output_type": "stream",
     "text": [
      "['latitude', 'longitude', 'rank', 'd_near', 'near_latitude', 'near_longitude', 'name_jaro', 'distance']\n"
     ]
    }
   ],
   "source": [
    "drop_cols = ['id', 'name','name_num',\n",
    "       'address', 'city', 'state', 'zip','country', 'url', 'phone',\n",
    "       'categories', 'point_of_interest', 'set',\n",
    "       'near_target', 'near_id', 'near_name', 'near_address', 'near_city',\n",
    "       'near_state', 'near_zip', 'near_country', 'near_url', 'near_phone',\n",
    "       'near_categories','target','match', 'id_near_id']\n",
    "features = [i for i in train.columns if i not in drop_cols]\n",
    "print(features)"
   ]
  },
  {
   "cell_type": "code",
   "execution_count": 11,
   "id": "6c66e008",
   "metadata": {},
   "outputs": [
    {
     "name": "stdout",
     "output_type": "stream",
     "text": [
      "Training until validation scores don't improve for 300 rounds\n",
      "[500]\ttraining's binary_logloss: 0.0141064\tvalid_1's binary_logloss: 0.0192384\n",
      "[1000]\ttraining's binary_logloss: 0.0130175\tvalid_1's binary_logloss: 0.019026\n",
      "Did not meet early stopping. Best iteration is:\n",
      "[1000]\ttraining's binary_logloss: 0.0130175\tvalid_1's binary_logloss: 0.019026\n"
     ]
    },
    {
     "name": "stderr",
     "output_type": "stream",
     "text": [
      "2022-06-02 05:09:12,588 - INFO - Fold0:CV=(0.01902599166541387,)\n",
      "2022-06-02 05:09:12,650 - INFO - [fold 0] done in 1022 s\n"
     ]
    },
    {
     "name": "stdout",
     "output_type": "stream",
     "text": [
      "Training until validation scores don't improve for 300 rounds\n",
      "[500]\ttraining's binary_logloss: 0.0148591\tvalid_1's binary_logloss: 0.0200669\n",
      "[1000]\ttraining's binary_logloss: 0.0137433\tvalid_1's binary_logloss: 0.0199221\n",
      "Did not meet early stopping. Best iteration is:\n",
      "[1000]\ttraining's binary_logloss: 0.0137433\tvalid_1's binary_logloss: 0.0199221\n"
     ]
    },
    {
     "name": "stderr",
     "output_type": "stream",
     "text": [
      "2022-06-02 05:36:41,174 - INFO - Fold1:CV=(0.0199221076673244,)\n",
      "2022-06-02 05:36:41,237 - INFO - [fold 1] done in 1649 s\n",
      "2022-06-02 05:36:42,951 - INFO - [lightgbm] done in 2672 s\n"
     ]
    }
   ],
   "source": [
    "with timer(\"lightgbm\"):\n",
    "    drop_cols = []\n",
    "    feature_importances = pd.DataFrame()\n",
    "    categorical_features = []\n",
    "    y_oof = np.empty([len(train),])\n",
    "    for fold in range(2):\n",
    "        with timer(f\"fold {fold}\"):\n",
    "            x_train, y_train = train[fold_array != fold][features].values.astype(np.float32), y[fold_array != fold]\n",
    "            x_val, y_val = train[fold_array == fold][features].values.astype(np.float32), y[fold_array == fold]\n",
    "            y_pred_valid, y_pred_test, valid_loss, importances, best_iter, model = train_lgbm(\n",
    "                        x_train, y_train, x_val, y_val,None,\n",
    "                        categorical_features=categorical_features,\n",
    "                        feature_name=features,\n",
    "                        fold_id=fold,\n",
    "                        lgb_params=LGBM_PARAMS,\n",
    "                        fit_params=LGBM_FIT_PARAMS,\n",
    "                        loss_func=calc_loss,\n",
    "                        calc_importances=True\n",
    "                    )\n",
    "            y_oof[fold_array == fold] = y_pred_valid\n",
    "            score = calc_loss(y_val,y_pred_valid),\n",
    "            LOGGER.info(f'Fold{fold}:CV={score}')\n",
    "            feature_importances = pd.concat([feature_importances, importances], axis=0, sort=False)\n",
    "            save_path = f\"{MODEL_PATH}/lgb_fold{fold}.pkl\"\n",
    "            pickle.dump(model, open(save_path, 'wb'))\n",
    "            model.save_model(f\"{MODEL_PATH}/lgb_fold{fold}.txt\")\n",
    "    np.save(f\"../output/exp/ex{exp}/oof.npy\",y_oof)"
   ]
  },
  {
   "cell_type": "code",
   "execution_count": 12,
   "id": "9237b5d0-4617-45a9-8746-74d48bfad4a1",
   "metadata": {},
   "outputs": [],
   "source": [
    "train[\"oof\"] = y_oof"
   ]
  },
  {
   "cell_type": "code",
   "execution_count": 13,
   "id": "3b1bd7a4-bdfd-4ea1-8501-8224f665da1e",
   "metadata": {},
   "outputs": [],
   "source": [
    "train[\"id\"] = train[\"id\"].astype('category')"
   ]
  },
  {
   "cell_type": "code",
   "execution_count": 14,
   "id": "ae3adf07-6a81-4446-b31e-0eb12c6ca313",
   "metadata": {},
   "outputs": [],
   "source": [
    "train[\"oof_rank\"] = train.groupby(by=\"id\")[\"oof\"].rank(ascending=False)"
   ]
  },
  {
   "cell_type": "code",
   "execution_count": 15,
   "id": "86d2daa4-fab0-4e27-b1b8-919eb5a43d32",
   "metadata": {},
   "outputs": [],
   "source": [
    "train_ = train[train[\"oof_rank\"] <= 30].reset_index(drop=True)"
   ]
  },
  {
   "cell_type": "code",
   "execution_count": 16,
   "id": "be467760-07b6-4fdd-b4c8-8db2a4c9da2b",
   "metadata": {},
   "outputs": [],
   "source": [
    "train_.to_pickle(f\"../output/exp/exp{exp}_first_stage30.pkl\")"
   ]
  },
  {
   "cell_type": "code",
   "execution_count": null,
   "id": "298295a5-3826-4e87-a6cb-8c192c478832",
   "metadata": {},
   "outputs": [],
   "source": []
  }
 ],
 "metadata": {
  "kernelspec": {
   "display_name": "Python 3 (ipykernel)",
   "language": "python",
   "name": "python3"
  },
  "language_info": {
   "codemirror_mode": {
    "name": "ipython",
    "version": 3
   },
   "file_extension": ".py",
   "mimetype": "text/x-python",
   "name": "python",
   "nbconvert_exporter": "python",
   "pygments_lexer": "ipython3",
   "version": "3.7.12"
  }
 },
 "nbformat": 4,
 "nbformat_minor": 5
}
