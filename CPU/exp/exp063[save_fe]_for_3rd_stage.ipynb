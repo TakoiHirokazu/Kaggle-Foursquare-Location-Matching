{
 "cells": [
  {
   "cell_type": "code",
   "execution_count": 1,
   "id": "eaa47b89-c01c-4547-811f-c20cdf12075f",
   "metadata": {},
   "outputs": [
    {
     "data": {
      "text/html": [
       "<style type='text/css'>\n",
       ".datatable table.frame { margin-bottom: 0; }\n",
       ".datatable table.frame thead { border-bottom: none; }\n",
       ".datatable table.frame tr.coltypes td {  color: #FFFFFF;  line-height: 6px;  padding: 0 0.5em;}\n",
       ".datatable .bool    { background: #DDDD99; }\n",
       ".datatable .object  { background: #565656; }\n",
       ".datatable .int     { background: #5D9E5D; }\n",
       ".datatable .float   { background: #4040CC; }\n",
       ".datatable .str     { background: #CC4040; }\n",
       ".datatable .time    { background: #40CC40; }\n",
       ".datatable .row_index {  background: var(--jp-border-color3);  border-right: 1px solid var(--jp-border-color0);  color: var(--jp-ui-font-color3);  font-size: 9px;}\n",
       ".datatable .frame tbody td { text-align: left; }\n",
       ".datatable .frame tr.coltypes .row_index {  background: var(--jp-border-color0);}\n",
       ".datatable th:nth-child(2) { padding-left: 12px; }\n",
       ".datatable .hellipsis {  color: var(--jp-cell-editor-border-color);}\n",
       ".datatable .vellipsis {  background: var(--jp-layout-color0);  color: var(--jp-cell-editor-border-color);}\n",
       ".datatable .na {  color: var(--jp-cell-editor-border-color);  font-size: 80%;}\n",
       ".datatable .sp {  opacity: 0.25;}\n",
       ".datatable .footer { font-size: 9px; }\n",
       ".datatable .frame_dimensions {  background: var(--jp-border-color3);  border-top: 1px solid var(--jp-border-color0);  color: var(--jp-ui-font-color3);  display: inline-block;  opacity: 0.6;  padding: 1px 10px 1px 5px;}\n",
       "</style>\n"
      ],
      "text/plain": [
       "<IPython.core.display.HTML object>"
      ]
     },
     "metadata": {},
     "output_type": "display_data"
    }
   ],
   "source": [
    "# =========================\n",
    "# Library\n",
    "# =========================\n",
    "import pandas as pd\n",
    "import numpy as np\n",
    "import matplotlib.pyplot as plt\n",
    "from tqdm.auto import tqdm\n",
    "import os\n",
    "import gc\n",
    "import random\n",
    "from glob import glob\n",
    "from sklearn.model_selection import GroupKFold, KFold, StratifiedKFold\n",
    "import warnings\n",
    "import seaborn as sns\n",
    "import pickle\n",
    "import json\n",
    "import re\n",
    "import time\n",
    "import sys\n",
    "from requests import get\n",
    "import multiprocessing\n",
    "import joblib\n",
    "import Levenshtein\n",
    "import difflib\n",
    "from contextlib import contextmanager\n",
    "from sklearn.neighbors import KNeighborsRegressor\n",
    "from sklearn.metrics import log_loss\n",
    "import logging\n",
    "warnings.filterwarnings('ignore')\n",
    "import sys\n",
    "sys.path.append(\"../src/\")\n",
    "from logger import setup_logger, LOGGER\n",
    "from trainer import train_lgbm\n",
    "from util_tool import reduce_mem_usage\n",
    "pd.set_option('display.max_columns', 300)"
   ]
  },
  {
   "cell_type": "code",
   "execution_count": 2,
   "id": "c5cbd851",
   "metadata": {},
   "outputs": [],
   "source": [
    "# =========================\n",
    "# Constant\n",
    "# =========================\n",
    "TRAIN_PATH = \"../data/train.csv\"\n",
    "TARGET = \"point_of_interest\""
   ]
  },
  {
   "cell_type": "code",
   "execution_count": 3,
   "id": "97f6f539",
   "metadata": {},
   "outputs": [],
   "source": [
    "# =========================\n",
    "# Settings\n",
    "# =========================\n",
    "exp = \"063\"\n",
    "val_fold = 1\n",
    "\n",
    "fe_list = [\"../output/fe/fe066.pkl\",\n",
    "           \"../output/fe/fe067.pkl\",\n",
    "           \"../output/fe/fe068.pkl\",\n",
    "           \"../output/fe/fe069.pkl\"]"
   ]
  },
  {
   "cell_type": "code",
   "execution_count": 5,
   "id": "8e6e0049-072b-4556-a153-0f3e7714735d",
   "metadata": {},
   "outputs": [],
   "source": [
    "# ==========================\n",
    "# Main\n",
    "# ==========================\n",
    "train = pd.read_pickle(fe_list[0]) \n",
    "for i in range(1,len(fe_list)):\n",
    "    _train = pd.read_pickle(fe_list[i])\n",
    "    train = pd.concat([train,_train],axis=1)\n",
    "    del _train\n",
    "    gc.collect()"
   ]
  },
  {
   "cell_type": "code",
   "execution_count": 6,
   "id": "1f0044d0",
   "metadata": {},
   "outputs": [
    {
     "data": {
      "text/plain": [
       "23"
      ]
     },
     "execution_count": 6,
     "metadata": {},
     "output_type": "execute_result"
    }
   ],
   "source": [
    "train_tr = train[train[\"set\"] != val_fold].reset_index(drop=True)\n",
    "val_tr = train[train[\"set\"] == val_fold].reset_index(drop=True)\n",
    "del train\n",
    "gc.collect()"
   ]
  },
  {
   "cell_type": "code",
   "execution_count": 7,
   "id": "eba7402e",
   "metadata": {},
   "outputs": [],
   "source": [
    "y_pred_valid = np.load(f\"../output/exp/ex{exp}/oof.npy\")"
   ]
  },
  {
   "cell_type": "code",
   "execution_count": 8,
   "id": "6cd04d34-5dde-4461-bddc-9f6be9df6332",
   "metadata": {},
   "outputs": [],
   "source": [
    "val_tr[\"pred\"] = y_pred_valid"
   ]
  },
  {
   "cell_type": "code",
   "execution_count": 9,
   "id": "49bc14db-33a6-45f3-bd57-5aa1ffe5c64a",
   "metadata": {},
   "outputs": [],
   "source": [
    "# 0.01以上を残す\n",
    "val_tr = val_tr[val_tr[\"pred\"] >= 0.01].reset_index(drop=True)"
   ]
  },
  {
   "cell_type": "code",
   "execution_count": 10,
   "id": "c1a46066-3cac-43bc-ba82-119e912435cb",
   "metadata": {},
   "outputs": [],
   "source": [
    "val_tr.to_csv(\"../output/exp/ex063/ex063_fe.csv\",index=False)"
   ]
  }
 ],
 "metadata": {
  "kernelspec": {
   "display_name": "Python 3 (ipykernel)",
   "language": "python",
   "name": "python3"
  },
  "language_info": {
   "codemirror_mode": {
    "name": "ipython",
    "version": 3
   },
   "file_extension": ".py",
   "mimetype": "text/x-python",
   "name": "python",
   "nbconvert_exporter": "python",
   "pygments_lexer": "ipython3",
   "version": "3.7.12"
  }
 },
 "nbformat": 4,
 "nbformat_minor": 5
}
