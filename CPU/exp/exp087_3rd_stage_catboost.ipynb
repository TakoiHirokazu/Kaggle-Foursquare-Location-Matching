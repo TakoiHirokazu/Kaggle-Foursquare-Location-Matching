{
 "cells": [
  {
   "cell_type": "code",
   "execution_count": 1,
   "id": "e9fc9075",
   "metadata": {},
   "outputs": [
    {
     "data": {
      "text/html": [
       "<style type='text/css'>\n",
       ".datatable table.frame { margin-bottom: 0; }\n",
       ".datatable table.frame thead { border-bottom: none; }\n",
       ".datatable table.frame tr.coltypes td {  color: #FFFFFF;  line-height: 6px;  padding: 0 0.5em;}\n",
       ".datatable .bool    { background: #DDDD99; }\n",
       ".datatable .object  { background: #565656; }\n",
       ".datatable .int     { background: #5D9E5D; }\n",
       ".datatable .float   { background: #4040CC; }\n",
       ".datatable .str     { background: #CC4040; }\n",
       ".datatable .time    { background: #40CC40; }\n",
       ".datatable .row_index {  background: var(--jp-border-color3);  border-right: 1px solid var(--jp-border-color0);  color: var(--jp-ui-font-color3);  font-size: 9px;}\n",
       ".datatable .frame tbody td { text-align: left; }\n",
       ".datatable .frame tr.coltypes .row_index {  background: var(--jp-border-color0);}\n",
       ".datatable th:nth-child(2) { padding-left: 12px; }\n",
       ".datatable .hellipsis {  color: var(--jp-cell-editor-border-color);}\n",
       ".datatable .vellipsis {  background: var(--jp-layout-color0);  color: var(--jp-cell-editor-border-color);}\n",
       ".datatable .na {  color: var(--jp-cell-editor-border-color);  font-size: 80%;}\n",
       ".datatable .sp {  opacity: 0.25;}\n",
       ".datatable .footer { font-size: 9px; }\n",
       ".datatable .frame_dimensions {  background: var(--jp-border-color3);  border-top: 1px solid var(--jp-border-color0);  color: var(--jp-ui-font-color3);  display: inline-block;  opacity: 0.6;  padding: 1px 10px 1px 5px;}\n",
       "</style>\n"
      ],
      "text/plain": [
       "<IPython.core.display.HTML object>"
      ]
     },
     "metadata": {},
     "output_type": "display_data"
    }
   ],
   "source": [
    "# =========================\n",
    "# Library\n",
    "# =========================\n",
    "import pandas as pd\n",
    "import numpy as np\n",
    "import matplotlib.pyplot as plt\n",
    "from tqdm.auto import tqdm\n",
    "import os\n",
    "import gc\n",
    "import random\n",
    "from glob import glob\n",
    "from sklearn.model_selection import GroupKFold, KFold, StratifiedKFold\n",
    "import warnings\n",
    "import seaborn as sns\n",
    "import pickle\n",
    "import json\n",
    "import re\n",
    "import time\n",
    "import sys\n",
    "from requests import get\n",
    "import multiprocessing\n",
    "import joblib\n",
    "import Levenshtein\n",
    "import difflib\n",
    "from contextlib import contextmanager\n",
    "from sklearn.neighbors import KNeighborsRegressor\n",
    "from sklearn.metrics import log_loss\n",
    "import logging\n",
    "warnings.filterwarnings('ignore')\n",
    "import sys\n",
    "sys.path.append(\"../src/\")\n",
    "from logger import setup_logger, LOGGER\n",
    "from trainer import train_lgbm,train_cat_classifier\n",
    "from util_tool import reduce_mem_usage\n",
    "pd.set_option('display.max_columns', 300)"
   ]
  },
  {
   "cell_type": "code",
   "execution_count": 2,
   "id": "c5cbd851",
   "metadata": {},
   "outputs": [],
   "source": [
    "# =========================\n",
    "# Constant\n",
    "# =========================\n",
    "TRAIN_PATH = \"../data/train.csv\"\n",
    "TARGET = \"point_of_interest\""
   ]
  },
  {
   "cell_type": "code",
   "execution_count": 3,
   "id": "97f6f539",
   "metadata": {},
   "outputs": [],
   "source": [
    "# =========================\n",
    "# Settings\n",
    "# =========================\n",
    "exp = \"087\"\n",
    "val_fold = 0\n",
    "if not os.path.exists(f\"../output/exp/ex{exp}\"):\n",
    "    os.makedirs(f\"../output/exp/ex{exp}\")\n",
    "    os.makedirs(f\"../output/exp/ex{exp}/model\")\n",
    "LOGGER_PATH = f\"../output/exp/ex{exp}/ex_{exp}.txt\"\n",
    "MODEL_PATH = f\"../output/exp/ex{exp}/model\"\n",
    "\n",
    "SEED = 0\n",
    "CAT_PARAMS = {\n",
    "   'iterations':4000,\n",
    "    'learning_rate': 0.1,\n",
    "    'loss_function':'Logloss',\n",
    "    'random_seed':SEED,\n",
    "    'metric_period':200,\n",
    "    'od_wait':200,\n",
    "    'depth': 9,\n",
    "    }\n",
    "\n",
    "fe_list = [\"../output/fe/fe066.pkl\",\n",
    "           \"../output/fe/fe067.pkl\",\n",
    "           \"../output/fe/fe068.pkl\",\n",
    "           \"../output/fe/fe069.pkl\"]"
   ]
  },
  {
   "cell_type": "code",
   "execution_count": 4,
   "id": "c0399557",
   "metadata": {},
   "outputs": [],
   "source": [
    "# =========================\n",
    "# Functions\n",
    "# =========================\n",
    "\n",
    "def calc_loss(y_true, y_pred):\n",
    "    return  log_loss(y_true, y_pred)\n",
    "\n",
    "\n",
    "@contextmanager\n",
    "def timer(name):\n",
    "    t0 = time.time()\n",
    "    yield \n",
    "    LOGGER.info(f'[{name}] done in {time.time() - t0:.0f} s')\n",
    "    \n",
    "\n",
    "\n",
    "# https://www.kaggle.com/code/columbia2131/foursquare-iou-metrics\n",
    "def get_id2poi(input_df: pd.DataFrame) -> dict:\n",
    "    return dict(zip(input_df['id'], input_df['point_of_interest']))\n",
    "\n",
    "def get_poi2ids(input_df: pd.DataFrame) -> dict:\n",
    "    return input_df.groupby('point_of_interest')['id'].apply(set).to_dict()\n",
    "\n",
    "def get_score(input_df: pd.DataFrame):\n",
    "    scores = []\n",
    "    for id_str, matches in zip(input_df['id'].to_numpy(), input_df['matches'].to_numpy()):\n",
    "        targets = poi2ids[id2poi[id_str]]\n",
    "        preds = set(matches.split())\n",
    "        score = len((targets & preds)) / len((targets | preds))\n",
    "        scores.append(score)\n",
    "    scores = np.array(scores)\n",
    "    return scores.mean()\n",
    "\n",
    "def join(df):\n",
    "    x = [str(e) for e in list(df)]\n",
    "    return \" \".join(x)\n"
   ]
  },
  {
   "cell_type": "code",
   "execution_count": 5,
   "id": "9063d173",
   "metadata": {},
   "outputs": [
    {
     "name": "stderr",
     "output_type": "stream",
     "text": [
      "2022-06-16 10:36:52,356 - INFO - logger set up\n"
     ]
    },
    {
     "data": {
      "text/plain": [
       "<RootLogger root (DEBUG)>"
      ]
     },
     "execution_count": 5,
     "metadata": {},
     "output_type": "execute_result"
    }
   ],
   "source": [
    "LOGGER = logging.getLogger()\n",
    "FORMATTER = logging.Formatter(\"%(asctime)s - %(levelname)s - %(message)s\")\n",
    "setup_logger(out_file=LOGGER_PATH)"
   ]
  },
  {
   "cell_type": "code",
   "execution_count": 6,
   "id": "8e6e0049-072b-4556-a153-0f3e7714735d",
   "metadata": {},
   "outputs": [],
   "source": [
    "train = pd.read_pickle(fe_list[0]) "
   ]
  },
  {
   "cell_type": "code",
   "execution_count": 7,
   "id": "9f65552d",
   "metadata": {},
   "outputs": [],
   "source": [
    "for i in range(1,len(fe_list)):\n",
    "    _train = pd.read_pickle(fe_list[i])\n",
    "    train = pd.concat([train,_train],axis=1)\n",
    "    del _train\n",
    "    gc.collect()\n",
    "# train[\"target\"] = train[TARGET] == train[\"near_target\"]\n",
    "# train[\"target\"] = train[\"target\"].astype(int)"
   ]
  },
  {
   "cell_type": "code",
   "execution_count": 8,
   "id": "1f0044d0",
   "metadata": {},
   "outputs": [
    {
     "data": {
      "text/plain": [
       "23"
      ]
     },
     "execution_count": 8,
     "metadata": {},
     "output_type": "execute_result"
    }
   ],
   "source": [
    "train_tr = train[train[\"set\"] != val_fold].reset_index(drop=True)\n",
    "val_tr = train[train[\"set\"] == val_fold].reset_index(drop=True)\n",
    "del train\n",
    "gc.collect()"
   ]
  },
  {
   "cell_type": "code",
   "execution_count": 9,
   "id": "d4962980-bd08-44ee-a47a-ecb4c466469f",
   "metadata": {},
   "outputs": [],
   "source": [
    "drop_cols = ['id', 'name','match','oof', 'oof_rank',\n",
    "       'address', 'city', 'state', 'zip','country', 'url', 'phone',\n",
    "       'categories', 'point_of_interest', 'set',\n",
    "       'near_target', 'near_id', 'near_name', 'near_address', 'near_city',\n",
    "       'near_state', 'near_zip', 'near_country', 'near_url', 'near_phone',\n",
    "       'near_categories','target']\n",
    "features = [i for i in train_tr.columns if i not in drop_cols]"
   ]
  },
  {
   "cell_type": "code",
   "execution_count": 11,
   "id": "6c66e008",
   "metadata": {},
   "outputs": [
    {
     "name": "stdout",
     "output_type": "stream",
     "text": [
      "train: 21745841\n"
     ]
    },
    {
     "name": "stderr",
     "output_type": "stream",
     "text": [
      "Warning: Overfitting detector is active, thus evaluation metric is calculated on every iteration. 'metric_period' is ignored for evaluation metric.\n"
     ]
    },
    {
     "name": "stdout",
     "output_type": "stream",
     "text": [
      "0:\tlearn: 0.4666030\ttest: 0.4663499\tbest: 0.4663499 (0)\ttotal: 2.66s\tremaining: 2h 57m 7s\n",
      "200:\tlearn: 0.0361301\ttest: 0.0393333\tbest: 0.0393333 (200)\ttotal: 7m 27s\tremaining: 2h 20m 55s\n",
      "400:\tlearn: 0.0324240\ttest: 0.0370057\tbest: 0.0370057 (400)\ttotal: 14m 30s\tremaining: 2h 10m 9s\n",
      "600:\tlearn: 0.0302278\ttest: 0.0359036\tbest: 0.0359036 (600)\ttotal: 21m 30s\tremaining: 2h 1m 39s\n",
      "800:\tlearn: 0.0286564\ttest: 0.0351624\tbest: 0.0351624 (800)\ttotal: 28m 31s\tremaining: 1h 53m 54s\n",
      "1000:\tlearn: 0.0273320\ttest: 0.0346587\tbest: 0.0346587 (1000)\ttotal: 35m 30s\tremaining: 1h 46m 24s\n",
      "1200:\tlearn: 0.0262562\ttest: 0.0342804\tbest: 0.0342804 (1200)\ttotal: 42m 33s\tremaining: 1h 39m 9s\n",
      "1400:\tlearn: 0.0253196\ttest: 0.0339998\tbest: 0.0339998 (1400)\ttotal: 49m 31s\tremaining: 1h 31m 52s\n",
      "1600:\tlearn: 0.0245358\ttest: 0.0338083\tbest: 0.0338081 (1599)\ttotal: 56m 16s\tremaining: 1h 24m 19s\n",
      "1800:\tlearn: 0.0237986\ttest: 0.0336174\tbest: 0.0336174 (1800)\ttotal: 1h 3m 10s\tremaining: 1h 17m 8s\n",
      "2000:\tlearn: 0.0231338\ttest: 0.0334739\tbest: 0.0334738 (1999)\ttotal: 1h 9m 51s\tremaining: 1h 9m 47s\n",
      "2200:\tlearn: 0.0225084\ttest: 0.0333501\tbest: 0.0333501 (2200)\ttotal: 1h 16m 36s\tremaining: 1h 2m 36s\n",
      "2400:\tlearn: 0.0219453\ttest: 0.0332411\tbest: 0.0332411 (2400)\ttotal: 1h 23m 17s\tremaining: 55m 27s\n",
      "2600:\tlearn: 0.0214111\ttest: 0.0331585\tbest: 0.0331569 (2599)\ttotal: 1h 29m 54s\tremaining: 48m 21s\n",
      "2800:\tlearn: 0.0208988\ttest: 0.0330896\tbest: 0.0330891 (2779)\ttotal: 1h 36m 37s\tremaining: 41m 21s\n",
      "3000:\tlearn: 0.0204091\ttest: 0.0330318\tbest: 0.0330317 (2998)\ttotal: 1h 43m 20s\tremaining: 34m 24s\n",
      "3200:\tlearn: 0.0199536\ttest: 0.0329846\tbest: 0.0329828 (3178)\ttotal: 1h 50m 4s\tremaining: 27m 28s\n",
      "3400:\tlearn: 0.0195090\ttest: 0.0329371\tbest: 0.0329371 (3400)\ttotal: 1h 56m 37s\tremaining: 20m 32s\n",
      "3600:\tlearn: 0.0190946\ttest: 0.0328960\tbest: 0.0328944 (3582)\ttotal: 2h 3m 11s\tremaining: 13m 39s\n",
      "3800:\tlearn: 0.0187270\ttest: 0.0328668\tbest: 0.0328668 (3800)\ttotal: 2h 9m 42s\tremaining: 6m 47s\n",
      "3999:\tlearn: 0.0183610\ttest: 0.0328341\tbest: 0.0328328 (3978)\ttotal: 2h 16m 11s\tremaining: 0us\n",
      "\n",
      "bestTest = 0.03283276317\n",
      "bestIteration = 3978\n",
      "\n",
      "Shrink model to first 3979 iterations.\n"
     ]
    },
    {
     "name": "stderr",
     "output_type": "stream",
     "text": [
      "2022-06-16 13:05:55,831 - INFO - Fold0:CV=(0.03283276317346528,)\n",
      "2022-06-16 13:05:55,833 - INFO - [fold 0] done in 8271 s\n",
      "2022-06-16 13:05:55,835 - INFO - [catboost] done in 8271 s\n"
     ]
    }
   ],
   "source": [
    "with timer(\"catboost\"):\n",
    "    drop_cols = []\n",
    "    feature_importances = pd.DataFrame()\n",
    "    categorical_features = []\n",
    "    fold = 0\n",
    "    with timer(f\"fold {fold}\"):\n",
    "        x_train = train_tr[features].values.astype(np.float32)\n",
    "        x_val = val_tr[features].values.astype(np.float32)\n",
    "        y_train = train_tr[\"target\"].values\n",
    "        y_val = val_tr[\"target\"].values\n",
    "        print(\"train:\",len(x_train))\n",
    "        y_pred_valid, y_pred_test, valid_loss, best_iter, model = train_cat_classifier(\n",
    "                    x_train, y_train, x_val, y_val,None,\n",
    "                    categorical_features=categorical_features,\n",
    "                    feature_name=features,\n",
    "                    cat_params=CAT_PARAMS,\n",
    "                    loss_func=calc_loss,\n",
    "                )\n",
    "\n",
    "        score = calc_loss(y_val,y_pred_valid),\n",
    "        LOGGER.info(f'Fold{fold}:CV={score}')\n",
    "        #feature_importances = pd.concat([feature_importances, importances], axis=0, sort=False)"
   ]
  },
  {
   "cell_type": "code",
   "execution_count": 12,
   "id": "eba7402e",
   "metadata": {},
   "outputs": [],
   "source": [
    "np.save(f\"../output/exp/ex{exp}/oof.npy\",y_pred_valid)"
   ]
  },
  {
   "cell_type": "code",
   "execution_count": 13,
   "id": "2a436bb7",
   "metadata": {},
   "outputs": [],
   "source": [
    "model.save_model(f\"../output/exp/ex{exp}/model/model\")"
   ]
  },
  {
   "cell_type": "code",
   "execution_count": 14,
   "id": "9ef45689-f668-4e5e-be8a-c67695eca631",
   "metadata": {},
   "outputs": [],
   "source": [
    "# cvのcheck"
   ]
  },
  {
   "cell_type": "code",
   "execution_count": 15,
   "id": "c1341f83-7247-4663-afaa-ab2cea7c3348",
   "metadata": {},
   "outputs": [],
   "source": [
    "train_raw = pd.read_csv(TRAIN_PATH)\n",
    "kf = GroupKFold(n_splits=2)\n",
    "for i, (trn_idx, val_idx) in enumerate(kf.split(train_raw, train_raw[TARGET],\n",
    "                                                train_raw[TARGET])):\n",
    "    train_raw.loc[val_idx, \"set\"] = i"
   ]
  },
  {
   "cell_type": "code",
   "execution_count": 16,
   "id": "dfd83e8f",
   "metadata": {},
   "outputs": [],
   "source": [
    "val_tr[\"pred\"] = y_pred_valid[:,1]\n",
    "val_tr[[\"id\",\"near_id\",\"pred\"]].to_csv(\"../output/exp/ex{exp}/ex{exp}_pred.csv\",index=False)\n",
    "val_tr_ = val_tr[val_tr[\"pred\"] >= 0.5].reset_index(drop=True)\n",
    "#del val_tr\n",
    "gc.collect()\n",
    "val_id = train_raw[train_raw[\"set\"] == val_fold][\"id\"].unique()\n",
    "#del val_\n",
    "gc.collect()\n",
    "val_id_match = pd.DataFrame()\n",
    "val_id_match[\"id\"] = val_id\n",
    "val_id_match[\"near_id\"] = val_id\n",
    "val_all = pd.concat([val_id_match,val_tr_[[\"id\",\"near_id\"]]]).reset_index(drop=True)"
   ]
  },
  {
   "cell_type": "code",
   "execution_count": 17,
   "id": "a0020c3e-09c4-4531-9c77-77f2b0b56143",
   "metadata": {},
   "outputs": [
    {
     "data": {
      "text/plain": [
       "23"
      ]
     },
     "execution_count": 17,
     "metadata": {},
     "output_type": "execute_result"
    }
   ],
   "source": [
    "#val_all = val_all[[\"id\",\"near_id\"]].reset_index(drop=True)\n",
    "val_all_ = val_all.copy()\n",
    "val_all_.columns = [\"near_id\",\"id\"]\n",
    "val_all = pd.concat([val_all,val_all_]).reset_index(drop=True)\n",
    "val_all = val_all.drop_duplicates(subset=[\"id\",\"near_id\"]).reset_index(drop=True)\n",
    "del val_all_\n",
    "gc.collect()"
   ]
  },
  {
   "cell_type": "code",
   "execution_count": 18,
   "id": "d51490d2-f79b-4779-8dbb-33ad28163196",
   "metadata": {},
   "outputs": [],
   "source": [
    "train_raw = pd.read_csv(TRAIN_PATH)\n",
    "val_all = val_all.merge(train_raw[[\"id\",\"point_of_interest\"]],how=\"left\",on=\"id\").reset_index(drop=True)"
   ]
  },
  {
   "cell_type": "code",
   "execution_count": 19,
   "id": "dfb575bf-61ed-4205-b9b9-0db5b00676fc",
   "metadata": {},
   "outputs": [],
   "source": [
    "id2poi = get_id2poi(val_all)\n",
    "poi2ids = get_poi2ids(val_all)"
   ]
  },
  {
   "cell_type": "code",
   "execution_count": 20,
   "id": "e3e5e9a0-8afc-45c5-89bb-92d9ae543706",
   "metadata": {},
   "outputs": [],
   "source": [
    "docs = val_all.groupby(\"id\")[\"near_id\"].apply(join)"
   ]
  },
  {
   "cell_type": "code",
   "execution_count": 21,
   "id": "57318d58-4aca-47d6-8ab5-2822faaa964e",
   "metadata": {},
   "outputs": [
    {
     "name": "stdout",
     "output_type": "stream",
     "text": [
      "0.878005066292219\n"
     ]
    }
   ],
   "source": [
    "docs = docs.reset_index()\n",
    "docs.columns = [\"id\",\"matches\"]\n",
    "score = get_score(docs)\n",
    "print(score)"
   ]
  }
 ],
 "metadata": {
  "kernelspec": {
   "display_name": "Python 3 (ipykernel)",
   "language": "python",
   "name": "python3"
  },
  "language_info": {
   "codemirror_mode": {
    "name": "ipython",
    "version": 3
   },
   "file_extension": ".py",
   "mimetype": "text/x-python",
   "name": "python",
   "nbconvert_exporter": "python",
   "pygments_lexer": "ipython3",
   "version": "3.7.12"
  }
 },
 "nbformat": 4,
 "nbformat_minor": 5
}
