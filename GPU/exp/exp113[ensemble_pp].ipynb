{
 "cells": [
  {
   "cell_type": "code",
   "execution_count": 1,
   "metadata": {
    "execution": {
     "iopub.execute_input": "2022-05-16T02:05:30.440496Z",
     "iopub.status.busy": "2022-05-16T02:05:30.439885Z",
     "iopub.status.idle": "2022-05-16T02:05:37.372907Z",
     "shell.execute_reply": "2022-05-16T02:05:37.372111Z",
     "shell.execute_reply.started": "2022-05-16T02:05:30.440453Z"
    }
   },
   "outputs": [
    {
     "name": "stderr",
     "output_type": "stream",
     "text": [
      "2022-07-01 03:57:03.535500: I tensorflow/stream_executor/platform/default/dso_loader.cc:49] Successfully opened dynamic library libcudart.so.11.0\n"
     ]
    },
    {
     "name": "stdout",
     "output_type": "stream",
     "text": [
      "env: TOKENIZERS_PARALLELISM=true\n"
     ]
    }
   ],
   "source": [
    "# =========================\n",
    "# Library\n",
    "# =========================\n",
    "import numpy as np\n",
    "import pandas as pd\n",
    "from tqdm import tqdm\n",
    "import sys, os\n",
    "from transformers import DistilBertModel, DistilBertTokenizer,AutoModel,AutoTokenizer\n",
    "from transformers import AdamW, get_linear_schedule_with_warmup\n",
    "from torch.cuda.amp import autocast, GradScaler\n",
    "from sklearn.model_selection import GroupKFold, KFold, StratifiedKFold\n",
    "import torch.nn.functional as F\n",
    "import torch.nn as nn\n",
    "import torch\n",
    "from torch.utils.data import DataLoader, Dataset\n",
    "import matplotlib.pyplot as plt\n",
    "from sklearn.preprocessing import LabelEncoder\n",
    "from sklearn.metrics import roc_auc_score\n",
    "import logging\n",
    "import sys\n",
    "from contextlib import contextmanager\n",
    "import time\n",
    "import random\n",
    "import math\n",
    "import cudf, cuml, cupy\n",
    "from cuml.feature_extraction.text import TfidfVectorizer\n",
    "from cuml.neighbors import NearestNeighbors\n",
    "import gc\n",
    "import transformers\n",
    "import optuna\n",
    "transformers.logging.set_verbosity_error()\n",
    "%env TOKENIZERS_PARALLELISM=true\n",
    "%matplotlib inline"
   ]
  },
  {
   "cell_type": "code",
   "execution_count": 2,
   "metadata": {
    "execution": {
     "iopub.execute_input": "2022-05-16T02:05:37.375136Z",
     "iopub.status.busy": "2022-05-16T02:05:37.374755Z",
     "iopub.status.idle": "2022-05-16T02:05:37.380182Z",
     "shell.execute_reply": "2022-05-16T02:05:37.379140Z",
     "shell.execute_reply.started": "2022-05-16T02:05:37.375095Z"
    }
   },
   "outputs": [],
   "source": [
    "# =========================\n",
    "# Constant\n",
    "# =========================\n",
    "TRAIN_PATH = \"../data/train.csv\"\n",
    "TARGET = \"point_of_interest\""
   ]
  },
  {
   "cell_type": "code",
   "execution_count": 3,
   "metadata": {
    "execution": {
     "iopub.execute_input": "2022-05-16T02:05:37.381872Z",
     "iopub.status.busy": "2022-05-16T02:05:37.381599Z",
     "iopub.status.idle": "2022-05-16T02:05:37.444538Z",
     "shell.execute_reply": "2022-05-16T02:05:37.443795Z",
     "shell.execute_reply.started": "2022-05-16T02:05:37.381837Z"
    }
   },
   "outputs": [],
   "source": [
    "# =========================\n",
    "# Settings\n",
    "# =========================\n",
    "exp = \"113\"\n",
    "if not os.path.exists(f\"../output/exp/ex{exp}\"):\n",
    "    os.makedirs(f\"../output/exp/ex{exp}\")\n",
    "    os.makedirs(f\"../output/exp/ex{exp}/model\")\n",
    "LOGGER_PATH = f\"../output/exp/ex{exp}/ex_{exp}.txt\"\n",
    "MODEL_PATH_BASE = f\"../output/exp/ex{exp}/model/ex{exp}\""
   ]
  },
  {
   "cell_type": "code",
   "execution_count": 7,
   "metadata": {},
   "outputs": [],
   "source": [
    "# =========================\n",
    "# Function\n",
    "# =========================\n",
    "# https://www.kaggle.com/code/columbia2131/foursquare-iou-metrics\n",
    "def get_id2poi(input_df: pd.DataFrame) -> dict:\n",
    "    return dict(zip(input_df['id'], input_df['point_of_interest']))\n",
    "\n",
    "def get_poi2ids(input_df: pd.DataFrame) -> dict:\n",
    "    return input_df.groupby('point_of_interest')['id'].apply(set).to_dict()\n",
    "\n",
    "def get_score(input_df: pd.DataFrame):\n",
    "    scores = []\n",
    "    for id_str, matches in zip(input_df['id'].to_numpy(), input_df['matches'].to_numpy()):\n",
    "        targets = poi2ids[id2poi[id_str]]\n",
    "        preds = set(matches.split())\n",
    "        score = len((targets & preds)) / len((targets | preds))\n",
    "        scores.append(score)\n",
    "    scores = np.array(scores)\n",
    "    return scores.mean()\n",
    "\n",
    "def join(df):\n",
    "    x = [str(e) for e in list(df)]\n",
    "    return \" \".join(x)\n",
    "\n",
    "\n",
    "def objective(trial):\n",
    "    w1 = trial.suggest_float('w1', 0, 1)\n",
    "    w2 = trial.suggest_float('w2', 0, 1)\n",
    "    w3 = trial.suggest_float('w3', 0, 1)\n",
    "    w4 = trial.suggest_float('w4', 0, 1)\n",
    "    w_sum1 = w1 + w2 + w3 + w4\n",
    "    w1 /= w_sum1\n",
    "    w2 /= w_sum1\n",
    "    w3 /= w_sum1\n",
    "    w4 /= w_sum1\n",
    "    train_fold0[\"ensemble\"] = train_fold0[\"pred\"]*w1 + roberta.reshape(-1)*w2 + deberta.reshape(-1)*w3 + train_fold0[\"cat_pred\"]*w4\n",
    "    val_tr_ = train_fold0[train_fold0[\"ensemble\"] >= 0.5].reset_index(drop=True)\n",
    "    val_id = train_raw[train_raw[\"set\"] == 0][\"id\"].unique()\n",
    "    val_id_match = pd.DataFrame()\n",
    "    val_id_match[\"id\"] = val_id\n",
    "    val_id_match[\"near_id\"] = val_id\n",
    "    val_all = pd.concat([val_id_match,val_tr_[[\"id\",\"near_id\"]]]).reset_index(drop=True)\n",
    "    val_all_ = val_all.copy()\n",
    "    val_all_.columns = [\"near_id\",\"id\"]\n",
    "    val_all = pd.concat([val_all,val_all_]).reset_index(drop=True)\n",
    "    val_all = val_all.drop_duplicates(subset=[\"id\",\"near_id\"]).reset_index(drop=True)\n",
    "    del val_all_\n",
    "    gc.collect()\n",
    "    val_all = val_all.merge(train_raw[[\"id\",\"point_of_interest\"]],how=\"left\",on=\"id\").reset_index(drop=True)\n",
    "    docs = val_all.groupby(\"id\")[\"near_id\"].apply(join)\n",
    "    docs = docs.reset_index()\n",
    "    docs.columns = [\"id\",\"matches\"]\n",
    "    score = get_score(docs)\n",
    "    return score * -1"
   ]
  },
  {
   "cell_type": "code",
   "execution_count": 9,
   "metadata": {
    "execution": {
     "iopub.execute_input": "2022-05-16T02:05:37.462347Z",
     "iopub.status.busy": "2022-05-16T02:05:37.462014Z",
     "iopub.status.idle": "2022-05-16T02:05:44.599422Z",
     "shell.execute_reply": "2022-05-16T02:05:44.598528Z",
     "shell.execute_reply.started": "2022-05-16T02:05:37.462307Z"
    }
   },
   "outputs": [],
   "source": [
    "# ============================\n",
    "# Main\n",
    "# ============================\n",
    "train = pd.read_csv(TRAIN_PATH)\n",
    "train_fold0 = pd.read_csv(\"../output/exp/ex062/ex062_pred.csv\")\n",
    "train_fold0 = train_fold0.merge(train[[\"id\",\"country\"]],how=\"left\",on=\"id\")"
   ]
  },
  {
   "cell_type": "code",
   "execution_count": 11,
   "metadata": {},
   "outputs": [],
   "source": [
    "cat = pd.read_csv(\"../output/exp/ex087/ex087_pred.csv\")\n",
    "cat.columns = [\"id\",\"near_id\",\"cat_pred\"]\n",
    "train_fold0 = train_fold0.merge(cat,how=\"left\",on=[\"id\",\"near_id\"])"
   ]
  },
  {
   "cell_type": "code",
   "execution_count": 14,
   "metadata": {},
   "outputs": [],
   "source": [
    "deberta = np.load(f\"../output/exp/ex_charm_05/oof.npy\")\n",
    "roberta = np.load(f\"../output/exp/ex100/oof.npy\")"
   ]
  },
  {
   "cell_type": "code",
   "execution_count": 15,
   "metadata": {},
   "outputs": [],
   "source": [
    "train_raw = pd.read_csv(TRAIN_PATH)\n",
    "kf = GroupKFold(n_splits=2)\n",
    "for i, (trn_idx, val_idx) in enumerate(kf.split(train_raw, train_raw[TARGET],\n",
    "                                                train_raw[TARGET])):\n",
    "    train_raw.loc[val_idx, \"set\"] = i"
   ]
  },
  {
   "cell_type": "code",
   "execution_count": 18,
   "metadata": {},
   "outputs": [
    {
     "name": "stderr",
     "output_type": "stream",
     "text": [
      "2022-07-01 03:58:06,969 - INFO - Note: NumExpr detected 12 cores but \"NUMEXPR_MAX_THREADS\" not set, so enforcing safe limit of 8.\n",
      "2022-07-01 03:58:06,969 - INFO - NumExpr defaulting to 8 threads.\n"
     ]
    },
    {
     "name": "stdout",
     "output_type": "stream",
     "text": [
      "0.9095475145804721\n"
     ]
    }
   ],
   "source": [
    "# optuna前のcv check\n",
    "w1 = 0.2\n",
    "w2 = 0.25\n",
    "w3 = 0.25\n",
    "w4 = 0.3\n",
    "train_fold0[\"ensemble\"] = train_fold0[\"pred\"]*w1 + roberta.reshape(-1)*w2 + deberta.reshape(-1)*w3 + train_fold0[\"cat_pred\"]*w4\n",
    "val_tr_ = train_fold0[train_fold0[\"ensemble\"] >= 0.5].reset_index(drop=True)\n",
    "val_id = train_raw[train_raw[\"set\"] == 0][\"id\"].unique()\n",
    "val_id_match = pd.DataFrame()\n",
    "val_id_match[\"id\"] = val_id\n",
    "val_id_match[\"near_id\"] = val_id\n",
    "val_all = pd.concat([val_id_match,val_tr_[[\"id\",\"near_id\"]]]).reset_index(drop=True)\n",
    "val_all_ = val_all.copy()\n",
    "val_all_.columns = [\"near_id\",\"id\"]\n",
    "val_all = pd.concat([val_all,val_all_]).reset_index(drop=True)\n",
    "val_all = val_all.drop_duplicates(subset=[\"id\",\"near_id\"]).reset_index(drop=True)\n",
    "del val_all_\n",
    "gc.collect()\n",
    "val_all = val_all.merge(train_raw[[\"id\",\"point_of_interest\"]],how=\"left\",on=\"id\").reset_index(drop=True)\n",
    "id2poi = get_id2poi(val_all)\n",
    "poi2ids = get_poi2ids(val_all)\n",
    "docs = val_all.groupby(\"id\")[\"near_id\"].apply(join)\n",
    "docs = docs.reset_index()\n",
    "docs.columns = [\"id\",\"matches\"]\n",
    "score = get_score(docs)\n",
    "print(score)"
   ]
  },
  {
   "cell_type": "code",
   "execution_count": 20,
   "metadata": {},
   "outputs": [
    {
     "name": "stderr",
     "output_type": "stream",
     "text": [
      "\u001b[32m[I 2022-07-01 03:58:51,518]\u001b[0m A new study created in memory with name: no-name-0f34bb36-0640-4f22-b576-8c59fbc2472e\u001b[0m\n",
      "\u001b[32m[I 2022-07-01 03:59:14,404]\u001b[0m Trial 0 finished with value: -0.910981667589833 and parameters: {'w1': 0.9915165653375533, 'w2': 0.5847268590721764, 'w3': 0.9992870138671404, 'w4': 0.31013564779891445}. Best is trial 0 with value: -0.910981667589833.\u001b[0m\n",
      "\u001b[32m[I 2022-07-01 03:59:36,351]\u001b[0m Trial 1 finished with value: -0.9112399525230302 and parameters: {'w1': 0.9080613543677548, 'w2': 0.8863496118802231, 'w3': 0.8458574250239812, 'w4': 0.03455666449006689}. Best is trial 1 with value: -0.9112399525230302.\u001b[0m\n",
      "\u001b[32m[I 2022-07-01 03:59:58,179]\u001b[0m Trial 2 finished with value: -0.9058204647252057 and parameters: {'w1': 0.5301661727522211, 'w2': 0.054414111823996025, 'w3': 0.8921582630650577, 'w4': 0.6274623657227628}. Best is trial 1 with value: -0.9112399525230302.\u001b[0m\n",
      "\u001b[32m[I 2022-07-01 04:00:20,821]\u001b[0m Trial 3 finished with value: -0.9051662540115951 and parameters: {'w1': 0.9376828937520935, 'w2': 0.7419748901129223, 'w3': 0.596475573045782, 'w4': 0.788669262475854}. Best is trial 1 with value: -0.9112399525230302.\u001b[0m\n",
      "\u001b[32m[I 2022-07-01 04:00:42,693]\u001b[0m Trial 4 finished with value: -0.9102190889196173 and parameters: {'w1': 0.8039066702243818, 'w2': 0.8604337110667523, 'w3': 0.33357026876283413, 'w4': 0.1760838366474603}. Best is trial 1 with value: -0.9112399525230302.\u001b[0m\n",
      "\u001b[32m[I 2022-07-01 04:01:05,366]\u001b[0m Trial 5 finished with value: -0.9050268216399229 and parameters: {'w1': 0.5214076161278831, 'w2': 0.08079796448618504, 'w3': 0.6496056445265738, 'w4': 0.4193995512109341}. Best is trial 1 with value: -0.9112399525230302.\u001b[0m\n",
      "\u001b[32m[I 2022-07-01 04:01:27,337]\u001b[0m Trial 6 finished with value: -0.8926541314249775 and parameters: {'w1': 0.7679629388007138, 'w2': 0.43577219194798666, 'w3': 0.11460360947317794, 'w4': 0.9875460287968866}. Best is trial 1 with value: -0.9112399525230302.\u001b[0m\n",
      "\u001b[32m[I 2022-07-01 04:01:49,300]\u001b[0m Trial 7 finished with value: -0.9115157269418129 and parameters: {'w1': 0.407869685669083, 'w2': 0.5740954422075192, 'w3': 0.7703650998491566, 'w4': 0.37792756421966633}. Best is trial 7 with value: -0.9115157269418129.\u001b[0m\n",
      "\u001b[32m[I 2022-07-01 04:02:12,199]\u001b[0m Trial 8 finished with value: -0.907086607300262 and parameters: {'w1': 0.19315925258930344, 'w2': 0.053945404455804646, 'w3': 0.6972206249061117, 'w4': 0.6508629188324875}. Best is trial 7 with value: -0.9115157269418129.\u001b[0m\n",
      "\u001b[32m[I 2022-07-01 04:02:34,146]\u001b[0m Trial 9 finished with value: -0.9074363308372141 and parameters: {'w1': 0.21283682492941636, 'w2': 0.5248122056587208, 'w3': 0.5348929378195976, 'w4': 0.9765474535444622}. Best is trial 7 with value: -0.9115157269418129.\u001b[0m\n",
      "\u001b[32m[I 2022-07-01 04:02:55,780]\u001b[0m Trial 10 finished with value: -0.9080187187166227 and parameters: {'w1': 0.35346039576467125, 'w2': 0.27588770557260645, 'w3': 0.3357765381893828, 'w4': 0.3125161045613753}. Best is trial 7 with value: -0.9115157269418129.\u001b[0m\n",
      "\u001b[32m[I 2022-07-01 04:03:18,874]\u001b[0m Trial 11 finished with value: -0.9081178797234093 and parameters: {'w1': 0.032525058286225095, 'w2': 0.9830554160038909, 'w3': 0.8308205689101487, 'w4': 0.010624785879449618}. Best is trial 7 with value: -0.9115157269418129.\u001b[0m\n",
      "\u001b[32m[I 2022-07-01 04:03:41,152]\u001b[0m Trial 12 finished with value: -0.9112522970296731 and parameters: {'w1': 0.6634102179653177, 'w2': 0.7213711423587064, 'w3': 0.788759919314379, 'w4': 0.05138523464291861}. Best is trial 7 with value: -0.9115157269418129.\u001b[0m\n",
      "\u001b[32m[I 2022-07-01 04:04:04,166]\u001b[0m Trial 13 finished with value: -0.9113435066077143 and parameters: {'w1': 0.6526749978416675, 'w2': 0.6757023903410354, 'w3': 0.7452137093352604, 'w4': 0.16941866426478386}. Best is trial 7 with value: -0.9115157269418129.\u001b[0m\n",
      "\u001b[32m[I 2022-07-01 04:04:26,309]\u001b[0m Trial 14 finished with value: -0.910767502458913 and parameters: {'w1': 0.3722701897570767, 'w2': 0.37986605635638104, 'w3': 0.36613024293113794, 'w4': 0.27072866712292576}. Best is trial 7 with value: -0.9115157269418129.\u001b[0m\n",
      "\u001b[32m[I 2022-07-01 04:04:48,324]\u001b[0m Trial 15 finished with value: -0.9110059038373491 and parameters: {'w1': 0.6461359730366302, 'w2': 0.6548197304874618, 'w3': 0.7153072576347316, 'w4': 0.46149484160796983}. Best is trial 7 with value: -0.9115157269418129.\u001b[0m\n",
      "\u001b[32m[I 2022-07-01 04:05:11,330]\u001b[0m Trial 16 finished with value: -0.910976820298714 and parameters: {'w1': 0.38164077474397384, 'w2': 0.22983109035992555, 'w3': 0.9805332267023594, 'w4': 0.15629658429296042}. Best is trial 7 with value: -0.9115157269418129.\u001b[0m\n",
      "\u001b[32m[I 2022-07-01 04:05:33,441]\u001b[0m Trial 17 finished with value: -0.9073541199999361 and parameters: {'w1': 0.6072378789385204, 'w2': 0.5824552508913088, 'w3': 0.452548332174492, 'w4': 0.5614498568463971}. Best is trial 7 with value: -0.9115157269418129.\u001b[0m\n",
      "\u001b[32m[I 2022-07-01 04:05:55,125]\u001b[0m Trial 18 finished with value: -0.9090624378074782 and parameters: {'w1': 0.7628967020697643, 'w2': 0.3863305873284799, 'w3': 0.7414363616813248, 'w4': 0.3936091141982223}. Best is trial 7 with value: -0.9115157269418129.\u001b[0m\n",
      "\u001b[32m[I 2022-07-01 04:06:17,951]\u001b[0m Trial 19 finished with value: -0.9075283226231621 and parameters: {'w1': 0.44659110532164836, 'w2': 0.7746877066152993, 'w3': 0.0052943016710645385, 'w4': 0.1823108402181216}. Best is trial 7 with value: -0.9115157269418129.\u001b[0m\n",
      "\u001b[32m[I 2022-07-01 04:06:39,999]\u001b[0m Trial 20 finished with value: -0.9110973433614452 and parameters: {'w1': 0.24509578720816277, 'w2': 0.6347412540974122, 'w3': 0.5727051539885867, 'w4': 0.223082622067208}. Best is trial 7 with value: -0.9115157269418129.\u001b[0m\n",
      "\u001b[32m[I 2022-07-01 04:07:02,342]\u001b[0m Trial 21 finished with value: -0.9113411137669236 and parameters: {'w1': 0.6710895752985676, 'w2': 0.7175834853773129, 'w3': 0.8098002636670991, 'w4': 0.09800639923194629}. Best is trial 7 with value: -0.9115157269418129.\u001b[0m\n",
      "\u001b[32m[I 2022-07-01 04:07:24,595]\u001b[0m Trial 22 finished with value: -0.9112057974055036 and parameters: {'w1': 0.5937213029551514, 'w2': 0.8201681770762634, 'w3': 0.9198029400823298, 'w4': 0.09199860256462973}. Best is trial 7 with value: -0.9115157269418129.\u001b[0m\n",
      "\u001b[32m[I 2022-07-01 04:07:46,561]\u001b[0m Trial 23 finished with value: -0.9112952666334572 and parameters: {'w1': 0.6957749312215112, 'w2': 0.6851161019260549, 'w3': 0.7908598003616982, 'w4': 0.35921761738419633}. Best is trial 7 with value: -0.9115157269418129.\u001b[0m\n",
      "\u001b[32m[I 2022-07-01 04:08:09,429]\u001b[0m Trial 24 finished with value: -0.910835534659646 and parameters: {'w1': 0.4634706466931942, 'w2': 0.49405231617816825, 'w3': 0.6355995783551415, 'w4': 0.5219481379794988}. Best is trial 7 with value: -0.9115157269418129.\u001b[0m\n",
      "\u001b[32m[I 2022-07-01 04:08:31,057]\u001b[0m Trial 25 finished with value: -0.9112716699447206 and parameters: {'w1': 0.855846348445347, 'w2': 0.9632219640301711, 'w3': 0.9086952999963839, 'w4': 0.15216508432964876}. Best is trial 7 with value: -0.9115157269418129.\u001b[0m\n",
      "\u001b[32m[I 2022-07-01 04:08:53,038]\u001b[0m Trial 26 finished with value: -0.9114020623183545 and parameters: {'w1': 0.7009122249831059, 'w2': 0.5721446833224436, 'w3': 0.75164466384852, 'w4': 0.1022249550374913}. Best is trial 7 with value: -0.9115157269418129.\u001b[0m\n",
      "\u001b[32m[I 2022-07-01 04:09:15,849]\u001b[0m Trial 27 finished with value: -0.9112897784005818 and parameters: {'w1': 0.2827341445775584, 'w2': 0.5107290661912579, 'w3': 0.41794246743868524, 'w4': 0.25023817409185156}. Best is trial 7 with value: -0.9115157269418129.\u001b[0m\n",
      "\u001b[32m[I 2022-07-01 04:09:37,437]\u001b[0m Trial 28 finished with value: -0.9111358815643819 and parameters: {'w1': 0.10966046524402773, 'w2': 0.6002585651701924, 'w3': 0.6771819474300844, 'w4': 0.30843279197966317}. Best is trial 7 with value: -0.9115157269418129.\u001b[0m\n",
      "\u001b[32m[I 2022-07-01 04:09:59,605]\u001b[0m Trial 29 finished with value: -0.9112402352884126 and parameters: {'w1': 0.5799756023715166, 'w2': 0.5684633933136743, 'w3': 0.5125726664461827, 'w4': 0.10561379277816887}. Best is trial 7 with value: -0.9115157269418129.\u001b[0m\n",
      "\u001b[32m[I 2022-07-01 04:10:22,608]\u001b[0m Trial 30 finished with value: -0.911403385648183 and parameters: {'w1': 0.44947148060952397, 'w2': 0.3164583739386254, 'w3': 0.9636457403726923, 'w4': 0.36888097886109594}. Best is trial 7 with value: -0.9115157269418129.\u001b[0m\n",
      "\u001b[32m[I 2022-07-01 04:10:44,333]\u001b[0m Trial 31 finished with value: -0.9113809024508516 and parameters: {'w1': 0.43875605998232353, 'w2': 0.2769991772427264, 'w3': 0.9780737400468547, 'w4': 0.3580401735255725}. Best is trial 7 with value: -0.9115157269418129.\u001b[0m\n",
      "\u001b[32m[I 2022-07-01 04:11:07,331]\u001b[0m Trial 32 finished with value: -0.9111668213739601 and parameters: {'w1': 0.4306566994720992, 'w2': 0.23255896104082374, 'w3': 0.9730852927907222, 'w4': 0.47868969479257834}. Best is trial 7 with value: -0.9115157269418129.\u001b[0m\n",
      "\u001b[32m[I 2022-07-01 04:11:28,631]\u001b[0m Trial 33 finished with value: -0.9114032302115751 and parameters: {'w1': 0.30936609624449746, 'w2': 0.3089359009129528, 'w3': 0.9920365874479354, 'w4': 0.3388177712797168}. Best is trial 7 with value: -0.9115157269418129.\u001b[0m\n",
      "\u001b[32m[I 2022-07-01 04:11:50,489]\u001b[0m Trial 34 finished with value: -0.9107868869803198 and parameters: {'w1': 0.32161141394085546, 'w2': 0.32539904086822236, 'w3': 0.8729929671560747, 'w4': 0.7350583345549285}. Best is trial 7 with value: -0.9115157269418129.\u001b[0m\n",
      "\u001b[32m[I 2022-07-01 04:12:13,163]\u001b[0m Trial 35 finished with value: -0.9110010008697504 and parameters: {'w1': 0.13630973716238848, 'w2': 0.1316187821042118, 'w3': 0.9161433889535118, 'w4': 0.4165005324361786}. Best is trial 7 with value: -0.9115157269418129.\u001b[0m\n",
      "\u001b[32m[I 2022-07-01 04:12:34,852]\u001b[0m Trial 36 finished with value: -0.9109733005813768 and parameters: {'w1': 0.5102959563674557, 'w2': 0.45925490133022095, 'w3': 0.8668534888268004, 'w4': 0.610676865898764}. Best is trial 7 with value: -0.9115157269418129.\u001b[0m\n",
      "\u001b[32m[I 2022-07-01 04:12:56,562]\u001b[0m Trial 37 finished with value: -0.9076746128809532 and parameters: {'w1': 0.935348336116044, 'w2': 0.15434832140732166, 'w3': 0.9929619581081315, 'w4': 0.3153730458254178}. Best is trial 7 with value: -0.9115157269418129.\u001b[0m\n",
      "\u001b[32m[I 2022-07-01 04:13:18,812]\u001b[0m Trial 38 finished with value: -0.9014686045609139 and parameters: {'w1': 0.5498632988183302, 'w2': 0.3964419216808937, 'w3': 0.2650516498621396, 'w4': 0.5359212530571221}. Best is trial 7 with value: -0.9115157269418129.\u001b[0m\n",
      "\u001b[32m[I 2022-07-01 04:13:40,907]\u001b[0m Trial 39 finished with value: -0.9114950329516465 and parameters: {'w1': 0.3164529593657652, 'w2': 0.3495826224254126, 'w3': 0.9341352803121514, 'w4': 0.44618079102619607}. Best is trial 7 with value: -0.9115157269418129.\u001b[0m\n",
      "\u001b[32m[I 2022-07-01 04:14:02,603]\u001b[0m Trial 40 finished with value: -0.9114562623720278 and parameters: {'w1': 0.3003017472110756, 'w2': 0.3338886172114596, 'w3': 0.9481784892786321, 'w4': 0.45612418206812055}. Best is trial 7 with value: -0.9115157269418129.\u001b[0m\n",
      "\u001b[32m[I 2022-07-01 04:14:25,274]\u001b[0m Trial 41 finished with value: -0.9114669550839879 and parameters: {'w1': 0.3081027002686371, 'w2': 0.33582430629426685, 'w3': 0.9387826274550891, 'w4': 0.4512158627674471}. Best is trial 7 with value: -0.9115157269418129.\u001b[0m\n",
      "\u001b[32m[I 2022-07-01 04:14:46,798]\u001b[0m Trial 42 finished with value: -0.9115148944678437 and parameters: {'w1': 0.25542931784432044, 'w2': 0.3515426952445555, 'w3': 0.9411344314047351, 'w4': 0.4472440592602658}. Best is trial 7 with value: -0.9115157269418129.\u001b[0m\n",
      "\u001b[32m[I 2022-07-01 04:15:09,779]\u001b[0m Trial 43 finished with value: -0.9113588318191743 and parameters: {'w1': 0.16584258290572304, 'w2': 0.20259580549946443, 'w3': 0.8469653616703696, 'w4': 0.44446723394711013}. Best is trial 7 with value: -0.9115157269418129.\u001b[0m\n",
      "\u001b[32m[I 2022-07-01 04:15:31,862]\u001b[0m Trial 44 finished with value: -0.9116117468250403 and parameters: {'w1': 0.22244569246365195, 'w2': 0.4523647351045779, 'w3': 0.9302100381242884, 'w4': 0.5795984080998094}. Best is trial 44 with value: -0.9116117468250403.\u001b[0m\n",
      "\u001b[32m[I 2022-07-01 04:15:53,880]\u001b[0m Trial 45 finished with value: -0.9115713574049485 and parameters: {'w1': 0.24621070530458927, 'w2': 0.439302408159255, 'w3': 0.8847572838871187, 'w4': 0.594153211855173}. Best is trial 44 with value: -0.9116117468250403.\u001b[0m\n",
      "\u001b[32m[I 2022-07-01 04:16:16,746]\u001b[0m Trial 46 finished with value: -0.9116496078140522 and parameters: {'w1': 0.06843127817010317, 'w2': 0.43985024297349606, 'w3': 0.8756651389335123, 'w4': 0.7008100671844496}. Best is trial 46 with value: -0.9116496078140522.\u001b[0m\n",
      "\u001b[32m[I 2022-07-01 04:16:38,423]\u001b[0m Trial 47 finished with value: -0.9116677774952698 and parameters: {'w1': 0.0015396321157419846, 'w2': 0.4433832408034764, 'w3': 0.8798441614243899, 'w4': 0.7074925918769712}. Best is trial 47 with value: -0.9116677774952698.\u001b[0m\n",
      "\u001b[32m[I 2022-07-01 04:17:00,099]\u001b[0m Trial 48 finished with value: -0.9116595247164248 and parameters: {'w1': 0.016924796564217102, 'w2': 0.4353936542137289, 'w3': 0.8305017498373217, 'w4': 0.7431909286654615}. Best is trial 47 with value: -0.9116677774952698.\u001b[0m\n",
      "\u001b[32m[I 2022-07-01 04:17:22,399]\u001b[0m Trial 49 finished with value: -0.9116103826364533 and parameters: {'w1': 0.006680363545922156, 'w2': 0.44449080548334446, 'w3': 0.8757696345825087, 'w4': 0.8116882855058001}. Best is trial 47 with value: -0.9116677774952698.\u001b[0m\n",
      "\u001b[32m[I 2022-07-01 04:17:44,129]\u001b[0m Trial 50 finished with value: -0.9115170527761203 and parameters: {'w1': 0.025590818301180235, 'w2': 0.46692580990588284, 'w3': 0.82346727708935, 'w4': 0.8638594879055368}. Best is trial 47 with value: -0.9116677774952698.\u001b[0m\n",
      "\u001b[32m[I 2022-07-01 04:18:07,141]\u001b[0m Trial 51 finished with value: -0.911611853022276 and parameters: {'w1': 0.07387292129330045, 'w2': 0.4291758645831826, 'w3': 0.896294911468903, 'w4': 0.7134181346040327}. Best is trial 47 with value: -0.9116677774952698.\u001b[0m\n",
      "\u001b[32m[I 2022-07-01 04:18:28,330]\u001b[0m Trial 52 finished with value: -0.9116255557961257 and parameters: {'w1': 0.07021047872925548, 'w2': 0.41045996263602563, 'w3': 0.8542072331563393, 'w4': 0.7009904124544106}. Best is trial 47 with value: -0.9116677774952698.\u001b[0m\n",
      "\u001b[32m[I 2022-07-01 04:18:50,294]\u001b[0m Trial 53 finished with value: -0.911613335416347 and parameters: {'w1': 0.09040535642448072, 'w2': 0.4134641092272745, 'w3': 0.8351872412528467, 'w4': 0.6815457067935566}. Best is trial 47 with value: -0.9116677774952698.\u001b[0m\n",
      "\u001b[32m[I 2022-07-01 04:19:13,162]\u001b[0m Trial 54 finished with value: -0.9116167585552419 and parameters: {'w1': 0.07630072251538707, 'w2': 0.41500317238808865, 'w3': 0.8307202369445715, 'w4': 0.6968080951196243}. Best is trial 47 with value: -0.9116677774952698.\u001b[0m\n",
      "\u001b[32m[I 2022-07-01 04:19:35,208]\u001b[0m Trial 55 finished with value: -0.9116110245097965 and parameters: {'w1': 0.0925962936349693, 'w2': 0.5309053323973636, 'w3': 0.7716779590625372, 'w4': 0.6660327498666385}. Best is trial 47 with value: -0.9116677774952698.\u001b[0m\n",
      "\u001b[32m[I 2022-07-01 04:19:57,130]\u001b[0m Trial 56 finished with value: -0.9070504202772445 and parameters: {'w1': 0.062154132312240554, 'w2': 0.0032344276051983756, 'w3': 0.8354162703909255, 'w4': 0.8703102037870898}. Best is trial 47 with value: -0.9116677774952698.\u001b[0m\n",
      "\u001b[32m[I 2022-07-01 04:20:19,658]\u001b[0m Trial 57 finished with value: -0.9112751026071573 and parameters: {'w1': 0.15967734394385874, 'w2': 0.40659070326230956, 'w3': 0.6562367598248886, 'w4': 0.6823361802015877}. Best is trial 47 with value: -0.9116677774952698.\u001b[0m\n",
      "\u001b[32m[I 2022-07-01 04:20:41,497]\u001b[0m Trial 58 finished with value: -0.9115491916325518 and parameters: {'w1': 0.04361290246560685, 'w2': 0.5400310850380423, 'w3': 0.7240476226992203, 'w4': 0.7599588610835698}. Best is trial 47 with value: -0.9116677774952698.\u001b[0m\n",
      "\u001b[32m[I 2022-07-01 04:21:04,268]\u001b[0m Trial 59 finished with value: -0.9114537001739494 and parameters: {'w1': 0.11865927863367706, 'w2': 0.49343629401274475, 'w3': 0.7987536026305999, 'w4': 0.7998183174286374}. Best is trial 47 with value: -0.9116677774952698.\u001b[0m\n",
      "\u001b[32m[I 2022-07-01 04:21:25,586]\u001b[0m Trial 60 finished with value: -0.9115407761538945 and parameters: {'w1': 0.006619233964207057, 'w2': 0.38802033498049937, 'w3': 0.594321347507549, 'w4': 0.6490573856628414}. Best is trial 47 with value: -0.9116677774952698.\u001b[0m\n",
      "\u001b[32m[I 2022-07-01 04:21:47,157]\u001b[0m Trial 61 finished with value: -0.9115911307785648 and parameters: {'w1': 0.07500355906081832, 'w2': 0.40940856865923336, 'w3': 0.8558590371458673, 'w4': 0.7251775013950676}. Best is trial 47 with value: -0.9116677774952698.\u001b[0m\n",
      "\u001b[32m[I 2022-07-01 04:22:09,110]\u001b[0m Trial 62 finished with value: -0.9116123701991661 and parameters: {'w1': 0.06770898039075743, 'w2': 0.4848763935341763, 'w3': 0.8144116781214729, 'w4': 0.708189769648257}. Best is trial 47 with value: -0.9116677774952698.\u001b[0m\n",
      "\u001b[32m[I 2022-07-01 04:22:30,536]\u001b[0m Trial 63 finished with value: -0.9107493151627917 and parameters: {'w1': 0.17080793972827268, 'w2': 0.4878880974043098, 'w3': 0.6974321653156197, 'w4': 0.8704738810099872}. Best is trial 47 with value: -0.9116677774952698.\u001b[0m\n",
      "\u001b[32m[I 2022-07-01 04:22:52,408]\u001b[0m Trial 64 finished with value: -0.9115272547998077 and parameters: {'w1': 0.04828761192666842, 'w2': 0.361996389734742, 'w3': 0.7672889754597394, 'w4': 0.6972565098203941}. Best is trial 47 with value: -0.9116677774952698.\u001b[0m\n",
      "\u001b[32m[I 2022-07-01 04:23:15,441]\u001b[0m Trial 65 finished with value: -0.9114324989357043 and parameters: {'w1': 0.1218840487663998, 'w2': 0.2972358280126133, 'w3': 0.8246044680204726, 'w4': 0.6371648091614972}. Best is trial 47 with value: -0.9116677774952698.\u001b[0m\n",
      "\u001b[32m[I 2022-07-01 04:23:37,251]\u001b[0m Trial 66 finished with value: -0.9114603452034343 and parameters: {'w1': 0.2010952793181597, 'w2': 0.53823282723026, 'w3': 0.8045001597919881, 'w4': 0.7676930578731361}. Best is trial 47 with value: -0.9116677774952698.\u001b[0m\n",
      "\u001b[32m[I 2022-07-01 04:23:59,068]\u001b[0m Trial 67 finished with value: -0.9114547691966215 and parameters: {'w1': 0.08608235641024886, 'w2': 0.6236180761797342, 'w3': 0.7226582964373391, 'w4': 0.8300603749894547}. Best is trial 47 with value: -0.9116677774952698.\u001b[0m\n",
      "\u001b[32m[I 2022-07-01 04:24:21,042]\u001b[0m Trial 68 finished with value: -0.9085983979906093 and parameters: {'w1': 0.028008236914935848, 'w2': 0.4791515357083066, 'w3': 0.27634001236804606, 'w4': 0.7529807960245969}. Best is trial 47 with value: -0.9116677774952698.\u001b[0m\n",
      "\u001b[32m[I 2022-07-01 04:24:42,397]\u001b[0m Trial 69 finished with value: -0.9115453755729894 and parameters: {'w1': 0.14747939047441572, 'w2': 0.4259564823974825, 'w3': 0.7748203356194601, 'w4': 0.6791269253839276}. Best is trial 47 with value: -0.9116677774952698.\u001b[0m\n",
      "\u001b[32m[I 2022-07-01 04:25:05,026]\u001b[0m Trial 70 finished with value: -0.9107470765793542 and parameters: {'w1': 0.003682615691465484, 'w2': 0.25765321773140615, 'w3': 0.8559148371971991, 'w4': 0.9536404269466351}. Best is trial 47 with value: -0.9116677774952698.\u001b[0m\n",
      "\u001b[32m[I 2022-07-01 04:25:26,807]\u001b[0m Trial 71 finished with value: -0.9116161127265718 and parameters: {'w1': 0.07606903895270821, 'w2': 0.4197421627699249, 'w3': 0.8927013867687659, 'w4': 0.7086709362748959}. Best is trial 47 with value: -0.9116677774952698.\u001b[0m\n",
      "\u001b[32m[I 2022-07-01 04:25:48,692]\u001b[0m Trial 72 finished with value: -0.9115600739865055 and parameters: {'w1': 0.09799307940341738, 'w2': 0.36427536277272166, 'w3': 0.8854145848713046, 'w4': 0.6156565662707114}. Best is trial 47 with value: -0.9116677774952698.\u001b[0m\n",
      "\u001b[32m[I 2022-07-01 04:26:11,360]\u001b[0m Trial 73 finished with value: -0.9116176920032352 and parameters: {'w1': 0.04575424734532513, 'w2': 0.41651696628967494, 'w3': 0.9016980697846804, 'w4': 0.7071760355419774}. Best is trial 47 with value: -0.9116677774952698.\u001b[0m\n",
      "\u001b[32m[I 2022-07-01 04:26:32,580]\u001b[0m Trial 74 finished with value: -0.9115277658218278 and parameters: {'w1': 0.041724685149377626, 'w2': 0.41869693937170266, 'w3': 0.9120818205400795, 'w4': 0.8313328188382271}. Best is trial 47 with value: -0.9116677774952698.\u001b[0m\n",
      "\u001b[32m[I 2022-07-01 04:26:54,295]\u001b[0m Trial 75 finished with value: -0.9114604532510611 and parameters: {'w1': 0.12767340835918886, 'w2': 0.38751087756722646, 'w3': 0.8403155561443123, 'w4': 0.7799145212480013}. Best is trial 47 with value: -0.9116677774952698.\u001b[0m\n",
      "\u001b[32m[I 2022-07-01 04:27:16,996]\u001b[0m Trial 76 finished with value: -0.9115704265782127 and parameters: {'w1': 0.17704433536928538, 'w2': 0.513840768853912, 'w3': 0.9017957419232819, 'w4': 0.7360304033084725}. Best is trial 47 with value: -0.9116677774952698.\u001b[0m\n",
      "\u001b[32m[I 2022-07-01 04:27:38,499]\u001b[0m Trial 77 finished with value: -0.9116549349896135 and parameters: {'w1': 0.10098852938103033, 'w2': 0.5550168602486842, 'w3': 0.757362173368184, 'w4': 0.549453124430052}. Best is trial 47 with value: -0.9116677774952698.\u001b[0m\n",
      "\u001b[32m[I 2022-07-01 04:27:59,801]\u001b[0m Trial 78 finished with value: -0.9114289258365398 and parameters: {'w1': 0.051418862747220136, 'w2': 0.5591502187220576, 'w3': 0.9635637662489906, 'w4': 0.5523728597252525}. Best is trial 47 with value: -0.9116677774952698.\u001b[0m\n",
      "\u001b[32m[I 2022-07-01 04:28:22,337]\u001b[0m Trial 79 finished with value: -0.9115547666505557 and parameters: {'w1': 0.002534439729947449, 'w2': 0.45496249915277953, 'w3': 0.7385380755601196, 'w4': 0.49903180966202526}. Best is trial 47 with value: -0.9116677774952698.\u001b[0m\n",
      "\u001b[32m[I 2022-07-01 04:28:44,235]\u001b[0m Trial 80 finished with value: -0.9116630250335459 and parameters: {'w1': 0.11731276430104219, 'w2': 0.6145832794517129, 'w3': 0.7938054571714855, 'w4': 0.6336565651519146}. Best is trial 47 with value: -0.9116677774952698.\u001b[0m\n",
      "\u001b[32m[I 2022-07-01 04:29:06,645]\u001b[0m Trial 81 finished with value: -0.9116216927463954 and parameters: {'w1': 0.12083692837593968, 'w2': 0.6020305866508672, 'w3': 0.7860706091618183, 'w4': 0.6438976405253701}. Best is trial 47 with value: -0.9116677774952698.\u001b[0m\n",
      "\u001b[32m[I 2022-07-01 04:29:28,174]\u001b[0m Trial 82 finished with value: -0.9116739784645157 and parameters: {'w1': 0.1428252762464761, 'w2': 0.5984571658096992, 'w3': 0.8616239127263732, 'w4': 0.630798649141279}. Best is trial 82 with value: -0.9116739784645157.\u001b[0m\n",
      "\u001b[32m[I 2022-07-01 04:29:50,292]\u001b[0m Trial 83 finished with value: -0.9116588030683871 and parameters: {'w1': 0.113445777149239, 'w2': 0.6063183979977974, 'w3': 0.7830873940633093, 'w4': 0.625562597013671}. Best is trial 82 with value: -0.9116739784645157.\u001b[0m\n",
      "\u001b[32m[I 2022-07-01 04:30:13,208]\u001b[0m Trial 84 finished with value: -0.9115425118533388 and parameters: {'w1': 0.21654055694021818, 'w2': 0.6119128180565527, 'w3': 0.7550986463095258, 'w4': 0.5948483697003879}. Best is trial 82 with value: -0.9116739784645157.\u001b[0m\n",
      "\u001b[32m[I 2022-07-01 04:30:35,005]\u001b[0m Trial 85 finished with value: -0.9115239795706833 and parameters: {'w1': 0.14822175328443601, 'w2': 0.6631628909318508, 'w3': 0.6862743409199225, 'w4': 0.6320034679224565}. Best is trial 82 with value: -0.9116739784645157.\u001b[0m\n",
      "\u001b[32m[I 2022-07-01 04:30:56,906]\u001b[0m Trial 86 finished with value: -0.9116320012041624 and parameters: {'w1': 0.12016768026210078, 'w2': 0.5911768646106097, 'w3': 0.7948351368955278, 'w4': 0.654402442558748}. Best is trial 82 with value: -0.9116739784645157.\u001b[0m\n",
      "\u001b[32m[I 2022-07-01 04:31:18,794]\u001b[0m Trial 87 finished with value: -0.9114965246460011 and parameters: {'w1': 0.18118568253675038, 'w2': 0.7392770936121427, 'w3': 0.7074065191314681, 'w4': 0.5830288126822377}. Best is trial 82 with value: -0.9116739784645157.\u001b[0m\n",
      "\u001b[32m[I 2022-07-01 04:31:39,796]\u001b[0m Trial 88 finished with value: -0.9114057719399001 and parameters: {'w1': 0.10571501724861974, 'w2': 0.6911418884829825, 'w3': 0.6395921207513492, 'w4': 0.5251368454009873}. Best is trial 82 with value: -0.9116739784645157.\u001b[0m\n",
      "\u001b[32m[I 2022-07-01 04:32:01,992]\u001b[0m Trial 89 finished with value: -0.9115855628910965 and parameters: {'w1': 0.13938862589717607, 'w2': 0.6543043498161111, 'w3': 0.8660141910068797, 'w4': 0.5601950782746188}. Best is trial 82 with value: -0.9116739784645157.\u001b[0m\n",
      "\u001b[32m[I 2022-07-01 04:32:24,469]\u001b[0m Trial 90 finished with value: -0.9116865579042683 and parameters: {'w1': 0.02904123684359341, 'w2': 0.5875402594381082, 'w3': 0.799308398916087, 'w4': 0.6554742092370541}. Best is trial 90 with value: -0.9116865579042683.\u001b[0m\n",
      "\u001b[32m[I 2022-07-01 04:32:46,121]\u001b[0m Trial 91 finished with value: -0.9116895050599345 and parameters: {'w1': 0.028315359894302457, 'w2': 0.58368707263737, 'w3': 0.7958674345426925, 'w4': 0.6604906722274965}. Best is trial 91 with value: -0.9116895050599345.\u001b[0m\n",
      "\u001b[32m[I 2022-07-01 04:33:09,074]\u001b[0m Trial 92 finished with value: -0.9116951515537959 and parameters: {'w1': 0.022146734872086047, 'w2': 0.5810213344656361, 'w3': 0.7964750727129736, 'w4': 0.6615642114556632}. Best is trial 92 with value: -0.9116951515537959.\u001b[0m\n",
      "\u001b[32m[I 2022-07-01 04:33:31,151]\u001b[0m Trial 93 finished with value: -0.9116932360410808 and parameters: {'w1': 0.02571305035427461, 'w2': 0.5589925211363063, 'w3': 0.7415007534811872, 'w4': 0.6180437945722406}. Best is trial 92 with value: -0.9116951515537959.\u001b[0m\n",
      "\u001b[32m[I 2022-07-01 04:33:53,383]\u001b[0m Trial 94 finished with value: -0.9116275847418518 and parameters: {'w1': 0.027339786087415045, 'w2': 0.6391876844825406, 'w3': 0.7376773059041236, 'w4': 0.628198016307064}. Best is trial 92 with value: -0.9116951515537959.\u001b[0m\n",
      "\u001b[32m[I 2022-07-01 04:34:16,109]\u001b[0m Trial 95 finished with value: -0.9116369185395912 and parameters: {'w1': 0.023904882951603118, 'w2': 0.548512226662754, 'w3': 0.7592940468224536, 'w4': 0.6017008559721463}. Best is trial 92 with value: -0.9116951515537959.\u001b[0m\n",
      "\u001b[32m[I 2022-07-01 04:34:37,125]\u001b[0m Trial 96 finished with value: -0.9114142713193395 and parameters: {'w1': 0.021907254424013388, 'w2': 0.5774565685635898, 'w3': 0.6766617686213284, 'w4': 0.49266927018032936}. Best is trial 92 with value: -0.9116951515537959.\u001b[0m\n",
      "\u001b[32m[I 2022-07-01 04:34:58,805]\u001b[0m Trial 97 finished with value: -0.911591697774858 and parameters: {'w1': 0.0008373460873417731, 'w2': 0.6362193122452264, 'w3': 0.8059262813679811, 'w4': 0.6645244995390144}. Best is trial 92 with value: -0.9116951515537959.\u001b[0m\n",
      "\u001b[32m[I 2022-07-01 04:35:21,572]\u001b[0m Trial 98 finished with value: -0.9111946224692956 and parameters: {'w1': 0.09603014068440079, 'w2': 0.7918882883095875, 'w3': 0.6606497742218137, 'w4': 0.5700881945034493}. Best is trial 92 with value: -0.9116951515537959.\u001b[0m\n",
      "\u001b[32m[I 2022-07-01 04:35:43,303]\u001b[0m Trial 99 finished with value: -0.9114870553542603 and parameters: {'w1': 0.0327389926897207, 'w2': 0.6962226408475478, 'w3': 0.7744552879218499, 'w4': 0.6093466808842052}. Best is trial 92 with value: -0.9116951515537959.\u001b[0m\n"
     ]
    }
   ],
   "source": [
    "study = optuna.create_study()\n",
    "study.optimize(objective, n_trials=100)"
   ]
  },
  {
   "cell_type": "code",
   "execution_count": 21,
   "metadata": {},
   "outputs": [],
   "source": [
    "w1 = 0.02571305035427461\n",
    "w2 = 0.5589925211363063\n",
    "w3 = 0.7415007534811872\n",
    "w4 = 0.6180437945722406\n",
    "wsum = w1 + w2 + w3 + w4\n",
    "w1 /= wsum\n",
    "w2 /= wsum\n",
    "w3 /= wsum\n",
    "w4 /= wsum"
   ]
  },
  {
   "cell_type": "code",
   "execution_count": 22,
   "metadata": {},
   "outputs": [
    {
     "name": "stdout",
     "output_type": "stream",
     "text": [
      "0.013225176172449034 0.28751060139700985 0.3813813593361608 0.31788286309438024\n"
     ]
    }
   ],
   "source": [
    "print(w1,w2,w3,w4)"
   ]
  },
  {
   "cell_type": "code",
   "execution_count": 23,
   "metadata": {},
   "outputs": [
    {
     "name": "stdout",
     "output_type": "stream",
     "text": [
      "0.9116932360410808\n"
     ]
    }
   ],
   "source": [
    "# cv check\n",
    "train_fold0[\"ensemble\"] = train_fold0[\"pred\"]*w1 + roberta.reshape(-1)*w2 + deberta.reshape(-1)*w3 + train_fold0[\"cat_pred\"]*w4\n",
    "val_tr_ = train_fold0[train_fold0[\"ensemble\"] >= 0.5].reset_index(drop=True)\n",
    "val_id = train_raw[train_raw[\"set\"] == 0][\"id\"].unique()\n",
    "val_id_match = pd.DataFrame()\n",
    "val_id_match[\"id\"] = val_id\n",
    "val_id_match[\"near_id\"] = val_id\n",
    "val_all = pd.concat([val_id_match,val_tr_[[\"id\",\"near_id\"]]]).reset_index(drop=True)\n",
    "val_all_ = val_all.copy()\n",
    "val_all_.columns = [\"near_id\",\"id\"]\n",
    "val_all = pd.concat([val_all,val_all_]).reset_index(drop=True)\n",
    "val_all = val_all.drop_duplicates(subset=[\"id\",\"near_id\"]).reset_index(drop=True)\n",
    "del val_all_\n",
    "gc.collect()\n",
    "val_all = val_all.merge(train_raw[[\"id\",\"point_of_interest\"]],how=\"left\",on=\"id\").reset_index(drop=True)\n",
    "id2poi = get_id2poi(val_all)\n",
    "poi2ids = get_poi2ids(val_all)\n",
    "docs = val_all.groupby(\"id\")[\"near_id\"].apply(join)\n",
    "docs = docs.reset_index()\n",
    "docs.columns = [\"id\",\"matches\"]\n",
    "score = get_score(docs)\n",
    "print(score)"
   ]
  },
  {
   "cell_type": "code",
   "execution_count": 24,
   "metadata": {},
   "outputs": [
    {
     "name": "stderr",
     "output_type": "stream",
     "text": [
      "100%|██████████| 31243/31243 [25:11<00:00, 20.67it/s] \n"
     ]
    }
   ],
   "source": [
    "# pp\n",
    "docs[\"matches_len\"] = docs[\"matches\"].map(lambda x:len(x.split(\" \")))\n",
    "df_docs_3 = docs[docs[\"matches_len\"] > 3].reset_index(drop=True)\n",
    "near_id_value = df_docs_3[\"matches\"].values\n",
    "id_list = df_docs_3[\"id\"].values\n",
    "key_id_list = []\n",
    "for n,key_id in tqdm(enumerate(id_list),total=len(id_list)):\n",
    "    if key_id in(key_id_list):\n",
    "        pass\n",
    "    else:\n",
    "        len_list = []\n",
    "        key_near_id = near_id_value[n]\n",
    "        a = len(key_near_id.split(\" \"))\n",
    "        for near_id in near_id_value:\n",
    "            b = len(near_id.split(\" \"))\n",
    "            c = len(set(key_near_id.split(\" \")) & set(near_id.split(\" \")))\n",
    "            len_list.append([a,b,c])\n",
    "        df = pd.DataFrame(len_list)\n",
    "        df.columns = [\"id_len\",\"near_id_len\",\"common_len\"]\n",
    "        df[\"id_rate\"] =  df[\"common_len\"] / df[\"id_len\"]\n",
    "        df[\"near_id_rate\"] = df[\"common_len\"] / df[\"near_id_len\"]\n",
    "        df[\"id\"] = id_list\n",
    "        df = df[df[\"common_len\"] != 0].reset_index(drop=True)\n",
    "        df = df[(df[\"id_rate\"] >= 0.5) | (df[\"near_id_rate\"] >= 0.5)].reset_index(drop=True)\n",
    "        if len(df) > 1:\n",
    "            for k in df[\"id\"]:\n",
    "                key_id_list.append(k)\n",
    "            all_id = near_id_value[df_docs_3[\"id\"].isin(df[\"id\"])]\n",
    "            all_id_concat = []\n",
    "            for i in all_id:\n",
    "                all_id_concat += i.split(\" \")\n",
    "            all_id_unique = list(set(all_id_concat))\n",
    "            near_id_value[df_docs_3[\"id\"].isin(df[\"id\"])] = \" \".join(all_id_unique)"
   ]
  },
  {
   "cell_type": "code",
   "execution_count": 25,
   "metadata": {},
   "outputs": [
    {
     "name": "stdout",
     "output_type": "stream",
     "text": [
      "0.915899871335202\n"
     ]
    }
   ],
   "source": [
    "df_docs_3_ = df_docs_3.copy()\n",
    "df_docs_3_[\"matches\"] = near_id_value\n",
    "df_docs_under_3 = docs[docs[\"matches_len\"] <= 3].reset_index(drop=True)\n",
    "df_docs = pd.concat([df_docs_under_3[[\"id\",\"matches\"]],df_docs_3_[[\"id\",\"matches\"]]]).reset_index(drop=True)\n",
    "score = get_score(df_docs)\n",
    "print(score)"
   ]
  },
  {
   "cell_type": "code",
   "execution_count": 26,
   "metadata": {},
   "outputs": [],
   "source": [
    "df_docs_3_.to_csv(f\"../output/exp/ex{exp}/exp{exp}_pp_only.csv\",index=False)\n",
    "df_docs.to_csv(f\"../output/exp/ex{exp}/exp{exp}_pp.csv\",index=False)"
   ]
  },
  {
   "cell_type": "code",
   "execution_count": 27,
   "metadata": {},
   "outputs": [
    {
     "name": "stderr",
     "output_type": "stream",
     "text": [
      "100%|██████████| 31243/31243 [00:44<00:00, 706.20it/s]\n"
     ]
    }
   ],
   "source": [
    "new_pair = []\n",
    "id_array = df_docs_3_[\"id\"].values\n",
    "match_array = df_docs_3_[\"matches\"].values\n",
    "for i in tqdm(range(len(df_docs_3_))):\n",
    "    id_ = id_array[i]\n",
    "    match_ = match_array[i]\n",
    "    df_ = pd.DataFrame()\n",
    "    df_[\"near_id\"] = match_.split(\" \")\n",
    "    df_[\"id\"] = id_\n",
    "    new_pair.append(df_)"
   ]
  },
  {
   "cell_type": "code",
   "execution_count": 28,
   "metadata": {},
   "outputs": [],
   "source": [
    "val_all[\"id_near_id\"] = val_all[\"id\"].astype(str) + \"-\" + val_all[\"near_id\"].astype(str)\n",
    "new_pair = pd.concat(new_pair).reset_index(drop=True)\n",
    "new_pair[\"id_near_id\"] = new_pair[\"id\"].astype(str) + \"-\" + new_pair[\"near_id\"].astype(str)\n",
    "new_pair = new_pair[~new_pair[\"id_near_id\"].isin(val_all[\"id_near_id\"])].reset_index(drop=True)"
   ]
  },
  {
   "cell_type": "code",
   "execution_count": 29,
   "metadata": {},
   "outputs": [],
   "source": [
    "new_pair = new_pair.merge(train_raw[[\"id\",\"point_of_interest\"]],how=\"left\",on=\"id\")\n",
    "train_raw_ = train_raw[[\"id\",\"point_of_interest\"]].copy()\n",
    "train_raw_.columns = [\"near_id\",\"near_point_of_interest\"]\n",
    "new_pair = new_pair.merge(train_raw_[[\"near_id\",\"near_point_of_interest\"]],how=\"left\",on=\"near_id\")\n",
    "new_pair[\"target\"] = new_pair[\"point_of_interest\"] == new_pair[\"near_point_of_interest\"]\n",
    "new_pair[\"target\"] = new_pair[\"target\"].astype(int)"
   ]
  },
  {
   "cell_type": "code",
   "execution_count": 31,
   "metadata": {},
   "outputs": [],
   "source": [
    "new_pair.to_csv(\"../output/exp/ex113/ex113_pp_new_pair_fold0.csv\",index=False)"
   ]
  }
 ],
 "metadata": {
  "kernelspec": {
   "display_name": "Python 3 (ipykernel)",
   "language": "python",
   "name": "python3"
  },
  "language_info": {
   "codemirror_mode": {
    "name": "ipython",
    "version": 3
   },
   "file_extension": ".py",
   "mimetype": "text/x-python",
   "name": "python",
   "nbconvert_exporter": "python",
   "pygments_lexer": "ipython3",
   "version": "3.7.10"
  }
 },
 "nbformat": 4,
 "nbformat_minor": 4
}
