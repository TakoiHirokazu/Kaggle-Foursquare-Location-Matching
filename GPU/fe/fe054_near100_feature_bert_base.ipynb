{
 "cells": [
  {
   "cell_type": "code",
   "execution_count": 1,
   "id": "ca386505",
   "metadata": {},
   "outputs": [
    {
     "data": {
      "text/html": [
       "<style type='text/css'>\n",
       ".datatable table.frame { margin-bottom: 0; }\n",
       ".datatable table.frame thead { border-bottom: none; }\n",
       ".datatable table.frame tr.coltypes td {  color: #FFFFFF;  line-height: 6px;  padding: 0 0.5em;}\n",
       ".datatable .bool    { background: #DDDD99; }\n",
       ".datatable .object  { background: #565656; }\n",
       ".datatable .int     { background: #5D9E5D; }\n",
       ".datatable .float   { background: #4040CC; }\n",
       ".datatable .str     { background: #CC4040; }\n",
       ".datatable .time    { background: #40CC40; }\n",
       ".datatable .row_index {  background: var(--jp-border-color3);  border-right: 1px solid var(--jp-border-color0);  color: var(--jp-ui-font-color3);  font-size: 9px;}\n",
       ".datatable .frame tbody td { text-align: left; }\n",
       ".datatable .frame tr.coltypes .row_index {  background: var(--jp-border-color0);}\n",
       ".datatable th:nth-child(2) { padding-left: 12px; }\n",
       ".datatable .hellipsis {  color: var(--jp-cell-editor-border-color);}\n",
       ".datatable .vellipsis {  background: var(--jp-layout-color0);  color: var(--jp-cell-editor-border-color);}\n",
       ".datatable .na {  color: var(--jp-cell-editor-border-color);  font-size: 80%;}\n",
       ".datatable .sp {  opacity: 0.25;}\n",
       ".datatable .footer { font-size: 9px; }\n",
       ".datatable .frame_dimensions {  background: var(--jp-border-color3);  border-top: 1px solid var(--jp-border-color0);  color: var(--jp-ui-font-color3);  display: inline-block;  opacity: 0.6;  padding: 1px 10px 1px 5px;}\n",
       "</style>\n"
      ],
      "text/plain": [
       "<IPython.core.display.HTML object>"
      ]
     },
     "metadata": {},
     "output_type": "display_data"
    }
   ],
   "source": [
    "# =========================\n",
    "# Library\n",
    "# =========================\n",
    "import pandas as pd\n",
    "import numpy as np\n",
    "import matplotlib.pyplot as plt\n",
    "from tqdm.auto import tqdm\n",
    "import os\n",
    "import gc\n",
    "import random\n",
    "from glob import glob\n",
    "from sklearn.model_selection import GroupKFold, KFold, StratifiedKFold\n",
    "import warnings\n",
    "import seaborn as sns\n",
    "import pickle\n",
    "import json\n",
    "import re\n",
    "import time\n",
    "import sys\n",
    "from requests import get\n",
    "import multiprocessing\n",
    "import joblib\n",
    "import Levenshtein\n",
    "import difflib\n",
    "from contextlib import contextmanager\n",
    "from sklearn.neighbors import KNeighborsRegressor\n",
    "from sklearn.metrics import log_loss\n",
    "from sklearn.decomposition import TruncatedSVD\n",
    "from cuml.neighbors import NearestNeighbors\n",
    "warnings.filterwarnings('ignore')\n",
    "import sys\n",
    "sys.path.append(\"../src/\")\n",
    "from logger import setup_logger, LOGGER\n",
    "from trainer import train_lgbm\n",
    "from util_tool import reduce_mem_usage\n",
    "pd.set_option('display.max_columns', 300)"
   ]
  },
  {
   "cell_type": "code",
   "execution_count": 2,
   "id": "51b211c0",
   "metadata": {},
   "outputs": [],
   "source": [
    "# =========================\n",
    "# Constant\n",
    "# =========================\n",
    "TRAIN_PATH = \"../data/train.csv\"\n",
    "TARGET = \"point_of_interest\""
   ]
  },
  {
   "cell_type": "code",
   "execution_count": 3,
   "id": "c1ee6cbf",
   "metadata": {},
   "outputs": [],
   "source": [
    "# =========================\n",
    "# Settings\n",
    "# =========================\n",
    "fe = \"054\"\n",
    "n_neighbors = 100"
   ]
  },
  {
   "cell_type": "code",
   "execution_count": 4,
   "id": "38c2eb87",
   "metadata": {},
   "outputs": [],
   "source": [
    "if not os.path.exists(f\"../output/fe/fe{fe}\"):\n",
    "    os.makedirs(f\"../output/fe/fe{fe}\")\n",
    "    os.makedirs(f\"../output/fe/fe{fe}/model\")"
   ]
  },
  {
   "cell_type": "code",
   "execution_count": 5,
   "id": "9c696016",
   "metadata": {
    "tags": []
   },
   "outputs": [],
   "source": [
    "# =========================\n",
    "# Functions\n",
    "# =========================\n",
    "def add_neighbor_name_emb(df, emb):\n",
    "    dfs = []\n",
    "    columns = ['id', 'name','latitude','longitude']\n",
    "    country = df[\"country\"].unique()\n",
    "\n",
    "    for c in tqdm(country):\n",
    "        if str(c) == \"nan\":\n",
    "            continue\n",
    "        concat_df = []\n",
    "        country_df = df[df[\"country\"] == c].reset_index(drop=True)\n",
    "        country_name_emb = emb[df[\"country\"] == c]\n",
    "        knn = NearestNeighbors(n_neighbors=min(len(country_df), n_neighbors),metric=\"cosine\")\n",
    "        knn.fit(country_name_emb)\n",
    "        dists, nears = knn.kneighbors(country_name_emb)\n",
    "        targets = country_df[TARGET].values\n",
    "        for i in range(min(len(country_df), n_neighbors)):\n",
    "            country_df_ = country_df.copy()\n",
    "            country_df_[\"rank\"] = i\n",
    "            country_df_[f\"d_near\"] = dists[:, i]\n",
    "            country_df_[f\"near_target\"] = targets[nears[:, i]]\n",
    "            for c in columns:\n",
    "                country_df_[f\"near_{c}\"] = country_df_[c].values[nears[:, i]]\n",
    "            concat_df.append(country_df_)\n",
    "        concat_df = pd.concat(concat_df).reset_index(drop=True)\n",
    "        dfs.append(concat_df)\n",
    "    df = pd.concat(dfs).reset_index(drop=True)\n",
    "    return df"
   ]
  },
  {
   "cell_type": "code",
   "execution_count": 6,
   "id": "2456ce15",
   "metadata": {},
   "outputs": [],
   "source": [
    "# ============================\n",
    "# Main\n",
    "# ============================\n",
    "train = pd.read_csv(TRAIN_PATH)"
   ]
  },
  {
   "cell_type": "code",
   "execution_count": 7,
   "id": "8aff5a80",
   "metadata": {},
   "outputs": [
    {
     "data": {
      "text/plain": [
       "0.0    569406\n",
       "1.0    569406\n",
       "Name: set, dtype: int64"
      ]
     },
     "execution_count": 7,
     "metadata": {},
     "output_type": "execute_result"
    }
   ],
   "source": [
    "kf = GroupKFold(n_splits=2)\n",
    "for i, (trn_idx, val_idx) in enumerate(kf.split(train, train[TARGET],\n",
    "                                                train[TARGET])):\n",
    "    train.loc[val_idx, \"set\"] = i\n",
    "train[\"set\"].value_counts()"
   ]
  },
  {
   "cell_type": "code",
   "execution_count": 8,
   "id": "d3b13a85",
   "metadata": {},
   "outputs": [],
   "source": [
    "train[\"name\"] = train[\"name\"].astype(str)\n",
    "train[\"name\"] = train[\"name\"].str.lower()"
   ]
  },
  {
   "cell_type": "code",
   "execution_count": 9,
   "id": "74fd573d",
   "metadata": {},
   "outputs": [],
   "source": [
    "emb = np.load(\"../output/fe/fe029/model/bert_base_multilingual_embedding.npy\")\n",
    "name = np.load(\"../output/fe/fe029/model/name.npy\",allow_pickle=True)"
   ]
  },
  {
   "cell_type": "code",
   "execution_count": 10,
   "id": "af6d7e90",
   "metadata": {},
   "outputs": [],
   "source": [
    "name_dict = {}\n",
    "for n,i in enumerate(name):\n",
    "    name_dict[i] = n"
   ]
  },
  {
   "cell_type": "code",
   "execution_count": 11,
   "id": "bf0e2701",
   "metadata": {},
   "outputs": [],
   "source": [
    "train[\"name_num\"] = train[\"name\"].map(name_dict)"
   ]
  },
  {
   "cell_type": "code",
   "execution_count": 12,
   "id": "c0b00db2",
   "metadata": {},
   "outputs": [],
   "source": [
    "name_emb = np.zeros([len(train),768],dtype=np.float32)\n",
    "for n,i in enumerate(train[\"name_num\"].values):\n",
    "    name_emb[n,:] = emb[i]"
   ]
  },
  {
   "cell_type": "code",
   "execution_count": 13,
   "id": "15c7f4c2",
   "metadata": {},
   "outputs": [
    {
     "data": {
      "application/vnd.jupyter.widget-view+json": {
       "model_id": "e67dbe9cb4f74099877388673c18ea17",
       "version_major": 2,
       "version_minor": 0
      },
      "text/plain": [
       "  0%|          | 0/210 [00:00<?, ?it/s]"
      ]
     },
     "metadata": {},
     "output_type": "display_data"
    },
    {
     "data": {
      "application/vnd.jupyter.widget-view+json": {
       "model_id": "33e8509e3b99419c94acd76a12a220c0",
       "version_major": 2,
       "version_minor": 0
      },
      "text/plain": [
       "  0%|          | 0/211 [00:00<?, ?it/s]"
      ]
     },
     "metadata": {},
     "output_type": "display_data"
    }
   ],
   "source": [
    "train_ = add_neighbor_name_emb(train.loc[train[\"set\"] == 0].reset_index(drop=True),name_emb[train[\"set\"] == 0])\n",
    "val_ = add_neighbor_name_emb(train.loc[train[\"set\"] == 1].reset_index(drop=True),name_emb[train[\"set\"] == 1])"
   ]
  },
  {
   "cell_type": "code",
   "execution_count": 14,
   "id": "cd598d97",
   "metadata": {},
   "outputs": [],
   "source": [
    "train = pd.concat([train_, val_]).reset_index(drop=True)\n",
    "del train_,val_\n",
    "gc.collect()\n",
    "train[\"match\"] = train[\"id\"] == train[\"near_id\"]\n",
    "train[\"match\"] = train[\"match\"].astype(int)\n",
    "train = train[train[\"match\"] == 0].reset_index(drop=True)"
   ]
  },
  {
   "cell_type": "code",
   "execution_count": 16,
   "id": "8695b80a",
   "metadata": {},
   "outputs": [
    {
     "name": "stdout",
     "output_type": "stream",
     "text": [
      "Memory usage of dataframe is 15241.55 MB\n",
      "column =  23\n",
      "0\n",
      "Memory usage after optimization is: 15241.55 MB\n",
      "Decreased by 0.0%\n"
     ]
    }
   ],
   "source": [
    "train = reduce_mem_usage(train)\n",
    "train.to_pickle(f\"../output/fe/fe{fe}/model/fe{fe}_{n_neighbors}_name_emb_near.pkl\")"
   ]
  }
 ],
 "metadata": {
  "kernelspec": {
   "display_name": "Python 3 (ipykernel)",
   "language": "python",
   "name": "python3"
  },
  "language_info": {
   "codemirror_mode": {
    "name": "ipython",
    "version": 3
   },
   "file_extension": ".py",
   "mimetype": "text/x-python",
   "name": "python",
   "nbconvert_exporter": "python",
   "pygments_lexer": "ipython3",
   "version": "3.7.12"
  }
 },
 "nbformat": 4,
 "nbformat_minor": 5
}
